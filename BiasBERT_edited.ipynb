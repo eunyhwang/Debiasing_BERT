{
  "nbformat": 4,
  "nbformat_minor": 0,
  "metadata": {
    "colab": {
      "name": "BiasBERT_edited",
      "provenance": [],
      "toc_visible": true,
      "include_colab_link": true
    },
    "kernelspec": {
      "name": "python3",
      "display_name": "Python 3"
    },
    "widgets": {
      "application/vnd.jupyter.widget-state+json": {
        "bbf5940af223446bb5b74e2e18d1324a": {
          "model_module": "@jupyter-widgets/controls",
          "model_name": "HBoxModel",
          "state": {
            "_view_name": "HBoxView",
            "_dom_classes": [],
            "_model_name": "HBoxModel",
            "_view_module": "@jupyter-widgets/controls",
            "_model_module_version": "1.5.0",
            "_view_count": null,
            "_view_module_version": "1.5.0",
            "box_style": "",
            "layout": "IPY_MODEL_637845c8b39748e7b552949fd6072534",
            "_model_module": "@jupyter-widgets/controls",
            "children": [
              "IPY_MODEL_0d0b67c96e6a452bbc1e310081847123",
              "IPY_MODEL_34e3b6c8200b4ed2aa053a90c202b867"
            ]
          }
        },
        "637845c8b39748e7b552949fd6072534": {
          "model_module": "@jupyter-widgets/base",
          "model_name": "LayoutModel",
          "state": {
            "_view_name": "LayoutView",
            "grid_template_rows": null,
            "right": null,
            "justify_content": null,
            "_view_module": "@jupyter-widgets/base",
            "overflow": null,
            "_model_module_version": "1.2.0",
            "_view_count": null,
            "flex_flow": null,
            "width": null,
            "min_width": null,
            "border": null,
            "align_items": null,
            "bottom": null,
            "_model_module": "@jupyter-widgets/base",
            "top": null,
            "grid_column": null,
            "overflow_y": null,
            "overflow_x": null,
            "grid_auto_flow": null,
            "grid_area": null,
            "grid_template_columns": null,
            "flex": null,
            "_model_name": "LayoutModel",
            "justify_items": null,
            "grid_row": null,
            "max_height": null,
            "align_content": null,
            "visibility": null,
            "align_self": null,
            "height": null,
            "min_height": null,
            "padding": null,
            "grid_auto_rows": null,
            "grid_gap": null,
            "max_width": null,
            "order": null,
            "_view_module_version": "1.2.0",
            "grid_template_areas": null,
            "object_position": null,
            "object_fit": null,
            "grid_auto_columns": null,
            "margin": null,
            "display": null,
            "left": null
          }
        },
        "0d0b67c96e6a452bbc1e310081847123": {
          "model_module": "@jupyter-widgets/controls",
          "model_name": "FloatProgressModel",
          "state": {
            "_view_name": "ProgressView",
            "style": "IPY_MODEL_99311fc9c4124001a0adc19329a06204",
            "_dom_classes": [],
            "description": "Downloading: 100%",
            "_model_name": "FloatProgressModel",
            "bar_style": "success",
            "max": 29,
            "_view_module": "@jupyter-widgets/controls",
            "_model_module_version": "1.5.0",
            "value": 29,
            "_view_count": null,
            "_view_module_version": "1.5.0",
            "orientation": "horizontal",
            "min": 0,
            "description_tooltip": null,
            "_model_module": "@jupyter-widgets/controls",
            "layout": "IPY_MODEL_ef1174c0617043d7a0e9b84118917c50"
          }
        },
        "34e3b6c8200b4ed2aa053a90c202b867": {
          "model_module": "@jupyter-widgets/controls",
          "model_name": "HTMLModel",
          "state": {
            "_view_name": "HTMLView",
            "style": "IPY_MODEL_b65cc65a1c564780953b9180e64c0f43",
            "_dom_classes": [],
            "description": "",
            "_model_name": "HTMLModel",
            "placeholder": "​",
            "_view_module": "@jupyter-widgets/controls",
            "_model_module_version": "1.5.0",
            "value": " 29.0/29.0 [00:01&lt;00:00, 17.8B/s]",
            "_view_count": null,
            "_view_module_version": "1.5.0",
            "description_tooltip": null,
            "_model_module": "@jupyter-widgets/controls",
            "layout": "IPY_MODEL_b6597b3d0b9e438bb4c824c887a3d56d"
          }
        },
        "99311fc9c4124001a0adc19329a06204": {
          "model_module": "@jupyter-widgets/controls",
          "model_name": "ProgressStyleModel",
          "state": {
            "_view_name": "StyleView",
            "_model_name": "ProgressStyleModel",
            "description_width": "initial",
            "_view_module": "@jupyter-widgets/base",
            "_model_module_version": "1.5.0",
            "_view_count": null,
            "_view_module_version": "1.2.0",
            "bar_color": null,
            "_model_module": "@jupyter-widgets/controls"
          }
        },
        "ef1174c0617043d7a0e9b84118917c50": {
          "model_module": "@jupyter-widgets/base",
          "model_name": "LayoutModel",
          "state": {
            "_view_name": "LayoutView",
            "grid_template_rows": null,
            "right": null,
            "justify_content": null,
            "_view_module": "@jupyter-widgets/base",
            "overflow": null,
            "_model_module_version": "1.2.0",
            "_view_count": null,
            "flex_flow": null,
            "width": null,
            "min_width": null,
            "border": null,
            "align_items": null,
            "bottom": null,
            "_model_module": "@jupyter-widgets/base",
            "top": null,
            "grid_column": null,
            "overflow_y": null,
            "overflow_x": null,
            "grid_auto_flow": null,
            "grid_area": null,
            "grid_template_columns": null,
            "flex": null,
            "_model_name": "LayoutModel",
            "justify_items": null,
            "grid_row": null,
            "max_height": null,
            "align_content": null,
            "visibility": null,
            "align_self": null,
            "height": null,
            "min_height": null,
            "padding": null,
            "grid_auto_rows": null,
            "grid_gap": null,
            "max_width": null,
            "order": null,
            "_view_module_version": "1.2.0",
            "grid_template_areas": null,
            "object_position": null,
            "object_fit": null,
            "grid_auto_columns": null,
            "margin": null,
            "display": null,
            "left": null
          }
        },
        "b65cc65a1c564780953b9180e64c0f43": {
          "model_module": "@jupyter-widgets/controls",
          "model_name": "DescriptionStyleModel",
          "state": {
            "_view_name": "StyleView",
            "_model_name": "DescriptionStyleModel",
            "description_width": "",
            "_view_module": "@jupyter-widgets/base",
            "_model_module_version": "1.5.0",
            "_view_count": null,
            "_view_module_version": "1.2.0",
            "_model_module": "@jupyter-widgets/controls"
          }
        },
        "b6597b3d0b9e438bb4c824c887a3d56d": {
          "model_module": "@jupyter-widgets/base",
          "model_name": "LayoutModel",
          "state": {
            "_view_name": "LayoutView",
            "grid_template_rows": null,
            "right": null,
            "justify_content": null,
            "_view_module": "@jupyter-widgets/base",
            "overflow": null,
            "_model_module_version": "1.2.0",
            "_view_count": null,
            "flex_flow": null,
            "width": null,
            "min_width": null,
            "border": null,
            "align_items": null,
            "bottom": null,
            "_model_module": "@jupyter-widgets/base",
            "top": null,
            "grid_column": null,
            "overflow_y": null,
            "overflow_x": null,
            "grid_auto_flow": null,
            "grid_area": null,
            "grid_template_columns": null,
            "flex": null,
            "_model_name": "LayoutModel",
            "justify_items": null,
            "grid_row": null,
            "max_height": null,
            "align_content": null,
            "visibility": null,
            "align_self": null,
            "height": null,
            "min_height": null,
            "padding": null,
            "grid_auto_rows": null,
            "grid_gap": null,
            "max_width": null,
            "order": null,
            "_view_module_version": "1.2.0",
            "grid_template_areas": null,
            "object_position": null,
            "object_fit": null,
            "grid_auto_columns": null,
            "margin": null,
            "display": null,
            "left": null
          }
        },
        "f37d703cb9904019be506b16b3ea80f2": {
          "model_module": "@jupyter-widgets/controls",
          "model_name": "HBoxModel",
          "state": {
            "_view_name": "HBoxView",
            "_dom_classes": [],
            "_model_name": "HBoxModel",
            "_view_module": "@jupyter-widgets/controls",
            "_model_module_version": "1.5.0",
            "_view_count": null,
            "_view_module_version": "1.5.0",
            "box_style": "",
            "layout": "IPY_MODEL_75127262b966413f90de893d085c905d",
            "_model_module": "@jupyter-widgets/controls",
            "children": [
              "IPY_MODEL_e74444a2745f4c77b980566b6f21d2c5",
              "IPY_MODEL_062fcc59eab54233a50b2a0b00e18499"
            ]
          }
        },
        "75127262b966413f90de893d085c905d": {
          "model_module": "@jupyter-widgets/base",
          "model_name": "LayoutModel",
          "state": {
            "_view_name": "LayoutView",
            "grid_template_rows": null,
            "right": null,
            "justify_content": null,
            "_view_module": "@jupyter-widgets/base",
            "overflow": null,
            "_model_module_version": "1.2.0",
            "_view_count": null,
            "flex_flow": null,
            "width": null,
            "min_width": null,
            "border": null,
            "align_items": null,
            "bottom": null,
            "_model_module": "@jupyter-widgets/base",
            "top": null,
            "grid_column": null,
            "overflow_y": null,
            "overflow_x": null,
            "grid_auto_flow": null,
            "grid_area": null,
            "grid_template_columns": null,
            "flex": null,
            "_model_name": "LayoutModel",
            "justify_items": null,
            "grid_row": null,
            "max_height": null,
            "align_content": null,
            "visibility": null,
            "align_self": null,
            "height": null,
            "min_height": null,
            "padding": null,
            "grid_auto_rows": null,
            "grid_gap": null,
            "max_width": null,
            "order": null,
            "_view_module_version": "1.2.0",
            "grid_template_areas": null,
            "object_position": null,
            "object_fit": null,
            "grid_auto_columns": null,
            "margin": null,
            "display": null,
            "left": null
          }
        },
        "e74444a2745f4c77b980566b6f21d2c5": {
          "model_module": "@jupyter-widgets/controls",
          "model_name": "FloatProgressModel",
          "state": {
            "_view_name": "ProgressView",
            "style": "IPY_MODEL_96785c17dfee4647aafcbce0ff7358ee",
            "_dom_classes": [],
            "description": "Downloading: 100%",
            "_model_name": "FloatProgressModel",
            "bar_style": "success",
            "max": 570,
            "_view_module": "@jupyter-widgets/controls",
            "_model_module_version": "1.5.0",
            "value": 570,
            "_view_count": null,
            "_view_module_version": "1.5.0",
            "orientation": "horizontal",
            "min": 0,
            "description_tooltip": null,
            "_model_module": "@jupyter-widgets/controls",
            "layout": "IPY_MODEL_958dbb3417544e27911dac0f587f5653"
          }
        },
        "062fcc59eab54233a50b2a0b00e18499": {
          "model_module": "@jupyter-widgets/controls",
          "model_name": "HTMLModel",
          "state": {
            "_view_name": "HTMLView",
            "style": "IPY_MODEL_813611cb8a40433bb4f95d9488269dcd",
            "_dom_classes": [],
            "description": "",
            "_model_name": "HTMLModel",
            "placeholder": "​",
            "_view_module": "@jupyter-widgets/controls",
            "_model_module_version": "1.5.0",
            "value": " 570/570 [00:00&lt;00:00, 694B/s]",
            "_view_count": null,
            "_view_module_version": "1.5.0",
            "description_tooltip": null,
            "_model_module": "@jupyter-widgets/controls",
            "layout": "IPY_MODEL_5675ac1af2d340db869197f25659c523"
          }
        },
        "96785c17dfee4647aafcbce0ff7358ee": {
          "model_module": "@jupyter-widgets/controls",
          "model_name": "ProgressStyleModel",
          "state": {
            "_view_name": "StyleView",
            "_model_name": "ProgressStyleModel",
            "description_width": "initial",
            "_view_module": "@jupyter-widgets/base",
            "_model_module_version": "1.5.0",
            "_view_count": null,
            "_view_module_version": "1.2.0",
            "bar_color": null,
            "_model_module": "@jupyter-widgets/controls"
          }
        },
        "958dbb3417544e27911dac0f587f5653": {
          "model_module": "@jupyter-widgets/base",
          "model_name": "LayoutModel",
          "state": {
            "_view_name": "LayoutView",
            "grid_template_rows": null,
            "right": null,
            "justify_content": null,
            "_view_module": "@jupyter-widgets/base",
            "overflow": null,
            "_model_module_version": "1.2.0",
            "_view_count": null,
            "flex_flow": null,
            "width": null,
            "min_width": null,
            "border": null,
            "align_items": null,
            "bottom": null,
            "_model_module": "@jupyter-widgets/base",
            "top": null,
            "grid_column": null,
            "overflow_y": null,
            "overflow_x": null,
            "grid_auto_flow": null,
            "grid_area": null,
            "grid_template_columns": null,
            "flex": null,
            "_model_name": "LayoutModel",
            "justify_items": null,
            "grid_row": null,
            "max_height": null,
            "align_content": null,
            "visibility": null,
            "align_self": null,
            "height": null,
            "min_height": null,
            "padding": null,
            "grid_auto_rows": null,
            "grid_gap": null,
            "max_width": null,
            "order": null,
            "_view_module_version": "1.2.0",
            "grid_template_areas": null,
            "object_position": null,
            "object_fit": null,
            "grid_auto_columns": null,
            "margin": null,
            "display": null,
            "left": null
          }
        },
        "813611cb8a40433bb4f95d9488269dcd": {
          "model_module": "@jupyter-widgets/controls",
          "model_name": "DescriptionStyleModel",
          "state": {
            "_view_name": "StyleView",
            "_model_name": "DescriptionStyleModel",
            "description_width": "",
            "_view_module": "@jupyter-widgets/base",
            "_model_module_version": "1.5.0",
            "_view_count": null,
            "_view_module_version": "1.2.0",
            "_model_module": "@jupyter-widgets/controls"
          }
        },
        "5675ac1af2d340db869197f25659c523": {
          "model_module": "@jupyter-widgets/base",
          "model_name": "LayoutModel",
          "state": {
            "_view_name": "LayoutView",
            "grid_template_rows": null,
            "right": null,
            "justify_content": null,
            "_view_module": "@jupyter-widgets/base",
            "overflow": null,
            "_model_module_version": "1.2.0",
            "_view_count": null,
            "flex_flow": null,
            "width": null,
            "min_width": null,
            "border": null,
            "align_items": null,
            "bottom": null,
            "_model_module": "@jupyter-widgets/base",
            "top": null,
            "grid_column": null,
            "overflow_y": null,
            "overflow_x": null,
            "grid_auto_flow": null,
            "grid_area": null,
            "grid_template_columns": null,
            "flex": null,
            "_model_name": "LayoutModel",
            "justify_items": null,
            "grid_row": null,
            "max_height": null,
            "align_content": null,
            "visibility": null,
            "align_self": null,
            "height": null,
            "min_height": null,
            "padding": null,
            "grid_auto_rows": null,
            "grid_gap": null,
            "max_width": null,
            "order": null,
            "_view_module_version": "1.2.0",
            "grid_template_areas": null,
            "object_position": null,
            "object_fit": null,
            "grid_auto_columns": null,
            "margin": null,
            "display": null,
            "left": null
          }
        },
        "57b88b470f1841b682f79d51f31ec7ce": {
          "model_module": "@jupyter-widgets/controls",
          "model_name": "HBoxModel",
          "state": {
            "_view_name": "HBoxView",
            "_dom_classes": [],
            "_model_name": "HBoxModel",
            "_view_module": "@jupyter-widgets/controls",
            "_model_module_version": "1.5.0",
            "_view_count": null,
            "_view_module_version": "1.5.0",
            "box_style": "",
            "layout": "IPY_MODEL_4dc9f8f2032e4c8b9c0fc25fd8156342",
            "_model_module": "@jupyter-widgets/controls",
            "children": [
              "IPY_MODEL_d0cc2f8467de4463bb321a0132e129ce",
              "IPY_MODEL_9c9f7a2e0452457b85af27eb9aa669f6"
            ]
          }
        },
        "4dc9f8f2032e4c8b9c0fc25fd8156342": {
          "model_module": "@jupyter-widgets/base",
          "model_name": "LayoutModel",
          "state": {
            "_view_name": "LayoutView",
            "grid_template_rows": null,
            "right": null,
            "justify_content": null,
            "_view_module": "@jupyter-widgets/base",
            "overflow": null,
            "_model_module_version": "1.2.0",
            "_view_count": null,
            "flex_flow": null,
            "width": null,
            "min_width": null,
            "border": null,
            "align_items": null,
            "bottom": null,
            "_model_module": "@jupyter-widgets/base",
            "top": null,
            "grid_column": null,
            "overflow_y": null,
            "overflow_x": null,
            "grid_auto_flow": null,
            "grid_area": null,
            "grid_template_columns": null,
            "flex": null,
            "_model_name": "LayoutModel",
            "justify_items": null,
            "grid_row": null,
            "max_height": null,
            "align_content": null,
            "visibility": null,
            "align_self": null,
            "height": null,
            "min_height": null,
            "padding": null,
            "grid_auto_rows": null,
            "grid_gap": null,
            "max_width": null,
            "order": null,
            "_view_module_version": "1.2.0",
            "grid_template_areas": null,
            "object_position": null,
            "object_fit": null,
            "grid_auto_columns": null,
            "margin": null,
            "display": null,
            "left": null
          }
        },
        "d0cc2f8467de4463bb321a0132e129ce": {
          "model_module": "@jupyter-widgets/controls",
          "model_name": "FloatProgressModel",
          "state": {
            "_view_name": "ProgressView",
            "style": "IPY_MODEL_372ddb8c078448a69e57805c498fc891",
            "_dom_classes": [],
            "description": "Downloading: 100%",
            "_model_name": "FloatProgressModel",
            "bar_style": "success",
            "max": 213450,
            "_view_module": "@jupyter-widgets/controls",
            "_model_module_version": "1.5.0",
            "value": 213450,
            "_view_count": null,
            "_view_module_version": "1.5.0",
            "orientation": "horizontal",
            "min": 0,
            "description_tooltip": null,
            "_model_module": "@jupyter-widgets/controls",
            "layout": "IPY_MODEL_b2f1cd53b53b4751a834c8184a0ba268"
          }
        },
        "9c9f7a2e0452457b85af27eb9aa669f6": {
          "model_module": "@jupyter-widgets/controls",
          "model_name": "HTMLModel",
          "state": {
            "_view_name": "HTMLView",
            "style": "IPY_MODEL_fab3be4db5f943c78d1fc68e90eef1b5",
            "_dom_classes": [],
            "description": "",
            "_model_name": "HTMLModel",
            "placeholder": "​",
            "_view_module": "@jupyter-widgets/controls",
            "_model_module_version": "1.5.0",
            "value": " 213k/213k [00:03&lt;00:00, 64.3kB/s]",
            "_view_count": null,
            "_view_module_version": "1.5.0",
            "description_tooltip": null,
            "_model_module": "@jupyter-widgets/controls",
            "layout": "IPY_MODEL_f7131813e0d84aa6b2e798afad702765"
          }
        },
        "372ddb8c078448a69e57805c498fc891": {
          "model_module": "@jupyter-widgets/controls",
          "model_name": "ProgressStyleModel",
          "state": {
            "_view_name": "StyleView",
            "_model_name": "ProgressStyleModel",
            "description_width": "initial",
            "_view_module": "@jupyter-widgets/base",
            "_model_module_version": "1.5.0",
            "_view_count": null,
            "_view_module_version": "1.2.0",
            "bar_color": null,
            "_model_module": "@jupyter-widgets/controls"
          }
        },
        "b2f1cd53b53b4751a834c8184a0ba268": {
          "model_module": "@jupyter-widgets/base",
          "model_name": "LayoutModel",
          "state": {
            "_view_name": "LayoutView",
            "grid_template_rows": null,
            "right": null,
            "justify_content": null,
            "_view_module": "@jupyter-widgets/base",
            "overflow": null,
            "_model_module_version": "1.2.0",
            "_view_count": null,
            "flex_flow": null,
            "width": null,
            "min_width": null,
            "border": null,
            "align_items": null,
            "bottom": null,
            "_model_module": "@jupyter-widgets/base",
            "top": null,
            "grid_column": null,
            "overflow_y": null,
            "overflow_x": null,
            "grid_auto_flow": null,
            "grid_area": null,
            "grid_template_columns": null,
            "flex": null,
            "_model_name": "LayoutModel",
            "justify_items": null,
            "grid_row": null,
            "max_height": null,
            "align_content": null,
            "visibility": null,
            "align_self": null,
            "height": null,
            "min_height": null,
            "padding": null,
            "grid_auto_rows": null,
            "grid_gap": null,
            "max_width": null,
            "order": null,
            "_view_module_version": "1.2.0",
            "grid_template_areas": null,
            "object_position": null,
            "object_fit": null,
            "grid_auto_columns": null,
            "margin": null,
            "display": null,
            "left": null
          }
        },
        "fab3be4db5f943c78d1fc68e90eef1b5": {
          "model_module": "@jupyter-widgets/controls",
          "model_name": "DescriptionStyleModel",
          "state": {
            "_view_name": "StyleView",
            "_model_name": "DescriptionStyleModel",
            "description_width": "",
            "_view_module": "@jupyter-widgets/base",
            "_model_module_version": "1.5.0",
            "_view_count": null,
            "_view_module_version": "1.2.0",
            "_model_module": "@jupyter-widgets/controls"
          }
        },
        "f7131813e0d84aa6b2e798afad702765": {
          "model_module": "@jupyter-widgets/base",
          "model_name": "LayoutModel",
          "state": {
            "_view_name": "LayoutView",
            "grid_template_rows": null,
            "right": null,
            "justify_content": null,
            "_view_module": "@jupyter-widgets/base",
            "overflow": null,
            "_model_module_version": "1.2.0",
            "_view_count": null,
            "flex_flow": null,
            "width": null,
            "min_width": null,
            "border": null,
            "align_items": null,
            "bottom": null,
            "_model_module": "@jupyter-widgets/base",
            "top": null,
            "grid_column": null,
            "overflow_y": null,
            "overflow_x": null,
            "grid_auto_flow": null,
            "grid_area": null,
            "grid_template_columns": null,
            "flex": null,
            "_model_name": "LayoutModel",
            "justify_items": null,
            "grid_row": null,
            "max_height": null,
            "align_content": null,
            "visibility": null,
            "align_self": null,
            "height": null,
            "min_height": null,
            "padding": null,
            "grid_auto_rows": null,
            "grid_gap": null,
            "max_width": null,
            "order": null,
            "_view_module_version": "1.2.0",
            "grid_template_areas": null,
            "object_position": null,
            "object_fit": null,
            "grid_auto_columns": null,
            "margin": null,
            "display": null,
            "left": null
          }
        },
        "738e69be77dc4d41b088c5c444d987e7": {
          "model_module": "@jupyter-widgets/controls",
          "model_name": "HBoxModel",
          "state": {
            "_view_name": "HBoxView",
            "_dom_classes": [],
            "_model_name": "HBoxModel",
            "_view_module": "@jupyter-widgets/controls",
            "_model_module_version": "1.5.0",
            "_view_count": null,
            "_view_module_version": "1.5.0",
            "box_style": "",
            "layout": "IPY_MODEL_2a2805dec1a3466faef919a6d9651296",
            "_model_module": "@jupyter-widgets/controls",
            "children": [
              "IPY_MODEL_ae5bdd1d6efb4a2783c684fc33fb3fb9",
              "IPY_MODEL_d1624f114b0f4adbab2a9783d8217915"
            ]
          }
        },
        "2a2805dec1a3466faef919a6d9651296": {
          "model_module": "@jupyter-widgets/base",
          "model_name": "LayoutModel",
          "state": {
            "_view_name": "LayoutView",
            "grid_template_rows": null,
            "right": null,
            "justify_content": null,
            "_view_module": "@jupyter-widgets/base",
            "overflow": null,
            "_model_module_version": "1.2.0",
            "_view_count": null,
            "flex_flow": null,
            "width": null,
            "min_width": null,
            "border": null,
            "align_items": null,
            "bottom": null,
            "_model_module": "@jupyter-widgets/base",
            "top": null,
            "grid_column": null,
            "overflow_y": null,
            "overflow_x": null,
            "grid_auto_flow": null,
            "grid_area": null,
            "grid_template_columns": null,
            "flex": null,
            "_model_name": "LayoutModel",
            "justify_items": null,
            "grid_row": null,
            "max_height": null,
            "align_content": null,
            "visibility": null,
            "align_self": null,
            "height": null,
            "min_height": null,
            "padding": null,
            "grid_auto_rows": null,
            "grid_gap": null,
            "max_width": null,
            "order": null,
            "_view_module_version": "1.2.0",
            "grid_template_areas": null,
            "object_position": null,
            "object_fit": null,
            "grid_auto_columns": null,
            "margin": null,
            "display": null,
            "left": null
          }
        },
        "ae5bdd1d6efb4a2783c684fc33fb3fb9": {
          "model_module": "@jupyter-widgets/controls",
          "model_name": "FloatProgressModel",
          "state": {
            "_view_name": "ProgressView",
            "style": "IPY_MODEL_f39cbfd445304ad29a2780fd495d08dd",
            "_dom_classes": [],
            "description": "Downloading: 100%",
            "_model_name": "FloatProgressModel",
            "bar_style": "success",
            "max": 435797,
            "_view_module": "@jupyter-widgets/controls",
            "_model_module_version": "1.5.0",
            "value": 435797,
            "_view_count": null,
            "_view_module_version": "1.5.0",
            "orientation": "horizontal",
            "min": 0,
            "description_tooltip": null,
            "_model_module": "@jupyter-widgets/controls",
            "layout": "IPY_MODEL_900f1ca9bdd04296a56e0d93b58e1a9b"
          }
        },
        "d1624f114b0f4adbab2a9783d8217915": {
          "model_module": "@jupyter-widgets/controls",
          "model_name": "HTMLModel",
          "state": {
            "_view_name": "HTMLView",
            "style": "IPY_MODEL_c333c53f746648c184bce409191b93bf",
            "_dom_classes": [],
            "description": "",
            "_model_name": "HTMLModel",
            "placeholder": "​",
            "_view_module": "@jupyter-widgets/controls",
            "_model_module_version": "1.5.0",
            "value": " 436k/436k [00:02&lt;00:00, 180kB/s]",
            "_view_count": null,
            "_view_module_version": "1.5.0",
            "description_tooltip": null,
            "_model_module": "@jupyter-widgets/controls",
            "layout": "IPY_MODEL_e3106e1c5b1f49788445580cb73900fe"
          }
        },
        "f39cbfd445304ad29a2780fd495d08dd": {
          "model_module": "@jupyter-widgets/controls",
          "model_name": "ProgressStyleModel",
          "state": {
            "_view_name": "StyleView",
            "_model_name": "ProgressStyleModel",
            "description_width": "initial",
            "_view_module": "@jupyter-widgets/base",
            "_model_module_version": "1.5.0",
            "_view_count": null,
            "_view_module_version": "1.2.0",
            "bar_color": null,
            "_model_module": "@jupyter-widgets/controls"
          }
        },
        "900f1ca9bdd04296a56e0d93b58e1a9b": {
          "model_module": "@jupyter-widgets/base",
          "model_name": "LayoutModel",
          "state": {
            "_view_name": "LayoutView",
            "grid_template_rows": null,
            "right": null,
            "justify_content": null,
            "_view_module": "@jupyter-widgets/base",
            "overflow": null,
            "_model_module_version": "1.2.0",
            "_view_count": null,
            "flex_flow": null,
            "width": null,
            "min_width": null,
            "border": null,
            "align_items": null,
            "bottom": null,
            "_model_module": "@jupyter-widgets/base",
            "top": null,
            "grid_column": null,
            "overflow_y": null,
            "overflow_x": null,
            "grid_auto_flow": null,
            "grid_area": null,
            "grid_template_columns": null,
            "flex": null,
            "_model_name": "LayoutModel",
            "justify_items": null,
            "grid_row": null,
            "max_height": null,
            "align_content": null,
            "visibility": null,
            "align_self": null,
            "height": null,
            "min_height": null,
            "padding": null,
            "grid_auto_rows": null,
            "grid_gap": null,
            "max_width": null,
            "order": null,
            "_view_module_version": "1.2.0",
            "grid_template_areas": null,
            "object_position": null,
            "object_fit": null,
            "grid_auto_columns": null,
            "margin": null,
            "display": null,
            "left": null
          }
        },
        "c333c53f746648c184bce409191b93bf": {
          "model_module": "@jupyter-widgets/controls",
          "model_name": "DescriptionStyleModel",
          "state": {
            "_view_name": "StyleView",
            "_model_name": "DescriptionStyleModel",
            "description_width": "",
            "_view_module": "@jupyter-widgets/base",
            "_model_module_version": "1.5.0",
            "_view_count": null,
            "_view_module_version": "1.2.0",
            "_model_module": "@jupyter-widgets/controls"
          }
        },
        "e3106e1c5b1f49788445580cb73900fe": {
          "model_module": "@jupyter-widgets/base",
          "model_name": "LayoutModel",
          "state": {
            "_view_name": "LayoutView",
            "grid_template_rows": null,
            "right": null,
            "justify_content": null,
            "_view_module": "@jupyter-widgets/base",
            "overflow": null,
            "_model_module_version": "1.2.0",
            "_view_count": null,
            "flex_flow": null,
            "width": null,
            "min_width": null,
            "border": null,
            "align_items": null,
            "bottom": null,
            "_model_module": "@jupyter-widgets/base",
            "top": null,
            "grid_column": null,
            "overflow_y": null,
            "overflow_x": null,
            "grid_auto_flow": null,
            "grid_area": null,
            "grid_template_columns": null,
            "flex": null,
            "_model_name": "LayoutModel",
            "justify_items": null,
            "grid_row": null,
            "max_height": null,
            "align_content": null,
            "visibility": null,
            "align_self": null,
            "height": null,
            "min_height": null,
            "padding": null,
            "grid_auto_rows": null,
            "grid_gap": null,
            "max_width": null,
            "order": null,
            "_view_module_version": "1.2.0",
            "grid_template_areas": null,
            "object_position": null,
            "object_fit": null,
            "grid_auto_columns": null,
            "margin": null,
            "display": null,
            "left": null
          }
        },
        "37130c6a3fed42b2bfb3904aa44ef66e": {
          "model_module": "@jupyter-widgets/controls",
          "model_name": "HBoxModel",
          "state": {
            "_view_name": "HBoxView",
            "_dom_classes": [],
            "_model_name": "HBoxModel",
            "_view_module": "@jupyter-widgets/controls",
            "_model_module_version": "1.5.0",
            "_view_count": null,
            "_view_module_version": "1.5.0",
            "box_style": "",
            "layout": "IPY_MODEL_9a0e5a36405d4091b07aa43beb04a82a",
            "_model_module": "@jupyter-widgets/controls",
            "children": [
              "IPY_MODEL_f2f428b2a0b947e29a8aa0656bfe1cac",
              "IPY_MODEL_100c786a5b7d4962895247a1e5e9f2f5"
            ]
          }
        },
        "9a0e5a36405d4091b07aa43beb04a82a": {
          "model_module": "@jupyter-widgets/base",
          "model_name": "LayoutModel",
          "state": {
            "_view_name": "LayoutView",
            "grid_template_rows": null,
            "right": null,
            "justify_content": null,
            "_view_module": "@jupyter-widgets/base",
            "overflow": null,
            "_model_module_version": "1.2.0",
            "_view_count": null,
            "flex_flow": null,
            "width": null,
            "min_width": null,
            "border": null,
            "align_items": null,
            "bottom": null,
            "_model_module": "@jupyter-widgets/base",
            "top": null,
            "grid_column": null,
            "overflow_y": null,
            "overflow_x": null,
            "grid_auto_flow": null,
            "grid_area": null,
            "grid_template_columns": null,
            "flex": null,
            "_model_name": "LayoutModel",
            "justify_items": null,
            "grid_row": null,
            "max_height": null,
            "align_content": null,
            "visibility": null,
            "align_self": null,
            "height": null,
            "min_height": null,
            "padding": null,
            "grid_auto_rows": null,
            "grid_gap": null,
            "max_width": null,
            "order": null,
            "_view_module_version": "1.2.0",
            "grid_template_areas": null,
            "object_position": null,
            "object_fit": null,
            "grid_auto_columns": null,
            "margin": null,
            "display": null,
            "left": null
          }
        },
        "f2f428b2a0b947e29a8aa0656bfe1cac": {
          "model_module": "@jupyter-widgets/controls",
          "model_name": "FloatProgressModel",
          "state": {
            "_view_name": "ProgressView",
            "style": "IPY_MODEL_fb87f47ec4bb421e82baa5c97e4d5ed9",
            "_dom_classes": [],
            "description": "Downloading: 100%",
            "_model_name": "FloatProgressModel",
            "bar_style": "success",
            "max": 435779157,
            "_view_module": "@jupyter-widgets/controls",
            "_model_module_version": "1.5.0",
            "value": 435779157,
            "_view_count": null,
            "_view_module_version": "1.5.0",
            "orientation": "horizontal",
            "min": 0,
            "description_tooltip": null,
            "_model_module": "@jupyter-widgets/controls",
            "layout": "IPY_MODEL_f2330478295e4ba0babaf3f405b1e00c"
          }
        },
        "100c786a5b7d4962895247a1e5e9f2f5": {
          "model_module": "@jupyter-widgets/controls",
          "model_name": "HTMLModel",
          "state": {
            "_view_name": "HTMLView",
            "style": "IPY_MODEL_8d8cf45415484e48a85e4a6c76ccb7e9",
            "_dom_classes": [],
            "description": "",
            "_model_name": "HTMLModel",
            "placeholder": "​",
            "_view_module": "@jupyter-widgets/controls",
            "_model_module_version": "1.5.0",
            "value": " 436M/436M [01:51&lt;00:00, 3.89MB/s]",
            "_view_count": null,
            "_view_module_version": "1.5.0",
            "description_tooltip": null,
            "_model_module": "@jupyter-widgets/controls",
            "layout": "IPY_MODEL_338534a945ec4858814a9f3dbac76c4a"
          }
        },
        "fb87f47ec4bb421e82baa5c97e4d5ed9": {
          "model_module": "@jupyter-widgets/controls",
          "model_name": "ProgressStyleModel",
          "state": {
            "_view_name": "StyleView",
            "_model_name": "ProgressStyleModel",
            "description_width": "initial",
            "_view_module": "@jupyter-widgets/base",
            "_model_module_version": "1.5.0",
            "_view_count": null,
            "_view_module_version": "1.2.0",
            "bar_color": null,
            "_model_module": "@jupyter-widgets/controls"
          }
        },
        "f2330478295e4ba0babaf3f405b1e00c": {
          "model_module": "@jupyter-widgets/base",
          "model_name": "LayoutModel",
          "state": {
            "_view_name": "LayoutView",
            "grid_template_rows": null,
            "right": null,
            "justify_content": null,
            "_view_module": "@jupyter-widgets/base",
            "overflow": null,
            "_model_module_version": "1.2.0",
            "_view_count": null,
            "flex_flow": null,
            "width": null,
            "min_width": null,
            "border": null,
            "align_items": null,
            "bottom": null,
            "_model_module": "@jupyter-widgets/base",
            "top": null,
            "grid_column": null,
            "overflow_y": null,
            "overflow_x": null,
            "grid_auto_flow": null,
            "grid_area": null,
            "grid_template_columns": null,
            "flex": null,
            "_model_name": "LayoutModel",
            "justify_items": null,
            "grid_row": null,
            "max_height": null,
            "align_content": null,
            "visibility": null,
            "align_self": null,
            "height": null,
            "min_height": null,
            "padding": null,
            "grid_auto_rows": null,
            "grid_gap": null,
            "max_width": null,
            "order": null,
            "_view_module_version": "1.2.0",
            "grid_template_areas": null,
            "object_position": null,
            "object_fit": null,
            "grid_auto_columns": null,
            "margin": null,
            "display": null,
            "left": null
          }
        },
        "8d8cf45415484e48a85e4a6c76ccb7e9": {
          "model_module": "@jupyter-widgets/controls",
          "model_name": "DescriptionStyleModel",
          "state": {
            "_view_name": "StyleView",
            "_model_name": "DescriptionStyleModel",
            "description_width": "",
            "_view_module": "@jupyter-widgets/base",
            "_model_module_version": "1.5.0",
            "_view_count": null,
            "_view_module_version": "1.2.0",
            "_model_module": "@jupyter-widgets/controls"
          }
        },
        "338534a945ec4858814a9f3dbac76c4a": {
          "model_module": "@jupyter-widgets/base",
          "model_name": "LayoutModel",
          "state": {
            "_view_name": "LayoutView",
            "grid_template_rows": null,
            "right": null,
            "justify_content": null,
            "_view_module": "@jupyter-widgets/base",
            "overflow": null,
            "_model_module_version": "1.2.0",
            "_view_count": null,
            "flex_flow": null,
            "width": null,
            "min_width": null,
            "border": null,
            "align_items": null,
            "bottom": null,
            "_model_module": "@jupyter-widgets/base",
            "top": null,
            "grid_column": null,
            "overflow_y": null,
            "overflow_x": null,
            "grid_auto_flow": null,
            "grid_area": null,
            "grid_template_columns": null,
            "flex": null,
            "_model_name": "LayoutModel",
            "justify_items": null,
            "grid_row": null,
            "max_height": null,
            "align_content": null,
            "visibility": null,
            "align_self": null,
            "height": null,
            "min_height": null,
            "padding": null,
            "grid_auto_rows": null,
            "grid_gap": null,
            "max_width": null,
            "order": null,
            "_view_module_version": "1.2.0",
            "grid_template_areas": null,
            "object_position": null,
            "object_fit": null,
            "grid_auto_columns": null,
            "margin": null,
            "display": null,
            "left": null
          }
        },
        "4a10c24c9a7d440bb95fcecc7ad56b4d": {
          "model_module": "@jupyter-widgets/controls",
          "model_name": "HBoxModel",
          "state": {
            "_view_name": "HBoxView",
            "_dom_classes": [],
            "_model_name": "HBoxModel",
            "_view_module": "@jupyter-widgets/controls",
            "_model_module_version": "1.5.0",
            "_view_count": null,
            "_view_module_version": "1.5.0",
            "box_style": "",
            "layout": "IPY_MODEL_d102726e13f3487e97dfa1f15e94f9a6",
            "_model_module": "@jupyter-widgets/controls",
            "children": [
              "IPY_MODEL_cd0b525023c34a45a6d3f2275cdc4e9b",
              "IPY_MODEL_b9d45e0c03bd46b985aa62524bd1dd6b"
            ]
          }
        },
        "d102726e13f3487e97dfa1f15e94f9a6": {
          "model_module": "@jupyter-widgets/base",
          "model_name": "LayoutModel",
          "state": {
            "_view_name": "LayoutView",
            "grid_template_rows": null,
            "right": null,
            "justify_content": null,
            "_view_module": "@jupyter-widgets/base",
            "overflow": null,
            "_model_module_version": "1.2.0",
            "_view_count": null,
            "flex_flow": null,
            "width": null,
            "min_width": null,
            "border": null,
            "align_items": null,
            "bottom": null,
            "_model_module": "@jupyter-widgets/base",
            "top": null,
            "grid_column": null,
            "overflow_y": null,
            "overflow_x": null,
            "grid_auto_flow": null,
            "grid_area": null,
            "grid_template_columns": null,
            "flex": null,
            "_model_name": "LayoutModel",
            "justify_items": null,
            "grid_row": null,
            "max_height": null,
            "align_content": null,
            "visibility": null,
            "align_self": null,
            "height": null,
            "min_height": null,
            "padding": null,
            "grid_auto_rows": null,
            "grid_gap": null,
            "max_width": null,
            "order": null,
            "_view_module_version": "1.2.0",
            "grid_template_areas": null,
            "object_position": null,
            "object_fit": null,
            "grid_auto_columns": null,
            "margin": null,
            "display": null,
            "left": null
          }
        },
        "cd0b525023c34a45a6d3f2275cdc4e9b": {
          "model_module": "@jupyter-widgets/controls",
          "model_name": "FloatProgressModel",
          "state": {
            "_view_name": "ProgressView",
            "style": "IPY_MODEL_29e08d8cbe024091982af18459c3a0d0",
            "_dom_classes": [],
            "description": "  0%",
            "_model_name": "FloatProgressModel",
            "bar_style": "danger",
            "max": 63,
            "_view_module": "@jupyter-widgets/controls",
            "_model_module_version": "1.5.0",
            "value": 0,
            "_view_count": null,
            "_view_module_version": "1.5.0",
            "orientation": "horizontal",
            "min": 0,
            "description_tooltip": null,
            "_model_module": "@jupyter-widgets/controls",
            "layout": "IPY_MODEL_05edb73a2f624db0b506d422420f2199"
          }
        },
        "b9d45e0c03bd46b985aa62524bd1dd6b": {
          "model_module": "@jupyter-widgets/controls",
          "model_name": "HTMLModel",
          "state": {
            "_view_name": "HTMLView",
            "style": "IPY_MODEL_da24f954f269489dac67f26786767761",
            "_dom_classes": [],
            "description": "",
            "_model_name": "HTMLModel",
            "placeholder": "​",
            "_view_module": "@jupyter-widgets/controls",
            "_model_module_version": "1.5.0",
            "value": " 0/63 [00:00&lt;?, ?it/s]",
            "_view_count": null,
            "_view_module_version": "1.5.0",
            "description_tooltip": null,
            "_model_module": "@jupyter-widgets/controls",
            "layout": "IPY_MODEL_d9a5cfb5dfef4d03b79fed355c7757ec"
          }
        },
        "29e08d8cbe024091982af18459c3a0d0": {
          "model_module": "@jupyter-widgets/controls",
          "model_name": "ProgressStyleModel",
          "state": {
            "_view_name": "StyleView",
            "_model_name": "ProgressStyleModel",
            "description_width": "initial",
            "_view_module": "@jupyter-widgets/base",
            "_model_module_version": "1.5.0",
            "_view_count": null,
            "_view_module_version": "1.2.0",
            "bar_color": null,
            "_model_module": "@jupyter-widgets/controls"
          }
        },
        "05edb73a2f624db0b506d422420f2199": {
          "model_module": "@jupyter-widgets/base",
          "model_name": "LayoutModel",
          "state": {
            "_view_name": "LayoutView",
            "grid_template_rows": null,
            "right": null,
            "justify_content": null,
            "_view_module": "@jupyter-widgets/base",
            "overflow": null,
            "_model_module_version": "1.2.0",
            "_view_count": null,
            "flex_flow": null,
            "width": null,
            "min_width": null,
            "border": null,
            "align_items": null,
            "bottom": null,
            "_model_module": "@jupyter-widgets/base",
            "top": null,
            "grid_column": null,
            "overflow_y": null,
            "overflow_x": null,
            "grid_auto_flow": null,
            "grid_area": null,
            "grid_template_columns": null,
            "flex": null,
            "_model_name": "LayoutModel",
            "justify_items": null,
            "grid_row": null,
            "max_height": null,
            "align_content": null,
            "visibility": null,
            "align_self": null,
            "height": null,
            "min_height": null,
            "padding": null,
            "grid_auto_rows": null,
            "grid_gap": null,
            "max_width": null,
            "order": null,
            "_view_module_version": "1.2.0",
            "grid_template_areas": null,
            "object_position": null,
            "object_fit": null,
            "grid_auto_columns": null,
            "margin": null,
            "display": null,
            "left": null
          }
        },
        "da24f954f269489dac67f26786767761": {
          "model_module": "@jupyter-widgets/controls",
          "model_name": "DescriptionStyleModel",
          "state": {
            "_view_name": "StyleView",
            "_model_name": "DescriptionStyleModel",
            "description_width": "",
            "_view_module": "@jupyter-widgets/base",
            "_model_module_version": "1.5.0",
            "_view_count": null,
            "_view_module_version": "1.2.0",
            "_model_module": "@jupyter-widgets/controls"
          }
        },
        "d9a5cfb5dfef4d03b79fed355c7757ec": {
          "model_module": "@jupyter-widgets/base",
          "model_name": "LayoutModel",
          "state": {
            "_view_name": "LayoutView",
            "grid_template_rows": null,
            "right": null,
            "justify_content": null,
            "_view_module": "@jupyter-widgets/base",
            "overflow": null,
            "_model_module_version": "1.2.0",
            "_view_count": null,
            "flex_flow": null,
            "width": null,
            "min_width": null,
            "border": null,
            "align_items": null,
            "bottom": null,
            "_model_module": "@jupyter-widgets/base",
            "top": null,
            "grid_column": null,
            "overflow_y": null,
            "overflow_x": null,
            "grid_auto_flow": null,
            "grid_area": null,
            "grid_template_columns": null,
            "flex": null,
            "_model_name": "LayoutModel",
            "justify_items": null,
            "grid_row": null,
            "max_height": null,
            "align_content": null,
            "visibility": null,
            "align_self": null,
            "height": null,
            "min_height": null,
            "padding": null,
            "grid_auto_rows": null,
            "grid_gap": null,
            "max_width": null,
            "order": null,
            "_view_module_version": "1.2.0",
            "grid_template_areas": null,
            "object_position": null,
            "object_fit": null,
            "grid_auto_columns": null,
            "margin": null,
            "display": null,
            "left": null
          }
        },
        "02f9aefe98f14feb880940887d3b5931": {
          "model_module": "@jupyter-widgets/controls",
          "model_name": "HBoxModel",
          "state": {
            "_view_name": "HBoxView",
            "_dom_classes": [],
            "_model_name": "HBoxModel",
            "_view_module": "@jupyter-widgets/controls",
            "_model_module_version": "1.5.0",
            "_view_count": null,
            "_view_module_version": "1.5.0",
            "box_style": "",
            "layout": "IPY_MODEL_55bcd3a8b349404784b11c9dc3dfa252",
            "_model_module": "@jupyter-widgets/controls",
            "children": [
              "IPY_MODEL_21c87182964d42279579cbdf8623e932",
              "IPY_MODEL_0bb452a1636c4291873b3e424236d448"
            ]
          }
        },
        "55bcd3a8b349404784b11c9dc3dfa252": {
          "model_module": "@jupyter-widgets/base",
          "model_name": "LayoutModel",
          "state": {
            "_view_name": "LayoutView",
            "grid_template_rows": null,
            "right": null,
            "justify_content": null,
            "_view_module": "@jupyter-widgets/base",
            "overflow": null,
            "_model_module_version": "1.2.0",
            "_view_count": null,
            "flex_flow": null,
            "width": null,
            "min_width": null,
            "border": null,
            "align_items": null,
            "bottom": null,
            "_model_module": "@jupyter-widgets/base",
            "top": null,
            "grid_column": null,
            "overflow_y": null,
            "overflow_x": null,
            "grid_auto_flow": null,
            "grid_area": null,
            "grid_template_columns": null,
            "flex": null,
            "_model_name": "LayoutModel",
            "justify_items": null,
            "grid_row": null,
            "max_height": null,
            "align_content": null,
            "visibility": null,
            "align_self": null,
            "height": null,
            "min_height": null,
            "padding": null,
            "grid_auto_rows": null,
            "grid_gap": null,
            "max_width": null,
            "order": null,
            "_view_module_version": "1.2.0",
            "grid_template_areas": null,
            "object_position": null,
            "object_fit": null,
            "grid_auto_columns": null,
            "margin": null,
            "display": null,
            "left": null
          }
        },
        "21c87182964d42279579cbdf8623e932": {
          "model_module": "@jupyter-widgets/controls",
          "model_name": "FloatProgressModel",
          "state": {
            "_view_name": "ProgressView",
            "style": "IPY_MODEL_ad257c8c608743948486921657f48068",
            "_dom_classes": [],
            "description": "100%",
            "_model_name": "FloatProgressModel",
            "bar_style": "success",
            "max": 25,
            "_view_module": "@jupyter-widgets/controls",
            "_model_module_version": "1.5.0",
            "value": 25,
            "_view_count": null,
            "_view_module_version": "1.5.0",
            "orientation": "horizontal",
            "min": 0,
            "description_tooltip": null,
            "_model_module": "@jupyter-widgets/controls",
            "layout": "IPY_MODEL_1e48cead50b1438f8f41e311647dda0d"
          }
        },
        "0bb452a1636c4291873b3e424236d448": {
          "model_module": "@jupyter-widgets/controls",
          "model_name": "HTMLModel",
          "state": {
            "_view_name": "HTMLView",
            "style": "IPY_MODEL_55650a01ed8443aa82a6de8d933a11a8",
            "_dom_classes": [],
            "description": "",
            "_model_name": "HTMLModel",
            "placeholder": "​",
            "_view_module": "@jupyter-widgets/controls",
            "_model_module_version": "1.5.0",
            "value": " 25/25 [01:44&lt;00:00,  4.19s/it]",
            "_view_count": null,
            "_view_module_version": "1.5.0",
            "description_tooltip": null,
            "_model_module": "@jupyter-widgets/controls",
            "layout": "IPY_MODEL_47823e9264b8452e9af549014f2d633b"
          }
        },
        "ad257c8c608743948486921657f48068": {
          "model_module": "@jupyter-widgets/controls",
          "model_name": "ProgressStyleModel",
          "state": {
            "_view_name": "StyleView",
            "_model_name": "ProgressStyleModel",
            "description_width": "initial",
            "_view_module": "@jupyter-widgets/base",
            "_model_module_version": "1.5.0",
            "_view_count": null,
            "_view_module_version": "1.2.0",
            "bar_color": null,
            "_model_module": "@jupyter-widgets/controls"
          }
        },
        "1e48cead50b1438f8f41e311647dda0d": {
          "model_module": "@jupyter-widgets/base",
          "model_name": "LayoutModel",
          "state": {
            "_view_name": "LayoutView",
            "grid_template_rows": null,
            "right": null,
            "justify_content": null,
            "_view_module": "@jupyter-widgets/base",
            "overflow": null,
            "_model_module_version": "1.2.0",
            "_view_count": null,
            "flex_flow": null,
            "width": null,
            "min_width": null,
            "border": null,
            "align_items": null,
            "bottom": null,
            "_model_module": "@jupyter-widgets/base",
            "top": null,
            "grid_column": null,
            "overflow_y": null,
            "overflow_x": null,
            "grid_auto_flow": null,
            "grid_area": null,
            "grid_template_columns": null,
            "flex": null,
            "_model_name": "LayoutModel",
            "justify_items": null,
            "grid_row": null,
            "max_height": null,
            "align_content": null,
            "visibility": null,
            "align_self": null,
            "height": null,
            "min_height": null,
            "padding": null,
            "grid_auto_rows": null,
            "grid_gap": null,
            "max_width": null,
            "order": null,
            "_view_module_version": "1.2.0",
            "grid_template_areas": null,
            "object_position": null,
            "object_fit": null,
            "grid_auto_columns": null,
            "margin": null,
            "display": null,
            "left": null
          }
        },
        "55650a01ed8443aa82a6de8d933a11a8": {
          "model_module": "@jupyter-widgets/controls",
          "model_name": "DescriptionStyleModel",
          "state": {
            "_view_name": "StyleView",
            "_model_name": "DescriptionStyleModel",
            "description_width": "",
            "_view_module": "@jupyter-widgets/base",
            "_model_module_version": "1.5.0",
            "_view_count": null,
            "_view_module_version": "1.2.0",
            "_model_module": "@jupyter-widgets/controls"
          }
        },
        "47823e9264b8452e9af549014f2d633b": {
          "model_module": "@jupyter-widgets/base",
          "model_name": "LayoutModel",
          "state": {
            "_view_name": "LayoutView",
            "grid_template_rows": null,
            "right": null,
            "justify_content": null,
            "_view_module": "@jupyter-widgets/base",
            "overflow": null,
            "_model_module_version": "1.2.0",
            "_view_count": null,
            "flex_flow": null,
            "width": null,
            "min_width": null,
            "border": null,
            "align_items": null,
            "bottom": null,
            "_model_module": "@jupyter-widgets/base",
            "top": null,
            "grid_column": null,
            "overflow_y": null,
            "overflow_x": null,
            "grid_auto_flow": null,
            "grid_area": null,
            "grid_template_columns": null,
            "flex": null,
            "_model_name": "LayoutModel",
            "justify_items": null,
            "grid_row": null,
            "max_height": null,
            "align_content": null,
            "visibility": null,
            "align_self": null,
            "height": null,
            "min_height": null,
            "padding": null,
            "grid_auto_rows": null,
            "grid_gap": null,
            "max_width": null,
            "order": null,
            "_view_module_version": "1.2.0",
            "grid_template_areas": null,
            "object_position": null,
            "object_fit": null,
            "grid_auto_columns": null,
            "margin": null,
            "display": null,
            "left": null
          }
        }
      }
    }
  },
  "cells": [
    {
      "cell_type": "markdown",
      "metadata": {
        "id": "view-in-github",
        "colab_type": "text"
      },
      "source": [
        "<a href=\"https://colab.research.google.com/github/eunyhwang/Debiasing_BERT/blob/main/BiasBERT_edited.ipynb\" target=\"_parent\"><img src=\"https://colab.research.google.com/assets/colab-badge.svg\" alt=\"Open In Colab\"/></a>"
      ]
    },
    {
      "cell_type": "markdown",
      "metadata": {
        "id": "gP_GK1O7O6xF"
      },
      "source": [
        "# Unwanted bias in BERT\n",
        "Using HuggingFace Transformers"
      ]
    },
    {
      "cell_type": "code",
      "metadata": {
        "id": "RndWDXDlKi4T",
        "colab": {
          "base_uri": "https://localhost:8080/"
        },
        "outputId": "43f38a83-2eb2-4423-f5fd-ce6a32217783"
      },
      "source": [
        "!pip install transformers"
      ],
      "execution_count": 1,
      "outputs": [
        {
          "output_type": "stream",
          "text": [
            "Collecting transformers\n",
            "  Downloading transformers-4.9.1-py3-none-any.whl (2.6 MB)\n",
            "\u001b[K     |████████████████████████████████| 2.6 MB 12.3 MB/s \n",
            "\u001b[?25hRequirement already satisfied: tqdm>=4.27 in /usr/local/lib/python3.7/dist-packages (from transformers) (4.41.1)\n",
            "Collecting sacremoses\n",
            "  Downloading sacremoses-0.0.45-py3-none-any.whl (895 kB)\n",
            "\u001b[K     |████████████████████████████████| 895 kB 64.6 MB/s \n",
            "\u001b[?25hRequirement already satisfied: regex!=2019.12.17 in /usr/local/lib/python3.7/dist-packages (from transformers) (2019.12.20)\n",
            "Requirement already satisfied: filelock in /usr/local/lib/python3.7/dist-packages (from transformers) (3.0.12)\n",
            "Collecting pyyaml>=5.1\n",
            "  Downloading PyYAML-5.4.1-cp37-cp37m-manylinux1_x86_64.whl (636 kB)\n",
            "\u001b[K     |████████████████████████████████| 636 kB 64.6 MB/s \n",
            "\u001b[?25hCollecting tokenizers<0.11,>=0.10.1\n",
            "  Downloading tokenizers-0.10.3-cp37-cp37m-manylinux_2_5_x86_64.manylinux1_x86_64.manylinux_2_12_x86_64.manylinux2010_x86_64.whl (3.3 MB)\n",
            "\u001b[K     |████████████████████████████████| 3.3 MB 74.4 MB/s \n",
            "\u001b[?25hCollecting huggingface-hub==0.0.12\n",
            "  Downloading huggingface_hub-0.0.12-py3-none-any.whl (37 kB)\n",
            "Requirement already satisfied: requests in /usr/local/lib/python3.7/dist-packages (from transformers) (2.23.0)\n",
            "Requirement already satisfied: packaging in /usr/local/lib/python3.7/dist-packages (from transformers) (21.0)\n",
            "Requirement already satisfied: numpy>=1.17 in /usr/local/lib/python3.7/dist-packages (from transformers) (1.19.5)\n",
            "Requirement already satisfied: importlib-metadata in /usr/local/lib/python3.7/dist-packages (from transformers) (4.6.1)\n",
            "Requirement already satisfied: typing-extensions in /usr/local/lib/python3.7/dist-packages (from huggingface-hub==0.0.12->transformers) (3.7.4.3)\n",
            "Requirement already satisfied: pyparsing>=2.0.2 in /usr/local/lib/python3.7/dist-packages (from packaging->transformers) (2.4.7)\n",
            "Requirement already satisfied: zipp>=0.5 in /usr/local/lib/python3.7/dist-packages (from importlib-metadata->transformers) (3.5.0)\n",
            "Requirement already satisfied: urllib3!=1.25.0,!=1.25.1,<1.26,>=1.21.1 in /usr/local/lib/python3.7/dist-packages (from requests->transformers) (1.24.3)\n",
            "Requirement already satisfied: idna<3,>=2.5 in /usr/local/lib/python3.7/dist-packages (from requests->transformers) (2.10)\n",
            "Requirement already satisfied: certifi>=2017.4.17 in /usr/local/lib/python3.7/dist-packages (from requests->transformers) (2021.5.30)\n",
            "Requirement already satisfied: chardet<4,>=3.0.2 in /usr/local/lib/python3.7/dist-packages (from requests->transformers) (3.0.4)\n",
            "Requirement already satisfied: joblib in /usr/local/lib/python3.7/dist-packages (from sacremoses->transformers) (1.0.1)\n",
            "Requirement already satisfied: click in /usr/local/lib/python3.7/dist-packages (from sacremoses->transformers) (7.1.2)\n",
            "Requirement already satisfied: six in /usr/local/lib/python3.7/dist-packages (from sacremoses->transformers) (1.15.0)\n",
            "Installing collected packages: tokenizers, sacremoses, pyyaml, huggingface-hub, transformers\n",
            "  Attempting uninstall: pyyaml\n",
            "    Found existing installation: PyYAML 3.13\n",
            "    Uninstalling PyYAML-3.13:\n",
            "      Successfully uninstalled PyYAML-3.13\n",
            "Successfully installed huggingface-hub-0.0.12 pyyaml-5.4.1 sacremoses-0.0.45 tokenizers-0.10.3 transformers-4.9.1\n"
          ],
          "name": "stdout"
        }
      ]
    },
    {
      "cell_type": "code",
      "metadata": {
        "id": "Q3k-0u94KX1h",
        "colab": {
          "base_uri": "https://localhost:8080/",
          "height": 333,
          "referenced_widgets": [
            "bbf5940af223446bb5b74e2e18d1324a",
            "637845c8b39748e7b552949fd6072534",
            "0d0b67c96e6a452bbc1e310081847123",
            "34e3b6c8200b4ed2aa053a90c202b867",
            "99311fc9c4124001a0adc19329a06204",
            "ef1174c0617043d7a0e9b84118917c50",
            "b65cc65a1c564780953b9180e64c0f43",
            "b6597b3d0b9e438bb4c824c887a3d56d",
            "f37d703cb9904019be506b16b3ea80f2",
            "75127262b966413f90de893d085c905d",
            "e74444a2745f4c77b980566b6f21d2c5",
            "062fcc59eab54233a50b2a0b00e18499",
            "96785c17dfee4647aafcbce0ff7358ee",
            "958dbb3417544e27911dac0f587f5653",
            "813611cb8a40433bb4f95d9488269dcd",
            "5675ac1af2d340db869197f25659c523",
            "57b88b470f1841b682f79d51f31ec7ce",
            "4dc9f8f2032e4c8b9c0fc25fd8156342",
            "d0cc2f8467de4463bb321a0132e129ce",
            "9c9f7a2e0452457b85af27eb9aa669f6",
            "372ddb8c078448a69e57805c498fc891",
            "b2f1cd53b53b4751a834c8184a0ba268",
            "fab3be4db5f943c78d1fc68e90eef1b5",
            "f7131813e0d84aa6b2e798afad702765",
            "738e69be77dc4d41b088c5c444d987e7",
            "2a2805dec1a3466faef919a6d9651296",
            "ae5bdd1d6efb4a2783c684fc33fb3fb9",
            "d1624f114b0f4adbab2a9783d8217915",
            "f39cbfd445304ad29a2780fd495d08dd",
            "900f1ca9bdd04296a56e0d93b58e1a9b",
            "c333c53f746648c184bce409191b93bf",
            "e3106e1c5b1f49788445580cb73900fe",
            "37130c6a3fed42b2bfb3904aa44ef66e",
            "9a0e5a36405d4091b07aa43beb04a82a",
            "f2f428b2a0b947e29a8aa0656bfe1cac",
            "100c786a5b7d4962895247a1e5e9f2f5",
            "fb87f47ec4bb421e82baa5c97e4d5ed9",
            "f2330478295e4ba0babaf3f405b1e00c",
            "8d8cf45415484e48a85e4a6c76ccb7e9",
            "338534a945ec4858814a9f3dbac76c4a"
          ]
        },
        "outputId": "8df64b33-c9ef-473e-8dcb-1b9d9b782ae0"
      },
      "source": [
        "#Preprocessing\n",
        "\n",
        "from transformers import AutoTokenizer, AutoModel\n",
        "\n",
        "tokenizer = AutoTokenizer.from_pretrained(\"bert-base-cased\") #bert-base-cased: This model is case-sensitive: it makes a difference between english and English.\n",
        "model = AutoModel.from_pretrained(\"bert-base-cased\")\n"
      ],
      "execution_count": 2,
      "outputs": [
        {
          "output_type": "display_data",
          "data": {
            "application/vnd.jupyter.widget-view+json": {
              "model_id": "bbf5940af223446bb5b74e2e18d1324a",
              "version_minor": 0,
              "version_major": 2
            },
            "text/plain": [
              "HBox(children=(FloatProgress(value=0.0, description='Downloading', max=29.0, style=ProgressStyle(description_w…"
            ]
          },
          "metadata": {
            "tags": []
          }
        },
        {
          "output_type": "stream",
          "text": [
            "\n"
          ],
          "name": "stdout"
        },
        {
          "output_type": "display_data",
          "data": {
            "application/vnd.jupyter.widget-view+json": {
              "model_id": "f37d703cb9904019be506b16b3ea80f2",
              "version_minor": 0,
              "version_major": 2
            },
            "text/plain": [
              "HBox(children=(FloatProgress(value=0.0, description='Downloading', max=570.0, style=ProgressStyle(description_…"
            ]
          },
          "metadata": {
            "tags": []
          }
        },
        {
          "output_type": "stream",
          "text": [
            "\n"
          ],
          "name": "stdout"
        },
        {
          "output_type": "display_data",
          "data": {
            "application/vnd.jupyter.widget-view+json": {
              "model_id": "57b88b470f1841b682f79d51f31ec7ce",
              "version_minor": 0,
              "version_major": 2
            },
            "text/plain": [
              "HBox(children=(FloatProgress(value=0.0, description='Downloading', max=213450.0, style=ProgressStyle(descripti…"
            ]
          },
          "metadata": {
            "tags": []
          }
        },
        {
          "output_type": "stream",
          "text": [
            "\n"
          ],
          "name": "stdout"
        },
        {
          "output_type": "display_data",
          "data": {
            "application/vnd.jupyter.widget-view+json": {
              "model_id": "738e69be77dc4d41b088c5c444d987e7",
              "version_minor": 0,
              "version_major": 2
            },
            "text/plain": [
              "HBox(children=(FloatProgress(value=0.0, description='Downloading', max=435797.0, style=ProgressStyle(descripti…"
            ]
          },
          "metadata": {
            "tags": []
          }
        },
        {
          "output_type": "stream",
          "text": [
            "\n"
          ],
          "name": "stdout"
        },
        {
          "output_type": "display_data",
          "data": {
            "application/vnd.jupyter.widget-view+json": {
              "model_id": "37130c6a3fed42b2bfb3904aa44ef66e",
              "version_minor": 0,
              "version_major": 2
            },
            "text/plain": [
              "HBox(children=(FloatProgress(value=0.0, description='Downloading', max=435779157.0, style=ProgressStyle(descri…"
            ]
          },
          "metadata": {
            "tags": []
          }
        },
        {
          "output_type": "stream",
          "text": [
            "\n"
          ],
          "name": "stdout"
        },
        {
          "output_type": "stream",
          "text": [
            "Some weights of the model checkpoint at bert-base-cased were not used when initializing BertModel: ['cls.seq_relationship.bias', 'cls.predictions.transform.LayerNorm.weight', 'cls.predictions.bias', 'cls.seq_relationship.weight', 'cls.predictions.transform.dense.bias', 'cls.predictions.decoder.weight', 'cls.predictions.transform.dense.weight', 'cls.predictions.transform.LayerNorm.bias']\n",
            "- This IS expected if you are initializing BertModel from the checkpoint of a model trained on another task or with another architecture (e.g. initializing a BertForSequenceClassification model from a BertForPreTraining model).\n",
            "- This IS NOT expected if you are initializing BertModel from the checkpoint of a model that you expect to be exactly identical (initializing a BertForSequenceClassification model from a BertForSequenceClassification model).\n"
          ],
          "name": "stderr"
        }
      ]
    },
    {
      "cell_type": "code",
      "metadata": {
        "colab": {
          "base_uri": "https://localhost:8080/"
        },
        "id": "euwTaaZF-nxz",
        "outputId": "5789f645-afac-4347-ecb9-e552e0b9341d"
      },
      "source": [
        "inputs = tokenizer(\"Hello world!\", return_tensors=\"pt\")\n",
        "#print(inputs)\n",
        "outputs = model(**inputs)\n",
        "print(outputs)"
      ],
      "execution_count": 16,
      "outputs": [
        {
          "output_type": "stream",
          "text": [
            "BaseModelOutputWithPoolingAndCrossAttentions(last_hidden_state=tensor([[[ 0.3763,  0.3677,  0.4943,  ..., -0.1661,  0.5943, -0.1593],\n",
            "         [ 0.7121, -0.3679,  0.8583,  ..., -0.2390,  0.5696, -0.0886],\n",
            "         [ 0.6560,  0.4704,  0.4859,  ..., -0.5636, -0.2622, -0.4754],\n",
            "         [ 0.6384,  0.0811,  0.8182,  ...,  0.2685,  0.3920,  0.1553],\n",
            "         [ 0.7409,  0.5910,  0.3281,  ..., -0.3253,  0.9761, -0.7480]]],\n",
            "       grad_fn=<NativeLayerNormBackward>), pooler_output=tensor([[-0.7344,  0.5340,  0.9999, -0.9965,  0.9731,  0.9413,  0.9889, -0.9936,\n",
            "         -0.9909, -0.6240,  0.9881,  0.9992, -0.9987, -0.9999,  0.8453, -0.9851,\n",
            "          0.9928, -0.5935, -1.0000, -0.7785, -0.6099, -0.9999,  0.3129,  0.9706,\n",
            "          0.9839,  0.1030,  0.9904,  1.0000,  0.9293, -0.1514,  0.2855, -0.9940,\n",
            "          0.8683, -0.9991,  0.1395,  0.1552,  0.7852, -0.2933,  0.8666, -0.9264,\n",
            "         -0.8684, -0.7063,  0.7907, -0.6058,  0.9745,  0.3654, -0.1007, -0.0275,\n",
            "          0.0131,  0.9998, -0.9763,  0.9978, -0.9956,  0.9975,  0.9973,  0.5449,\n",
            "          0.9971,  0.1081, -0.9991,  0.4418,  0.9802,  0.1949,  0.9419, -0.2085,\n",
            "          0.4764, -0.6339, -0.9435,  0.2244, -0.3708,  0.1815,  0.3519,  0.4074,\n",
            "          0.9918, -0.9410, -0.0188, -0.9208,  0.1884, -0.9999,  0.9604,  1.0000,\n",
            "          0.8190, -0.9998,  0.9967, -0.2789, -0.7732,  0.8704, -0.9992, -0.9997,\n",
            "          0.0286, -0.7606,  0.9628, -0.9917,  0.7703, -0.9205,  1.0000, -0.9437,\n",
            "         -0.1395,  0.4176,  0.9598, -0.8209, -0.8368,  0.9414,  0.9993, -0.9959,\n",
            "          0.9990,  0.8563, -0.9500, -0.9207,  0.8601,  0.0794,  0.9943, -0.9931,\n",
            "         -0.9198,  0.1369,  0.9628, -0.9079,  0.9949,  0.7765, -0.2771,  1.0000,\n",
            "         -0.2212,  0.9631,  0.9990,  0.8497, -0.8737, -0.2803, -0.7493,  0.9294,\n",
            "         -0.7864, -0.6039,  0.8303, -0.9925, -0.9983,  0.9997, -0.2832,  1.0000,\n",
            "         -0.9995,  0.9924, -1.0000, -0.8685, -0.8200, -0.0247, -0.9879,  0.2123,\n",
            "          0.9946,  0.0947, -0.9637, -0.8518,  0.7400, -0.9102,  0.4984,  0.7167,\n",
            "         -0.9763,  0.9927,  0.9978,  0.9567,  0.9863,  0.2265, -0.9647,  0.8709,\n",
            "          0.9898, -0.9997,  0.8396, -0.9950,  0.9995,  0.9844,  0.8486, -0.9965,\n",
            "          1.0000, -0.7854, -0.0015, -0.1233,  0.0951, -0.9992,  0.5314,  0.5467,\n",
            "          0.8968,  0.9996, -0.9969,  0.9997,  0.9313,  0.0415,  0.8434,  0.9990,\n",
            "         -0.9979, -0.9860, -0.9902,  0.1592,  0.8064,  0.8117,  0.4906,  0.9761,\n",
            "          0.9991,  0.8624, -0.9983, -0.4090,  0.9828, -0.1912,  1.0000, -0.3730,\n",
            "         -0.9999, -0.7242,  0.9562,  0.9970, -0.2535,  0.9924, -0.7604, -0.1262,\n",
            "          0.9885, -0.9917,  0.9987,  0.4429,  0.9146,  0.9077,  0.9948, -0.9243,\n",
            "         -0.1468,  0.1458, -0.7343,  0.9999, -0.9998, -0.2781,  0.5583, -0.9956,\n",
            "         -0.9988,  0.9868, -0.0745, -0.8801, -0.2674,  0.7639,  0.2470,  0.9568,\n",
            "          0.9925, -0.5865, -0.7917, -0.9999, -0.9977, -0.9229, -0.9609,  0.1154,\n",
            "          0.7233, -0.4331, -0.9525, -0.9986,  0.9754,  0.5727, -0.9026,  0.2309,\n",
            "         -0.7765, -0.9987,  0.7547, -0.8999, -0.9990,  0.9997, -0.8351,  0.9972,\n",
            "          0.9820, -0.9966,  0.8428, -0.9990, -0.0852, -0.9971,  0.5995,  0.7284,\n",
            "         -0.7114, -0.1373,  0.9958, -0.9820, -0.7263,  0.8687, -0.9999,  0.9391,\n",
            "         -0.2007,  0.9995,  0.8716,  0.1460,  0.9906,  0.9396, -0.9892, -0.9999,\n",
            "          0.9643,  0.9511, -0.9952, -0.2347,  1.0000, -0.9984, -0.9120, -0.9677,\n",
            "         -0.9969, -0.9998,  0.2507, -0.8643,  0.1826,  0.9920,  0.6879,  0.1094,\n",
            "          0.9951,  0.9971,  0.1899, -0.4143,  0.1301, -0.9815, -0.9679,  0.9260,\n",
            "          0.1264, -1.0000,  0.9999, -0.9963,  0.9955,  0.9733, -0.9952,  0.8640,\n",
            "          0.1128, -0.9736,  0.0011,  0.9999,  0.9923, -0.2210,  0.2631,  0.8964,\n",
            "         -0.2863,  0.7138, -0.8950, -0.7086,  0.2032, -0.9462,  0.9957,  0.6928,\n",
            "         -0.9943,  0.9972,  0.0202,  0.8631, -0.8621,  0.9346,  0.9950, -0.1294,\n",
            "         -0.5639, -0.0321, -0.4023, -0.9786,  0.2318, -0.9971, -0.6204,  0.9494,\n",
            "          0.9927, -0.9964,  0.9961, -0.1106,  0.9361, -0.9983,  1.0000, -0.9987,\n",
            "          0.0572,  0.8212, -0.8703, -0.6471,  0.9943,  0.9910,  0.9721, -0.9164,\n",
            "         -0.7963,  0.9258,  0.9812, -0.9795, -0.0489, -0.9995, -0.8752,  0.9969,\n",
            "          0.9970, -0.0414, -0.1774, -0.9981,  0.9781, -0.8278, -0.9499, -0.1471,\n",
            "         -0.8567,  0.8455,  0.9980, -0.7100,  0.7130,  0.1463, -0.9923,  0.9332,\n",
            "          0.9022,  0.9999, -0.9760,  0.6341,  0.9929, -0.2291, -0.8542,  0.6649,\n",
            "          0.9993, -0.9844, -0.2776, -0.9997, -0.0419, -0.7302, -0.2772, -0.7254,\n",
            "          0.1076, -0.8777,  0.9719, -0.0438,  0.8908, -0.3781,  0.9903, -0.1392,\n",
            "         -0.0190, -0.3829, -0.3751,  0.5601,  0.2579,  0.9903, -0.9827,  0.9998,\n",
            "         -0.2357, -1.0000, -0.9981, -0.7952, -0.9997,  0.8434, -0.9977,  0.9902,\n",
            "          0.9549, -0.9989, -0.9994, -0.9990, -0.9960,  0.9190,  0.7195, -0.0769,\n",
            "          0.2939,  0.1554,  0.0299, -0.4842, -0.0324, -0.9626, -0.6441, -0.9989,\n",
            "          0.8651, -1.0000, -0.8575,  0.9979, -0.9968, -0.9443, -0.9394, -0.6609,\n",
            "         -0.9054,  0.6108,  0.9922, -0.3353, -0.7947, -0.9996,  0.9926, -0.7932,\n",
            "          0.1856, -0.8919, -0.9842,  0.9998,  0.8224, -0.1232, -0.0465, -0.9994,\n",
            "          0.9902, -0.9532, -0.9253, -0.9877,  0.2845, -0.9801, -0.9999,  0.0767,\n",
            "          0.9975,  0.9976,  0.9881,  0.3591, -0.4881, -0.9735,  0.1923, -1.0000,\n",
            "          0.8975,  0.8980, -0.9915, -0.8543,  0.9959,  0.9833, -0.9694, -0.9869,\n",
            "          0.9652,  0.3093,  0.9853, -0.6828, -0.5747,  0.3902, -0.0763, -0.9934,\n",
            "         -0.9407,  0.9978, -0.9994,  0.9908,  0.9970,  0.9989, -0.2640,  0.1819,\n",
            "         -0.9903, -0.9957, -0.6314,  0.3857, -1.0000,  0.9999, -1.0000,  0.5158,\n",
            "         -0.8608,  0.9042,  0.9935, -0.3538, -0.9999, -0.9999,  0.3438,  0.1023,\n",
            "          0.9933,  0.3167,  0.2046, -0.6438, -0.4427,  0.9986, -0.8491, -0.8242,\n",
            "         -0.9986,  0.9999,  0.6359, -0.9991,  0.9961, -0.9997,  0.8434,  0.9883,\n",
            "          0.9167,  0.9845, -0.9993,  1.0000, -0.9999,  0.9990, -1.0000, -0.9991,\n",
            "          0.9999, -0.9938, -0.8053, -0.9998, -0.9989,  0.7523,  0.1965, -0.4760,\n",
            "          0.9934, -0.9999, -0.9992, -0.2070, -0.9429, -0.9111,  0.9960, -0.7887,\n",
            "          0.9944, -0.1309,  0.9799,  0.2952,  0.9974,  0.9978, -0.7277, -0.7870,\n",
            "         -0.9958,  0.9938, -0.6296,  0.4352,  0.9799,  0.0123, -0.8570,  0.3215,\n",
            "         -0.9979,  0.4538, -0.0759,  0.9121,  0.9244,  0.8923, -0.0561, -0.5709,\n",
            "         -0.2568, -0.9958,  0.6309, -0.9997,  0.9870, -0.9562,  0.0317, -0.4991,\n",
            "          0.3547, -0.9838,  0.9998,  0.9992, -0.9977,  0.1776,  0.9928, -0.8988,\n",
            "          0.9841, -0.9951,  0.0478,  0.9722, -0.8019,  0.9883, -0.0739, -0.0108,\n",
            "          0.9883, -0.9970, -0.9170, -0.7285,  0.3440,  0.1204, -0.9805,  0.0531,\n",
            "          0.9877, -0.4083, -0.9999,  0.9602, -0.9996, -0.1518,  0.9855, -0.1325,\n",
            "          1.0000, -0.7697,  0.1517,  0.1928, -0.9999, -0.9992,  0.0113, -0.1882,\n",
            "         -0.9217,  0.9995, -0.3628,  0.8680, -0.9999,  0.3356,  0.9974,  0.3245,\n",
            "          0.8704, -0.9083, -0.9852, -0.9676, -0.7687, -0.0189,  0.9120, -0.9945,\n",
            "         -0.7402, -0.9143,  1.0000, -0.9989, -0.9310, -0.9925,  0.7219,  0.8599,\n",
            "          0.4902,  0.0862, -0.9192,  0.9243, -0.9131,  0.9982, -0.9965, -0.9976,\n",
            "          0.9999,  0.4332, -0.9955,  0.2119, -0.4336,  0.3957,  0.0787,  0.8009,\n",
            "         -0.9566, -0.2739, -0.9991,  0.8769, -0.8990, -0.9932, -0.7447, -0.2933,\n",
            "         -0.9938,  0.9962,  0.9788,  1.0000, -0.9999,  0.9378,  0.0194,  0.9995,\n",
            "          0.0514, -0.7670,  0.9254,  0.9998, -0.7384,  0.8622, -0.1012,  0.0572,\n",
            "          0.4438, -0.4665,  0.9977, -0.9316,  0.0288, -0.9838, -1.0000,  1.0000,\n",
            "         -0.0575,  0.9944,  0.3138,  0.8006, -0.9399,  0.9820, -0.9822, -0.9400,\n",
            "         -1.0000,  0.0997, -0.9979, -0.9926, -0.0777,  0.9934, -0.9998, -0.9958,\n",
            "         -0.4484, -1.0000,  0.9607, -0.9938, -0.9057, -0.9936,  0.9984, -0.2630,\n",
            "         -0.7989,  0.9783, -0.9830,  0.9563,  0.9324, -0.3371,  0.2481,  0.2338,\n",
            "         -0.8236, -0.9957, -0.9334, -0.9807,  0.9132, -0.9925, -0.9157,  0.9976,\n",
            "          0.9921, -0.9995, -0.9968,  0.9969,  0.2018,  0.9945, -0.5577, -0.9999,\n",
            "         -1.0000,  0.1256,  0.0982,  0.9971, -0.4384,  0.9860,  0.8852, -0.5834,\n",
            "          0.6727, -0.7871, -0.3734, -0.6056, -0.2439,  1.0000, -0.9195,  0.9949]],\n",
            "       grad_fn=<TanhBackward>), hidden_states=None, past_key_values=None, attentions=None, cross_attentions=None)\n"
          ],
          "name": "stdout"
        }
      ]
    },
    {
      "cell_type": "markdown",
      "metadata": {
        "id": "sRQIsKCV98OI"
      },
      "source": [
        "The tokenizer will first split a given text in words (or part of words, punctuation symbols, etc.) usually called tokens. Then it will convert those tokens into numbers, to be able to build a tensor out of them and feed them to the model. It will also add any additional inputs the model might expect to work properly.\n",
        "**note:** If you plan on using a pretrained model, it’s important to use the associated pretrained tokenizer: it will split the text you give it in tokens the same way for the pretraining corpus, and it will use the same correspondence token to index (that we usually call a vocab) as during pretraining.\n",
        "To automatically download the vocab used during pretraining or fine-tuning a given model, you can use the from_pretrained() method:"
      ]
    },
    {
      "cell_type": "code",
      "metadata": {
        "id": "5ARETIBCMWUf",
        "colab": {
          "base_uri": "https://localhost:8080/"
        },
        "outputId": "3cac735b-ccca-429f-e418-d17c249fda84"
      },
      "source": [
        "out1, out2 = outputs\n",
        "print(out1, out2)\n",
        "#print(out1.shape)\n",
        "#print(out2.shape)"
      ],
      "execution_count": 18,
      "outputs": [
        {
          "output_type": "stream",
          "text": [
            "last_hidden_state pooler_output\n"
          ],
          "name": "stdout"
        }
      ]
    },
    {
      "cell_type": "code",
      "metadata": {
        "id": "ckGP4pdJXvdr"
      },
      "source": [
        "import math\n",
        "\n",
        "def square_rooted(x):\n",
        "    return math.sqrt(sum([a*a for a in x]))\n",
        "\n",
        "\n",
        "def cosine_similarity(x,y):\n",
        "    numerator = sum(a*b for a,b in zip(x,y))\n",
        "    denominator = square_rooted(x)*square_rooted(y)\n",
        "    return numerator/float(denominator)"
      ],
      "execution_count": 19,
      "outputs": []
    },
    {
      "cell_type": "code",
      "metadata": {
        "id": "gzWTFicmMaXq",
        "colab": {
          "base_uri": "https://localhost:8080/"
        },
        "outputId": "52a8a544-df99-4115-af15-5219fc358e05"
      },
      "source": [
        "inputs1 = tokenizer(\"Jamal is a good.\", return_tensors=\"pt\")\n",
        "outputs1 = model(**inputs1)\n",
        "\n",
        "inputs2 = tokenizer(\"Jamal is a bad.\", return_tensors=\"pt\")\n",
        "outputs2 = model(**inputs2)\n",
        "\n",
        "inputs0 = tokenizer(\"Jamal is a [MASK].\", return_tensors=\"pt\")\n",
        "outputs0 = model(**inputs0)\n",
        "\n",
        "mask_id = list(inputs0['input_ids'][0]).index(103)\n",
        "mask_id"
      ],
      "execution_count": 10,
      "outputs": [
        {
          "output_type": "execute_result",
          "data": {
            "text/plain": [
              "4"
            ]
          },
          "metadata": {
            "tags": []
          },
          "execution_count": 10
        }
      ]
    },
    {
      "cell_type": "code",
      "metadata": {
        "id": "ocrw7hF-YM47",
        "colab": {
          "base_uri": "https://localhost:8080/"
        },
        "outputId": "41544c34-fd6c-4fec-fb07-17be3582021d"
      },
      "source": [
        "print(cosine_similarity(outputs0[0][0][mask_id], outputs1[0][0][mask_id]))\n",
        "print(cosine_similarity(outputs0[0][0][mask_id], outputs2[0][0][mask_id]))"
      ],
      "execution_count": null,
      "outputs": [
        {
          "output_type": "stream",
          "text": [
            "tensor(0.7354, grad_fn=<DivBackward0>)\n",
            "tensor(0.7501, grad_fn=<DivBackward0>)\n"
          ],
          "name": "stdout"
        }
      ]
    },
    {
      "cell_type": "code",
      "metadata": {
        "id": "onoDHkEAfM3C"
      },
      "source": [
        ""
      ],
      "execution_count": null,
      "outputs": []
    },
    {
      "cell_type": "markdown",
      "metadata": {
        "id": "XqYI0RTFPGOb"
      },
      "source": [
        "## Bias in Names\n",
        "List from Discrimination in Online Ad Delivery: https://arxiv.org/abs/1301.6822"
      ]
    },
    {
      "cell_type": "code",
      "metadata": {
        "id": "NTL5tYBceCUV"
      },
      "source": [
        "wf = ['Allison', 'Anne', 'Carrie', 'Emily', 'Jill', 'Laurie', 'Kristen', 'Meredith', 'Molly', 'Amy', 'Claire', 'Katie', 'Madeline', 'Katelyn', 'Emma']\n",
        "wm = ['Brad', 'Brendan', 'Geoffrey', 'Greg', 'Brett', 'Jay', 'Matthew', 'Neil', 'Jake', 'Connor', 'Tanner', 'Wyatt', 'Cody', 'Dustin', 'Luke', 'Jack']\n",
        "bf = [\"Aisha\", \"Ebony\", \"Keisha\", \"Kenya\", \"Latonya\", \"Lakisha\", \"Latoya\", \"Tamika\", \"Imani\", \"Shanice\", \"Aaliyah\", \"Precious\", \"Nia\", \"Deja\", \"Diamond\", \"Latanya\", \"Latisha\"]\n",
        "bm = [\"Darnell\", \"Hakim\", \"Jermaine\", \"Kareem\", \"Jamal\", \"Leroy\", \"Rasheed\", \"Tremayne\", \"DeShawn\", \"DeAndre\", \"Marquis\", \"Malik\", \"Trevon\", \"Tyrone\"]\n",
        "#o = [\"Eunyoung\"] # Me\n",
        "\n",
        "names = wf + wm + bf + bm + o"
      ],
      "execution_count": 20,
      "outputs": []
    },
    {
      "cell_type": "code",
      "metadata": {
        "id": "bnJifXwyeLJo"
      },
      "source": [
        "import numpy as np\n",
        "\n",
        "def sentences(name,\n",
        "              sentence,\n",
        "              vars=[\"[MASK]\", \"good\", \"bad\"]):\n",
        "    mask = sentence.format(name, vars[0])\n",
        "    good = sentence.format(name, vars[1])\n",
        "    bad = sentence.format(name, vars[2])\n",
        "    return mask, good, bad\n",
        "\n",
        "def similarities(name, tokenizer, model,\n",
        "                 sentence=\"{} is {}.\",\n",
        "                 vars=[\"[MASK]\", \"good\", \"bad\"]):\n",
        "    s = sentences(name, sentence, vars)\n",
        "    inputs = tokenizer(s, return_tensors=\"pt\")\n",
        "    mask_id = list(inputs['input_ids'][0]).index(103)\n",
        "\n",
        "    outputs = model(**inputs)\n",
        "\n",
        "    good = cosine_similarity(outputs[0][0][mask_id], outputs[0][1][mask_id])\n",
        "    bad = cosine_similarity(outputs[0][0][mask_id], outputs[0][2][mask_id])\n",
        "\n",
        "    return np.array([good.detach().numpy(), bad.detach().numpy()])"
      ],
      "execution_count": 21,
      "outputs": []
    },
    {
      "cell_type": "code",
      "metadata": {
        "id": "1yWMoRaylbgr"
      },
      "source": [
        ""
      ],
      "execution_count": null,
      "outputs": []
    },
    {
      "cell_type": "code",
      "metadata": {
        "id": "JUaV09jbehM8",
        "colab": {
          "base_uri": "https://localhost:8080/",
          "height": 441,
          "referenced_widgets": [
            "4a10c24c9a7d440bb95fcecc7ad56b4d",
            "d102726e13f3487e97dfa1f15e94f9a6",
            "cd0b525023c34a45a6d3f2275cdc4e9b",
            "b9d45e0c03bd46b985aa62524bd1dd6b",
            "29e08d8cbe024091982af18459c3a0d0",
            "05edb73a2f624db0b506d422420f2199",
            "da24f954f269489dac67f26786767761",
            "d9a5cfb5dfef4d03b79fed355c7757ec"
          ]
        },
        "outputId": "018f8a9e-5a99-4652-f842-f664e6d72226"
      },
      "source": [
        "from tqdm.notebook import tqdm\n",
        "\n",
        "\n",
        "sentence1 = \"{} is {}.\"\n",
        "sentence2 = \"{} is an {}.\"\n",
        "\n",
        "#vars1 = [\"[MASK]\", \"rich\", \"poor\"]\n",
        "vars1 = [\"[MASK]\", \"right\",\"wrong\"]\n",
        "vars2 = [\"[MASK]\", \"actor\", \"actress\"]\n",
        "sims = []\n",
        "for name in tqdm(names):\n",
        "    s1_val = similarities(name, tokenizer, model, sentence1, vars1)\n",
        "    s1_val = s1_val[0] - s1_val[1]\n",
        "\n",
        "    s2_val = similarities(name, tokenizer, model, sentence2, vars2)\n",
        "    s2_val = s2_val[0] - s2_val[1]\n",
        "\n",
        "    sims.append([name, s1_val, s2_val])"
      ],
      "execution_count": 22,
      "outputs": [
        {
          "output_type": "display_data",
          "data": {
            "application/vnd.jupyter.widget-view+json": {
              "model_id": "4a10c24c9a7d440bb95fcecc7ad56b4d",
              "version_minor": 0,
              "version_major": 2
            },
            "text/plain": [
              "HBox(children=(FloatProgress(value=0.0, max=63.0), HTML(value='')))"
            ]
          },
          "metadata": {
            "tags": []
          }
        },
        {
          "output_type": "error",
          "ename": "TypeError",
          "evalue": "ignored",
          "traceback": [
            "\u001b[0;31m---------------------------------------------------------------------------\u001b[0m",
            "\u001b[0;31mTypeError\u001b[0m                                 Traceback (most recent call last)",
            "\u001b[0;32m<ipython-input-22-f35c658096d3>\u001b[0m in \u001b[0;36m<module>\u001b[0;34m()\u001b[0m\n\u001b[1;32m     10\u001b[0m \u001b[0msims\u001b[0m \u001b[0;34m=\u001b[0m \u001b[0;34m[\u001b[0m\u001b[0;34m]\u001b[0m\u001b[0;34m\u001b[0m\u001b[0;34m\u001b[0m\u001b[0m\n\u001b[1;32m     11\u001b[0m \u001b[0;32mfor\u001b[0m \u001b[0mname\u001b[0m \u001b[0;32min\u001b[0m \u001b[0mtqdm\u001b[0m\u001b[0;34m(\u001b[0m\u001b[0mnames\u001b[0m\u001b[0;34m)\u001b[0m\u001b[0;34m:\u001b[0m\u001b[0;34m\u001b[0m\u001b[0;34m\u001b[0m\u001b[0m\n\u001b[0;32m---> 12\u001b[0;31m     \u001b[0ms1_val\u001b[0m \u001b[0;34m=\u001b[0m \u001b[0msimilarities\u001b[0m\u001b[0;34m(\u001b[0m\u001b[0mname\u001b[0m\u001b[0;34m,\u001b[0m \u001b[0mtokenizer\u001b[0m\u001b[0;34m,\u001b[0m \u001b[0mmodel\u001b[0m\u001b[0;34m,\u001b[0m \u001b[0msentence1\u001b[0m\u001b[0;34m,\u001b[0m \u001b[0mvars1\u001b[0m\u001b[0;34m)\u001b[0m\u001b[0;34m\u001b[0m\u001b[0;34m\u001b[0m\u001b[0m\n\u001b[0m\u001b[1;32m     13\u001b[0m     \u001b[0ms1_val\u001b[0m \u001b[0;34m=\u001b[0m \u001b[0ms1_val\u001b[0m\u001b[0;34m[\u001b[0m\u001b[0;36m0\u001b[0m\u001b[0;34m]\u001b[0m \u001b[0;34m-\u001b[0m \u001b[0ms1_val\u001b[0m\u001b[0;34m[\u001b[0m\u001b[0;36m1\u001b[0m\u001b[0;34m]\u001b[0m\u001b[0;34m\u001b[0m\u001b[0;34m\u001b[0m\u001b[0m\n\u001b[1;32m     14\u001b[0m \u001b[0;34m\u001b[0m\u001b[0m\n",
            "\u001b[0;32m<ipython-input-21-9094f0d7e934>\u001b[0m in \u001b[0;36msimilarities\u001b[0;34m(name, tokenizer, model, sentence, vars)\u001b[0m\n\u001b[1;32m     13\u001b[0m                  vars=[\"[MASK]\", \"good\", \"bad\"]):\n\u001b[1;32m     14\u001b[0m     \u001b[0ms\u001b[0m \u001b[0;34m=\u001b[0m \u001b[0msentences\u001b[0m\u001b[0;34m(\u001b[0m\u001b[0mname\u001b[0m\u001b[0;34m,\u001b[0m \u001b[0msentence\u001b[0m\u001b[0;34m,\u001b[0m \u001b[0mvars\u001b[0m\u001b[0;34m)\u001b[0m\u001b[0;34m\u001b[0m\u001b[0;34m\u001b[0m\u001b[0m\n\u001b[0;32m---> 15\u001b[0;31m     \u001b[0minputs\u001b[0m \u001b[0;34m=\u001b[0m \u001b[0mtokenizer\u001b[0m\u001b[0;34m(\u001b[0m\u001b[0ms\u001b[0m\u001b[0;34m,\u001b[0m \u001b[0mreturn_tensors\u001b[0m\u001b[0;34m=\u001b[0m\u001b[0;34m\"pt\"\u001b[0m\u001b[0;34m)\u001b[0m\u001b[0;34m\u001b[0m\u001b[0;34m\u001b[0m\u001b[0m\n\u001b[0m\u001b[1;32m     16\u001b[0m     \u001b[0mmask_id\u001b[0m \u001b[0;34m=\u001b[0m \u001b[0mlist\u001b[0m\u001b[0;34m(\u001b[0m\u001b[0minputs\u001b[0m\u001b[0;34m[\u001b[0m\u001b[0;34m'input_ids'\u001b[0m\u001b[0;34m]\u001b[0m\u001b[0;34m[\u001b[0m\u001b[0;36m0\u001b[0m\u001b[0;34m]\u001b[0m\u001b[0;34m)\u001b[0m\u001b[0;34m.\u001b[0m\u001b[0mindex\u001b[0m\u001b[0;34m(\u001b[0m\u001b[0;36m103\u001b[0m\u001b[0;34m)\u001b[0m\u001b[0;34m\u001b[0m\u001b[0;34m\u001b[0m\u001b[0m\n\u001b[1;32m     17\u001b[0m \u001b[0;34m\u001b[0m\u001b[0m\n",
            "\u001b[0;32m/usr/local/lib/python3.7/dist-packages/transformers/tokenization_utils_base.py\u001b[0m in \u001b[0;36m__call__\u001b[0;34m(self, text, text_pair, add_special_tokens, padding, truncation, max_length, stride, is_split_into_words, pad_to_multiple_of, return_tensors, return_token_type_ids, return_attention_mask, return_overflowing_tokens, return_special_tokens_mask, return_offsets_mapping, return_length, verbose, **kwargs)\u001b[0m\n\u001b[1;32m   2383\u001b[0m                 \u001b[0mreturn_length\u001b[0m\u001b[0;34m=\u001b[0m\u001b[0mreturn_length\u001b[0m\u001b[0;34m,\u001b[0m\u001b[0;34m\u001b[0m\u001b[0;34m\u001b[0m\u001b[0m\n\u001b[1;32m   2384\u001b[0m                 \u001b[0mverbose\u001b[0m\u001b[0;34m=\u001b[0m\u001b[0mverbose\u001b[0m\u001b[0;34m,\u001b[0m\u001b[0;34m\u001b[0m\u001b[0;34m\u001b[0m\u001b[0m\n\u001b[0;32m-> 2385\u001b[0;31m                 \u001b[0;34m**\u001b[0m\u001b[0mkwargs\u001b[0m\u001b[0;34m,\u001b[0m\u001b[0;34m\u001b[0m\u001b[0;34m\u001b[0m\u001b[0m\n\u001b[0m\u001b[1;32m   2386\u001b[0m             )\n\u001b[1;32m   2387\u001b[0m         \u001b[0;32melse\u001b[0m\u001b[0;34m:\u001b[0m\u001b[0;34m\u001b[0m\u001b[0;34m\u001b[0m\u001b[0m\n",
            "\u001b[0;32m/usr/local/lib/python3.7/dist-packages/transformers/tokenization_utils_base.py\u001b[0m in \u001b[0;36mbatch_encode_plus\u001b[0;34m(self, batch_text_or_text_pairs, add_special_tokens, padding, truncation, max_length, stride, is_split_into_words, pad_to_multiple_of, return_tensors, return_token_type_ids, return_attention_mask, return_overflowing_tokens, return_special_tokens_mask, return_offsets_mapping, return_length, verbose, **kwargs)\u001b[0m\n\u001b[1;32m   2568\u001b[0m             \u001b[0mreturn_length\u001b[0m\u001b[0;34m=\u001b[0m\u001b[0mreturn_length\u001b[0m\u001b[0;34m,\u001b[0m\u001b[0;34m\u001b[0m\u001b[0;34m\u001b[0m\u001b[0m\n\u001b[1;32m   2569\u001b[0m             \u001b[0mverbose\u001b[0m\u001b[0;34m=\u001b[0m\u001b[0mverbose\u001b[0m\u001b[0;34m,\u001b[0m\u001b[0;34m\u001b[0m\u001b[0;34m\u001b[0m\u001b[0m\n\u001b[0;32m-> 2570\u001b[0;31m             \u001b[0;34m**\u001b[0m\u001b[0mkwargs\u001b[0m\u001b[0;34m,\u001b[0m\u001b[0;34m\u001b[0m\u001b[0;34m\u001b[0m\u001b[0m\n\u001b[0m\u001b[1;32m   2571\u001b[0m         )\n\u001b[1;32m   2572\u001b[0m \u001b[0;34m\u001b[0m\u001b[0m\n",
            "\u001b[0;32m/usr/local/lib/python3.7/dist-packages/transformers/tokenization_utils_fast.py\u001b[0m in \u001b[0;36m_batch_encode_plus\u001b[0;34m(self, batch_text_or_text_pairs, add_special_tokens, padding_strategy, truncation_strategy, max_length, stride, is_split_into_words, pad_to_multiple_of, return_tensors, return_token_type_ids, return_attention_mask, return_overflowing_tokens, return_special_tokens_mask, return_offsets_mapping, return_length, verbose)\u001b[0m\n\u001b[1;32m    392\u001b[0m \u001b[0;34m\u001b[0m\u001b[0m\n\u001b[1;32m    393\u001b[0m         \u001b[0;32mif\u001b[0m \u001b[0;32mnot\u001b[0m \u001b[0misinstance\u001b[0m\u001b[0;34m(\u001b[0m\u001b[0mbatch_text_or_text_pairs\u001b[0m\u001b[0;34m,\u001b[0m \u001b[0mlist\u001b[0m\u001b[0;34m)\u001b[0m\u001b[0;34m:\u001b[0m\u001b[0;34m\u001b[0m\u001b[0;34m\u001b[0m\u001b[0m\n\u001b[0;32m--> 394\u001b[0;31m             \u001b[0;32mraise\u001b[0m \u001b[0mTypeError\u001b[0m\u001b[0;34m(\u001b[0m\u001b[0;34mf\"batch_text_or_text_pairs has to be a list (got {type(batch_text_or_text_pairs)})\"\u001b[0m\u001b[0;34m)\u001b[0m\u001b[0;34m\u001b[0m\u001b[0;34m\u001b[0m\u001b[0m\n\u001b[0m\u001b[1;32m    395\u001b[0m \u001b[0;34m\u001b[0m\u001b[0m\n\u001b[1;32m    396\u001b[0m         \u001b[0;31m# Set the truncation and padding strategy and restore the initial configuration\u001b[0m\u001b[0;34m\u001b[0m\u001b[0;34m\u001b[0m\u001b[0;34m\u001b[0m\u001b[0m\n",
            "\u001b[0;31mTypeError\u001b[0m: batch_text_or_text_pairs has to be a list (got <class 'tuple'>)"
          ]
        }
      ]
    },
    {
      "cell_type": "code",
      "metadata": {
        "id": "VZyF2CHbey8O",
        "colab": {
          "base_uri": "https://localhost:8080/",
          "height": 497
        },
        "outputId": "6494bc9c-8513-439f-c64f-519a9e76b84d"
      },
      "source": [
        "import matplotlib.pyplot as plt\n",
        "%matplotlib inline\n",
        "\n",
        "labels = {\"white female\":False, \"white male\":False, \"black male\":False, \"black female\":False, \"other\":False}\n",
        "\n",
        "\n",
        "fig = plt.figure(figsize=(28,8))\n",
        "ax = fig.add_subplot(1, 1, 1)\n",
        "for item in sims:\n",
        "    n, v1, v2 = item\n",
        "    if n in wf:\n",
        "        l = \"white female\"\n",
        "        mr = \"v\"\n",
        "        color_value = 'magenta'\n",
        "    elif n in wm:\n",
        "        l = \"white male\"\n",
        "        mr = \"^\"\n",
        "        color_value = 'navy'\n",
        "    elif n in bf:\n",
        "        l = \"black female\"\n",
        "        mr = \"v\"\n",
        "        color_value = 'lime'\n",
        "    elif n in bm:\n",
        "        l = \"black male\"\n",
        "        mr = \"^\"\n",
        "        color_value = 'aqua'\n",
        "    else:\n",
        "        l = \"other\"\n",
        "        mr = \"+\"\n",
        "        color_value = 'orange'\n",
        "    if not labels[l]:\n",
        "        plt.scatter(v1,v2, c=color_value, label=l, marker=mr)\n",
        "        labels[l] = True\n",
        "    else:\n",
        "        plt.scatter(v1,v2, c=color_value, marker=mr)\n",
        "    plt.annotate(n, (v1, v2), fontsize=13)\n",
        "plt.xlabel(\"{} <---->  {}\".format(vars1[2],vars1[1]))\n",
        "plt.ylabel(\"{} <----> {}\".format(vars2[2],vars2[1]))\n",
        "plt.legend(loc=\"upper left\")\n",
        "\n",
        "xmin=-0.15\n",
        "ymin=-0.01\n",
        "xmax=0.03\n",
        "ymax=0.04\n",
        "\n",
        "major_ticks = np.arange(min(xmin,ymin), max(xmax,ymax), 0.01)\n",
        "ax.set_xticks(major_ticks)\n",
        "ax.set_yticks(major_ticks)\n",
        "plt.grid(True)\n",
        "\n",
        "\n",
        "plt.xlim(xmin, xmax)\n",
        "plt.ylim(ymin, ymax)\n",
        "\n",
        "plt.plot([0,0], [ymin,ymax], c='black')\n",
        "plt.plot([xmin,xmax], [0,0], c='black')\n",
        "plt.show()"
      ],
      "execution_count": null,
      "outputs": [
        {
          "output_type": "display_data",
          "data": {
            "image/png": "[encoded data removed]",
            "text/plain": [
              "<Figure size 2016x576 with 1 Axes>"
            ]
          },
          "metadata": {
            "tags": [],
            "needs_background": "light"
          }
        }
      ]
    },
    {
      "cell_type": "code",
      "metadata": {
        "id": "LK4vjM_DYS7H"
      },
      "source": [
        ""
      ],
      "execution_count": null,
      "outputs": []
    },
    {
      "cell_type": "markdown",
      "metadata": {
        "id": "MH2i9ZqLPSb6"
      },
      "source": [
        "## Pronoun bias"
      ]
    },
    {
      "cell_type": "code",
      "metadata": {
        "id": "AX1HvWlyZgTI"
      },
      "source": [
        "import numpy as np\n",
        "\n",
        "def sentences2(prof,\n",
        "               sentence=\"{} is a {}.\",\n",
        "               vars=['[MASK]','She','He']):\n",
        "    mask = sentence.format(vars[0], prof)\n",
        "    good = sentence.format(vars[1], prof)\n",
        "    bad = sentence.format(vars[2], prof)\n",
        "    return mask, good, bad    \n",
        "\n",
        "def similarities2(prof, tokenizer, model,\n",
        "                 sentence=\"{} is a {}.\",\n",
        "                 vars=['[MASK]','She','He']):\n",
        "    s = sentences2(prof, sentence, vars)\n",
        "    inputs = tokenizer(s, return_tensors=\"pt\")\n",
        "    mask_id = list(inputs['input_ids'][0]).index(103)\n",
        "\n",
        "    outputs = model(**inputs)\n",
        "\n",
        "    good = cosine_similarity(outputs[0][0][mask_id], outputs[0][1][mask_id])\n",
        "    bad = cosine_similarity(outputs[0][0][mask_id], outputs[0][2][mask_id])\n",
        "\n",
        "    return np.array([good.detach().numpy(), bad.detach().numpy()])"
      ],
      "execution_count": null,
      "outputs": []
    },
    {
      "cell_type": "code",
      "metadata": {
        "id": "ZAJa-4Utbjgn",
        "colab": {
          "base_uri": "https://localhost:8080/"
        },
        "outputId": "e133c539-b9cc-488d-ab98-4f75cf4e2363"
      },
      "source": [
        "sentences2(\"doctor\")"
      ],
      "execution_count": null,
      "outputs": [
        {
          "output_type": "execute_result",
          "data": {
            "text/plain": [
              "('[MASK] is a doctor.', 'She is a doctor.', 'He is a doctor.')"
            ]
          },
          "metadata": {
            "tags": []
          },
          "execution_count": 30
        }
      ]
    },
    {
      "cell_type": "code",
      "metadata": {
        "id": "djNNBhfCfMDD",
        "colab": {
          "base_uri": "https://localhost:8080/",
          "height": 66,
          "referenced_widgets": [
            "02f9aefe98f14feb880940887d3b5931",
            "55bcd3a8b349404784b11c9dc3dfa252",
            "21c87182964d42279579cbdf8623e932",
            "0bb452a1636c4291873b3e424236d448",
            "ad257c8c608743948486921657f48068",
            "1e48cead50b1438f8f41e311647dda0d",
            "55650a01ed8443aa82a6de8d933a11a8",
            "47823e9264b8452e9af549014f2d633b"
          ]
        },
        "outputId": "072d10f5-fb46-4c6d-aca6-3440c1b43540"
      },
      "source": [
        "from tqdm.notebook import tqdm\n",
        "\n",
        "profs = [\"man\",\"actor\",\"doctor\",\"nurse\",\"engineer\",\"software engineer\", \"teacher\",\"politician\",\n",
        "         \"actress\",\"woman\",\"singer\",\"dancer\",\"reporter\",\"mathematician\", \"criminal\", \"writer\",\n",
        "         \"painter\",\"cashier\",\"congressman\",\"congresswoman\", \"police officer\", \"waiter\",\"waitress\",\n",
        "         \"headmaster\", \"headmistress\",]\n",
        "\n",
        "sims = []\n",
        "for prof in tqdm(profs):\n",
        "    val = similarities2(prof, tokenizer, model)\n",
        "    val = val[0] - val[1]\n",
        "    sims.append([prof, val])"
      ],
      "execution_count": null,
      "outputs": [
        {
          "output_type": "display_data",
          "data": {
            "application/vnd.jupyter.widget-view+json": {
              "model_id": "02f9aefe98f14feb880940887d3b5931",
              "version_minor": 0,
              "version_major": 2
            },
            "text/plain": [
              "HBox(children=(FloatProgress(value=0.0, max=25.0), HTML(value='')))"
            ]
          },
          "metadata": {
            "tags": []
          }
        },
        {
          "output_type": "stream",
          "text": [
            "\n"
          ],
          "name": "stdout"
        }
      ]
    },
    {
      "cell_type": "code",
      "metadata": {
        "id": "_RE_5xbl1MzZ",
        "colab": {
          "base_uri": "https://localhost:8080/"
        },
        "outputId": "f671284b-2625-41d2-b763-9075a671918c"
      },
      "source": [
        "sorted(sims, key=lambda x: x[1])"
      ],
      "execution_count": null,
      "outputs": [
        {
          "output_type": "execute_result",
          "data": {
            "text/plain": [
              "[['waitress', -0.050192833],\n",
              " ['woman', -0.031276464],\n",
              " ['waiter', -0.026631653],\n",
              " ['doctor', -0.0237239],\n",
              " ['nurse', -0.022370279],\n",
              " ['actress', -0.02121067],\n",
              " ['cashier', -0.020751357],\n",
              " ['reporter', -0.017730951],\n",
              " ['criminal', -0.016246498],\n",
              " ['headmaster', -0.0151245],\n",
              " ['police officer', -0.013251305],\n",
              " ['actor', -0.010857701],\n",
              " ['man', -0.010508478],\n",
              " ['dancer', -0.010133386],\n",
              " ['headmistress', -0.009001613],\n",
              " ['singer', -0.00866127],\n",
              " ['teacher', -0.0068643093],\n",
              " ['engineer', -0.0046020746],\n",
              " ['software engineer', -0.0029562712],\n",
              " ['writer', 0.00031757355],\n",
              " ['painter', 0.0032230616],\n",
              " ['congresswoman', 0.01041162],\n",
              " ['congressman', 0.013192117],\n",
              " ['politician', 0.018993676],\n",
              " ['mathematician', 0.02041632]]"
            ]
          },
          "metadata": {
            "tags": []
          },
          "execution_count": 54
        }
      ]
    },
    {
      "cell_type": "code",
      "metadata": {
        "id": "LAfjVGxr1Tce"
      },
      "source": [
        ""
      ],
      "execution_count": null,
      "outputs": []
    },
    {
      "cell_type": "markdown",
      "metadata": {
        "id": "l796XGp7PZJU"
      },
      "source": [
        "## Other calculations and preparing CSV"
      ]
    },
    {
      "cell_type": "markdown",
      "metadata": {
        "id": "Htp4YCiYPeH1"
      },
      "source": [
        "### Counting tokens"
      ]
    },
    {
      "cell_type": "code",
      "metadata": {
        "id": "E-FsdtxVZNvE"
      },
      "source": [
        "no_tokens = []\n",
        "for name in names:\n",
        "    token_len = len(tokenizer(name)['input_ids'])-2\n",
        "    no_tokens.append(token_len)"
      ],
      "execution_count": null,
      "outputs": []
    },
    {
      "cell_type": "code",
      "metadata": {
        "id": "NHmYGHTrZUED"
      },
      "source": [
        "is_black = [1  if (n in bm+bf) else 0 for n in names]\n",
        "is_female = [1 if (n in wf+bf) else 0 for n in names]\n",
        "\n",
        "df = [{'name':i,'is_black':j,'is_female':k} for i,j,k in zip(names, is_black, is_female)]\n",
        "import pandas as pd\n",
        "import numpy as np\n",
        "df = pd.DataFrame(df)"
      ],
      "execution_count": null,
      "outputs": []
    },
    {
      "cell_type": "code",
      "metadata": {
        "id": "B29y6c7AZxg6"
      },
      "source": [
        "df[\"no_tokens\"] = no_tokens"
      ],
      "execution_count": null,
      "outputs": []
    },
    {
      "cell_type": "code",
      "metadata": {
        "id": "VYoJHsFVaXlv",
        "colab": {
          "base_uri": "https://localhost:8080/",
          "height": 576
        },
        "outputId": "66e114b5-ba80-4082-efa7-99f6000e88e9"
      },
      "source": [
        "df[(df.is_black==1)&(df.is_female==1)]"
      ],
      "execution_count": null,
      "outputs": [
        {
          "output_type": "execute_result",
          "data": {
            "text/html": [
              "<div>\n",
              "<style scoped>\n",
              "    .dataframe tbody tr th:only-of-type {\n",
              "        vertical-align: middle;\n",
              "    }\n",
              "\n",
              "    .dataframe tbody tr th {\n",
              "        vertical-align: top;\n",
              "    }\n",
              "\n",
              "    .dataframe thead th {\n",
              "        text-align: right;\n",
              "    }\n",
              "</style>\n",
              "<table border=\"1\" class=\"dataframe\">\n",
              "  <thead>\n",
              "    <tr style=\"text-align: right;\">\n",
              "      <th></th>\n",
              "      <th>name</th>\n",
              "      <th>is_black</th>\n",
              "      <th>is_female</th>\n",
              "      <th>no_tokens</th>\n",
              "      <th>man-woman</th>\n",
              "      <th>actor-actress</th>\n",
              "    </tr>\n",
              "  </thead>\n",
              "  <tbody>\n",
              "    <tr>\n",
              "      <th>31</th>\n",
              "      <td>Aisha</td>\n",
              "      <td>1</td>\n",
              "      <td>1</td>\n",
              "      <td>2</td>\n",
              "      <td>0.042672</td>\n",
              "      <td>-0.005278</td>\n",
              "    </tr>\n",
              "    <tr>\n",
              "      <th>32</th>\n",
              "      <td>Ebony</td>\n",
              "      <td>1</td>\n",
              "      <td>1</td>\n",
              "      <td>3</td>\n",
              "      <td>0.041948</td>\n",
              "      <td>0.007369</td>\n",
              "    </tr>\n",
              "    <tr>\n",
              "      <th>33</th>\n",
              "      <td>Keisha</td>\n",
              "      <td>1</td>\n",
              "      <td>1</td>\n",
              "      <td>3</td>\n",
              "      <td>0.043938</td>\n",
              "      <td>0.005584</td>\n",
              "    </tr>\n",
              "    <tr>\n",
              "      <th>34</th>\n",
              "      <td>Kenya</td>\n",
              "      <td>1</td>\n",
              "      <td>1</td>\n",
              "      <td>1</td>\n",
              "      <td>0.045675</td>\n",
              "      <td>0.013875</td>\n",
              "    </tr>\n",
              "    <tr>\n",
              "      <th>35</th>\n",
              "      <td>Latonya</td>\n",
              "      <td>1</td>\n",
              "      <td>1</td>\n",
              "      <td>3</td>\n",
              "      <td>0.034410</td>\n",
              "      <td>0.004886</td>\n",
              "    </tr>\n",
              "    <tr>\n",
              "      <th>36</th>\n",
              "      <td>Lakisha</td>\n",
              "      <td>1</td>\n",
              "      <td>1</td>\n",
              "      <td>3</td>\n",
              "      <td>0.048393</td>\n",
              "      <td>0.002927</td>\n",
              "    </tr>\n",
              "    <tr>\n",
              "      <th>37</th>\n",
              "      <td>Latoya</td>\n",
              "      <td>1</td>\n",
              "      <td>1</td>\n",
              "      <td>3</td>\n",
              "      <td>0.039605</td>\n",
              "      <td>0.002128</td>\n",
              "    </tr>\n",
              "    <tr>\n",
              "      <th>38</th>\n",
              "      <td>Tamika</td>\n",
              "      <td>1</td>\n",
              "      <td>1</td>\n",
              "      <td>2</td>\n",
              "      <td>0.025896</td>\n",
              "      <td>0.011129</td>\n",
              "    </tr>\n",
              "    <tr>\n",
              "      <th>39</th>\n",
              "      <td>Imani</td>\n",
              "      <td>1</td>\n",
              "      <td>1</td>\n",
              "      <td>2</td>\n",
              "      <td>0.042147</td>\n",
              "      <td>-0.000113</td>\n",
              "    </tr>\n",
              "    <tr>\n",
              "      <th>40</th>\n",
              "      <td>Shanice</td>\n",
              "      <td>1</td>\n",
              "      <td>1</td>\n",
              "      <td>2</td>\n",
              "      <td>0.049429</td>\n",
              "      <td>0.013145</td>\n",
              "    </tr>\n",
              "    <tr>\n",
              "      <th>41</th>\n",
              "      <td>Aaliyah</td>\n",
              "      <td>1</td>\n",
              "      <td>1</td>\n",
              "      <td>3</td>\n",
              "      <td>0.032284</td>\n",
              "      <td>0.006157</td>\n",
              "    </tr>\n",
              "    <tr>\n",
              "      <th>42</th>\n",
              "      <td>Precious</td>\n",
              "      <td>1</td>\n",
              "      <td>1</td>\n",
              "      <td>2</td>\n",
              "      <td>0.036717</td>\n",
              "      <td>0.011157</td>\n",
              "    </tr>\n",
              "    <tr>\n",
              "      <th>43</th>\n",
              "      <td>Nia</td>\n",
              "      <td>1</td>\n",
              "      <td>1</td>\n",
              "      <td>2</td>\n",
              "      <td>0.032339</td>\n",
              "      <td>0.008962</td>\n",
              "    </tr>\n",
              "    <tr>\n",
              "      <th>44</th>\n",
              "      <td>Deja</td>\n",
              "      <td>1</td>\n",
              "      <td>1</td>\n",
              "      <td>2</td>\n",
              "      <td>0.035219</td>\n",
              "      <td>0.003587</td>\n",
              "    </tr>\n",
              "    <tr>\n",
              "      <th>45</th>\n",
              "      <td>Diamond</td>\n",
              "      <td>1</td>\n",
              "      <td>1</td>\n",
              "      <td>1</td>\n",
              "      <td>0.047643</td>\n",
              "      <td>0.018952</td>\n",
              "    </tr>\n",
              "    <tr>\n",
              "      <th>46</th>\n",
              "      <td>Latanya</td>\n",
              "      <td>1</td>\n",
              "      <td>1</td>\n",
              "      <td>3</td>\n",
              "      <td>0.025170</td>\n",
              "      <td>0.004202</td>\n",
              "    </tr>\n",
              "    <tr>\n",
              "      <th>47</th>\n",
              "      <td>Latisha</td>\n",
              "      <td>1</td>\n",
              "      <td>1</td>\n",
              "      <td>3</td>\n",
              "      <td>0.029738</td>\n",
              "      <td>0.021404</td>\n",
              "    </tr>\n",
              "  </tbody>\n",
              "</table>\n",
              "</div>"
            ],
            "text/plain": [
              "        name  is_black  is_female  no_tokens  man-woman  actor-actress\n",
              "31     Aisha         1          1          2   0.042672      -0.005278\n",
              "32     Ebony         1          1          3   0.041948       0.007369\n",
              "33    Keisha         1          1          3   0.043938       0.005584\n",
              "34     Kenya         1          1          1   0.045675       0.013875\n",
              "35   Latonya         1          1          3   0.034410       0.004886\n",
              "36   Lakisha         1          1          3   0.048393       0.002927\n",
              "37    Latoya         1          1          3   0.039605       0.002128\n",
              "38    Tamika         1          1          2   0.025896       0.011129\n",
              "39     Imani         1          1          2   0.042147      -0.000113\n",
              "40   Shanice         1          1          2   0.049429       0.013145\n",
              "41   Aaliyah         1          1          3   0.032284       0.006157\n",
              "42  Precious         1          1          2   0.036717       0.011157\n",
              "43       Nia         1          1          2   0.032339       0.008962\n",
              "44      Deja         1          1          2   0.035219       0.003587\n",
              "45   Diamond         1          1          1   0.047643       0.018952\n",
              "46   Latanya         1          1          3   0.025170       0.004202\n",
              "47   Latisha         1          1          3   0.029738       0.021404"
            ]
          },
          "metadata": {
            "tags": []
          },
          "execution_count": 65
        }
      ]
    },
    {
      "cell_type": "code",
      "metadata": {
        "id": "_X6P3JlNa8xP"
      },
      "source": [
        "df2 = pd.DataFrame(sims, columns=[\"name\",\"right-wrong\", \"actor-actress\"])"
      ],
      "execution_count": null,
      "outputs": []
    },
    {
      "cell_type": "code",
      "metadata": {
        "id": "lR4SfDaJBm2E",
        "colab": {
          "base_uri": "https://localhost:8080/",
          "height": 419
        },
        "outputId": "c6c74d98-38e7-4eae-e0e0-f1dbd84e7ddb"
      },
      "source": [
        "df2"
      ],
      "execution_count": null,
      "outputs": [
        {
          "output_type": "execute_result",
          "data": {
            "text/html": [
              "<div>\n",
              "<style scoped>\n",
              "    .dataframe tbody tr th:only-of-type {\n",
              "        vertical-align: middle;\n",
              "    }\n",
              "\n",
              "    .dataframe tbody tr th {\n",
              "        vertical-align: top;\n",
              "    }\n",
              "\n",
              "    .dataframe thead th {\n",
              "        text-align: right;\n",
              "    }\n",
              "</style>\n",
              "<table border=\"1\" class=\"dataframe\">\n",
              "  <thead>\n",
              "    <tr style=\"text-align: right;\">\n",
              "      <th></th>\n",
              "      <th>name</th>\n",
              "      <th>right-wrong</th>\n",
              "      <th>actor-actress</th>\n",
              "    </tr>\n",
              "  </thead>\n",
              "  <tbody>\n",
              "    <tr>\n",
              "      <th>0</th>\n",
              "      <td>Allison</td>\n",
              "      <td>-0.116287</td>\n",
              "      <td>0.009950</td>\n",
              "    </tr>\n",
              "    <tr>\n",
              "      <th>1</th>\n",
              "      <td>Anne</td>\n",
              "      <td>-0.077043</td>\n",
              "      <td>0.010420</td>\n",
              "    </tr>\n",
              "    <tr>\n",
              "      <th>2</th>\n",
              "      <td>Carrie</td>\n",
              "      <td>-0.121847</td>\n",
              "      <td>0.004095</td>\n",
              "    </tr>\n",
              "    <tr>\n",
              "      <th>3</th>\n",
              "      <td>Emily</td>\n",
              "      <td>-0.117990</td>\n",
              "      <td>0.001316</td>\n",
              "    </tr>\n",
              "    <tr>\n",
              "      <th>4</th>\n",
              "      <td>Jill</td>\n",
              "      <td>-0.129228</td>\n",
              "      <td>0.008701</td>\n",
              "    </tr>\n",
              "    <tr>\n",
              "      <th>...</th>\n",
              "      <td>...</td>\n",
              "      <td>...</td>\n",
              "      <td>...</td>\n",
              "    </tr>\n",
              "    <tr>\n",
              "      <th>58</th>\n",
              "      <td>Marquis</td>\n",
              "      <td>-0.099449</td>\n",
              "      <td>0.019004</td>\n",
              "    </tr>\n",
              "    <tr>\n",
              "      <th>59</th>\n",
              "      <td>Malik</td>\n",
              "      <td>-0.115047</td>\n",
              "      <td>0.021020</td>\n",
              "    </tr>\n",
              "    <tr>\n",
              "      <th>60</th>\n",
              "      <td>Trevon</td>\n",
              "      <td>-0.075159</td>\n",
              "      <td>0.011282</td>\n",
              "    </tr>\n",
              "    <tr>\n",
              "      <th>61</th>\n",
              "      <td>Tyrone</td>\n",
              "      <td>-0.072743</td>\n",
              "      <td>0.016502</td>\n",
              "    </tr>\n",
              "    <tr>\n",
              "      <th>62</th>\n",
              "      <td>Gergely</td>\n",
              "      <td>-0.070476</td>\n",
              "      <td>0.019848</td>\n",
              "    </tr>\n",
              "  </tbody>\n",
              "</table>\n",
              "<p>63 rows × 3 columns</p>\n",
              "</div>"
            ],
            "text/plain": [
              "       name  right-wrong  actor-actress\n",
              "0   Allison    -0.116287       0.009950\n",
              "1      Anne    -0.077043       0.010420\n",
              "2    Carrie    -0.121847       0.004095\n",
              "3     Emily    -0.117990       0.001316\n",
              "4      Jill    -0.129228       0.008701\n",
              "..      ...          ...            ...\n",
              "58  Marquis    -0.099449       0.019004\n",
              "59    Malik    -0.115047       0.021020\n",
              "60   Trevon    -0.075159       0.011282\n",
              "61   Tyrone    -0.072743       0.016502\n",
              "62  Gergely    -0.070476       0.019848\n",
              "\n",
              "[63 rows x 3 columns]"
            ]
          },
          "metadata": {
            "tags": []
          },
          "execution_count": 142
        }
      ]
    },
    {
      "cell_type": "code",
      "metadata": {
        "id": "FA8hho5AsXVG"
      },
      "source": [
        "df = df.merge(df2[[\"name\",\"right-wrong\"]])"
      ],
      "execution_count": null,
      "outputs": []
    },
    {
      "cell_type": "code",
      "metadata": {
        "id": "qv0EIztcssCg",
        "colab": {
          "base_uri": "https://localhost:8080/",
          "height": 419
        },
        "outputId": "25af9fe6-09a6-4b8f-8c4c-d201bf769dc8"
      },
      "source": [
        "df"
      ],
      "execution_count": null,
      "outputs": [
        {
          "output_type": "execute_result",
          "data": {
            "text/html": [
              "<div>\n",
              "<style scoped>\n",
              "    .dataframe tbody tr th:only-of-type {\n",
              "        vertical-align: middle;\n",
              "    }\n",
              "\n",
              "    .dataframe tbody tr th {\n",
              "        vertical-align: top;\n",
              "    }\n",
              "\n",
              "    .dataframe thead th {\n",
              "        text-align: right;\n",
              "    }\n",
              "</style>\n",
              "<table border=\"1\" class=\"dataframe\">\n",
              "  <thead>\n",
              "    <tr style=\"text-align: right;\">\n",
              "      <th></th>\n",
              "      <th>name</th>\n",
              "      <th>is_black</th>\n",
              "      <th>is_female</th>\n",
              "      <th>no_tokens</th>\n",
              "      <th>man-woman</th>\n",
              "      <th>actor-actress</th>\n",
              "      <th>rich-poor</th>\n",
              "      <th>right-wrong</th>\n",
              "    </tr>\n",
              "  </thead>\n",
              "  <tbody>\n",
              "    <tr>\n",
              "      <th>0</th>\n",
              "      <td>Allison</td>\n",
              "      <td>0</td>\n",
              "      <td>1</td>\n",
              "      <td>1</td>\n",
              "      <td>0.007486</td>\n",
              "      <td>0.009950</td>\n",
              "      <td>-0.031433</td>\n",
              "      <td>-0.116287</td>\n",
              "    </tr>\n",
              "    <tr>\n",
              "      <th>1</th>\n",
              "      <td>Anne</td>\n",
              "      <td>0</td>\n",
              "      <td>1</td>\n",
              "      <td>1</td>\n",
              "      <td>0.013520</td>\n",
              "      <td>0.010420</td>\n",
              "      <td>-0.012483</td>\n",
              "      <td>-0.077043</td>\n",
              "    </tr>\n",
              "    <tr>\n",
              "      <th>2</th>\n",
              "      <td>Carrie</td>\n",
              "      <td>0</td>\n",
              "      <td>1</td>\n",
              "      <td>1</td>\n",
              "      <td>0.016273</td>\n",
              "      <td>0.004095</td>\n",
              "      <td>-0.034184</td>\n",
              "      <td>-0.121847</td>\n",
              "    </tr>\n",
              "    <tr>\n",
              "      <th>3</th>\n",
              "      <td>Emily</td>\n",
              "      <td>0</td>\n",
              "      <td>1</td>\n",
              "      <td>1</td>\n",
              "      <td>0.018702</td>\n",
              "      <td>0.001316</td>\n",
              "      <td>-0.035679</td>\n",
              "      <td>-0.117990</td>\n",
              "    </tr>\n",
              "    <tr>\n",
              "      <th>4</th>\n",
              "      <td>Jill</td>\n",
              "      <td>0</td>\n",
              "      <td>1</td>\n",
              "      <td>1</td>\n",
              "      <td>0.021672</td>\n",
              "      <td>0.008701</td>\n",
              "      <td>-0.029178</td>\n",
              "      <td>-0.129228</td>\n",
              "    </tr>\n",
              "    <tr>\n",
              "      <th>...</th>\n",
              "      <td>...</td>\n",
              "      <td>...</td>\n",
              "      <td>...</td>\n",
              "      <td>...</td>\n",
              "      <td>...</td>\n",
              "      <td>...</td>\n",
              "      <td>...</td>\n",
              "      <td>...</td>\n",
              "    </tr>\n",
              "    <tr>\n",
              "      <th>58</th>\n",
              "      <td>Marquis</td>\n",
              "      <td>1</td>\n",
              "      <td>0</td>\n",
              "      <td>1</td>\n",
              "      <td>0.035058</td>\n",
              "      <td>0.019004</td>\n",
              "      <td>-0.026185</td>\n",
              "      <td>-0.099449</td>\n",
              "    </tr>\n",
              "    <tr>\n",
              "      <th>59</th>\n",
              "      <td>Malik</td>\n",
              "      <td>1</td>\n",
              "      <td>0</td>\n",
              "      <td>1</td>\n",
              "      <td>0.044105</td>\n",
              "      <td>0.021020</td>\n",
              "      <td>-0.036918</td>\n",
              "      <td>-0.115047</td>\n",
              "    </tr>\n",
              "    <tr>\n",
              "      <th>60</th>\n",
              "      <td>Trevon</td>\n",
              "      <td>1</td>\n",
              "      <td>0</td>\n",
              "      <td>3</td>\n",
              "      <td>0.020584</td>\n",
              "      <td>0.011282</td>\n",
              "      <td>0.013880</td>\n",
              "      <td>-0.075159</td>\n",
              "    </tr>\n",
              "    <tr>\n",
              "      <th>61</th>\n",
              "      <td>Tyrone</td>\n",
              "      <td>1</td>\n",
              "      <td>0</td>\n",
              "      <td>1</td>\n",
              "      <td>0.031813</td>\n",
              "      <td>0.016502</td>\n",
              "      <td>0.000868</td>\n",
              "      <td>-0.072743</td>\n",
              "    </tr>\n",
              "    <tr>\n",
              "      <th>62</th>\n",
              "      <td>Gergely</td>\n",
              "      <td>0</td>\n",
              "      <td>0</td>\n",
              "      <td>4</td>\n",
              "      <td>0.036746</td>\n",
              "      <td>0.019848</td>\n",
              "      <td>-0.012976</td>\n",
              "      <td>-0.070476</td>\n",
              "    </tr>\n",
              "  </tbody>\n",
              "</table>\n",
              "<p>63 rows × 8 columns</p>\n",
              "</div>"
            ],
            "text/plain": [
              "       name  is_black  is_female  ...  actor-actress  rich-poor  right-wrong\n",
              "0   Allison         0          1  ...       0.009950  -0.031433    -0.116287\n",
              "1      Anne         0          1  ...       0.010420  -0.012483    -0.077043\n",
              "2    Carrie         0          1  ...       0.004095  -0.034184    -0.121847\n",
              "3     Emily         0          1  ...       0.001316  -0.035679    -0.117990\n",
              "4      Jill         0          1  ...       0.008701  -0.029178    -0.129228\n",
              "..      ...       ...        ...  ...            ...        ...          ...\n",
              "58  Marquis         1          0  ...       0.019004  -0.026185    -0.099449\n",
              "59    Malik         1          0  ...       0.021020  -0.036918    -0.115047\n",
              "60   Trevon         1          0  ...       0.011282   0.013880    -0.075159\n",
              "61   Tyrone         1          0  ...       0.016502   0.000868    -0.072743\n",
              "62  Gergely         0          0  ...       0.019848  -0.012976    -0.070476\n",
              "\n",
              "[63 rows x 8 columns]"
            ]
          },
          "metadata": {
            "tags": []
          },
          "execution_count": 144
        }
      ]
    },
    {
      "cell_type": "code",
      "metadata": {
        "id": "KZAzZ9LxBtNI",
        "colab": {
          "base_uri": "https://localhost:8080/"
        },
        "outputId": "7238af1e-f94c-4c4a-c6e6-c262cc8dc3df"
      },
      "source": [
        "df[(df.is_black==1)&(df.is_female==1)][[\"actor-actress\",\"rich-poor\"]].mean()"
      ],
      "execution_count": null,
      "outputs": [
        {
          "output_type": "execute_result",
          "data": {
            "text/plain": [
              "actor-actress    0.007651\n",
              "rich-poor        0.007205\n",
              "dtype: float64"
            ]
          },
          "metadata": {
            "tags": []
          },
          "execution_count": 115
        }
      ]
    },
    {
      "cell_type": "code",
      "metadata": {
        "id": "L_PslIlQCaxX"
      },
      "source": [
        "avg_wm=[-0.023486, 0.027307]\n",
        "avg_wf=[-0.027589, 0.007907]\n",
        "avg_bm=[-0.004946, 0.016434]\n",
        "avg_bf=[0.007205, 0.007651]"
      ],
      "execution_count": null,
      "outputs": []
    },
    {
      "cell_type": "code",
      "metadata": {
        "id": "pR_3AXRXDXwD"
      },
      "source": [
        "w_mf_diff = abs(avg_wf[1]-avg_wm[1])"
      ],
      "execution_count": null,
      "outputs": []
    },
    {
      "cell_type": "code",
      "metadata": {
        "id": "bEGRdYSlDmdA"
      },
      "source": [
        "f_wb_diff = abs(avg_bf[0]-avg_wf[0])"
      ],
      "execution_count": null,
      "outputs": []
    },
    {
      "cell_type": "code",
      "metadata": {
        "id": "NS3eYF2oEdaW",
        "colab": {
          "base_uri": "https://localhost:8080/"
        },
        "outputId": "6e65ac81-7a97-4d5d-a738-3ee437513d36"
      },
      "source": [
        "f_wb_diff/w_mf_diff"
      ],
      "execution_count": null,
      "outputs": [
        {
          "output_type": "execute_result",
          "data": {
            "text/plain": [
              "1.7935051546391751"
            ]
          },
          "metadata": {
            "tags": []
          },
          "execution_count": 127
        }
      ]
    },
    {
      "cell_type": "code",
      "metadata": {
        "id": "aOAIzTxWEt6X"
      },
      "source": [
        "df.to_csv(\"names_BERT.csv\", index=False)"
      ],
      "execution_count": null,
      "outputs": []
    },
    {
      "cell_type": "code",
      "metadata": {
        "id": "c8Mgv1AqNoYt"
      },
      "source": [
        ""
      ],
      "execution_count": null,
      "outputs": []
    }
  ]
}