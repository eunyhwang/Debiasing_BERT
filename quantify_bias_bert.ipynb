{
  "nbformat": 4,
  "nbformat_minor": 0,
  "metadata": {
    "colab": {
      "name": "De-BiasBERT.ipynb",
      "provenance": [],
      "collapsed_sections": [
        "ZwfTdeAIrQ0R",
        "BVYh7sPRtN7Q"
      ],
      "toc_visible": true
    },
    "kernelspec": {
      "name": "python3",
      "display_name": "Python 3"
    },
    "language_info": {
      "name": "python"
    }
  },
  "cells": [
    {
      "cell_type": "markdown",
      "metadata": {
        "id": "uM5BqfCd5L9V"
      },
      "source": [
        "1. Load a word embedding model using the genism API.\n",
        "Gensim is a Python library for topic modelling, document indexing and similarity retrieval with large corpora. "
      ]
    },
    {
      "cell_type": "code",
      "metadata": {
        "colab": {
          "base_uri": "https://localhost:8080/"
        },
        "id": "gbgpBziV5D0A",
        "outputId": "285804d3-80dd-4b38-b7d2-94ba900f8330"
      },
      "source": [
        "#!pip install --upgrade gensim\n",
        "import gensim.downloader as api"
      ],
      "execution_count": null,
      "outputs": [
        {
          "output_type": "stream",
          "text": [
            "/usr/local/lib/python3.7/dist-packages/gensim/similarities/__init__.py:15: UserWarning: The gensim.similarities.levenshtein submodule is disabled, because the optional Levenshtein package <https://pypi.org/project/python-Levenshtein/> is unavailable. Install Levenhstein (e.g. `pip install python-Levenshtein`) to suppress this warning.\n",
            "  warnings.warn(msg)\n"
          ],
          "name": "stderr"
        }
      ]
    },
    {
      "cell_type": "markdown",
      "metadata": {
        "id": "e6uL-tCF6UIL"
      },
      "source": [
        "2. Create the Query object using the target words (male names and female names) and two attribute words sets (Career and Family terms) # modify later"
      ]
    },
    {
      "cell_type": "code",
      "metadata": {
        "id": "CwQiaT9O5kwq"
      },
      "source": [
        "#target sets (Male/Female names)\n",
        "male_names = ['John', 'Paul', 'Mike', 'Kevin', 'Steve', 'Greg', 'Jeff', 'Bill']\n",
        "female_names = ['Amy', 'Joan', 'Lisa', 'Sarah', 'Diana', 'Kate', 'Ann', 'Donna']\n",
        "\n",
        "#attribute sets (Career/Family titles)\n",
        "career = ['executive', 'management', 'professional', 'corporation',\n",
        "         'salary', 'office', 'business', 'career']\n",
        "family = ['home', 'parents', 'children', 'family', 'cousins', 'marriage',\n",
        "         'wedding', 'relatives']\n",
        "\n",
        "#query (T1, T2, A1, A2) order is not important\n",
        "gender_occupation_query = Query([male_names, female_names],\n",
        "                                [career, family],\n",
        "                                ['Male names', 'Female names'],\n",
        "                                ['Career', 'Family'])\n",
        "                      "
      ],
      "execution_count": null,
      "outputs": []
    },
    {
      "cell_type": "code",
      "metadata": {
        "id": "K1YHqqZXDhrm"
      },
      "source": [
        "import os\n",
        "import json\n",
        "import argparse # parser for command-line options, arguments and sub-commands\n",
        "\n",
        "\n",
        "def main(args):\n",
        "    weat_dict = dict()\n",
        "\n",
        "    # build weat_dict\n",
        "    for data_name in os.listdir(args.weat_dir):\n",
        "        path = os.path.join(args.weat_dir, data_name)\n",
        "\n",
        "        if os.path.abspath(path) == os.path.abspath(args.output):\n",
        "            continue\n",
        "\n",
        "        data_dict = dict()\n",
        "        weat_dict[data_name] = data_dict\n",
        "        keys = []\n",
        "\n",
        "        with open(path) as f:\n",
        "            for line in f.readlines():\n",
        "                if not line.strip():\n",
        "                    continue\n",
        "\n",
        "                key, values = line.split(':')\n",
        "                key = key.strip()\n",
        "                values = [w.strip().lower() for w in values.split(',')]\n",
        "\n",
        "                data_dict[key] = values\n",
        "                keys.append(key)\n",
        "\n",
        "        if len(keys) == 3:\n",
        "            data_dict['method'] = 'wefat'\n",
        "\n",
        "            data_dict['W_key'] = keys[0]\n",
        "            data_dict['A_key'] = keys[1]\n",
        "            data_dict['B_key'] = keys[2]\n",
        "\n",
        "            data_dict['targets'] = '{}'.format(keys[0])\n",
        "            data_dict['attributes'] = '{} vs {}'.format(keys[1], keys[2])\n",
        "\n",
        "        elif len(keys) == 4:\n",
        "            data_dict['method'] = 'weat'\n",
        "\n",
        "            data_dict['X_key'] = keys[0]\n",
        "            data_dict['Y_key'] = keys[1]\n",
        "            data_dict['A_key'] = keys[2]\n",
        "            data_dict['B_key'] = keys[3]\n",
        "\n",
        "            data_dict['targets'] = '{} vs {}'.format(keys[0], keys[1])\n",
        "            data_dict['attributes'] = '{} vs {}'.format(keys[2], keys[3])\n",
        "\n",
        "    with open(args.output, 'w') as f:\n",
        "        json.dump(weat_dict, f, sort_keys=True, indent=4)\n",
        "\n",
        "\n",
        "if __name__ == '__main__':\n",
        "    parser = argparse.ArgumentParser()\n",
        "    parser.add_argument('--weat_dir', type=str, default='weat/', required=True,\n",
        "                        help='WEAT data directory')\n",
        "    parser.add_argument('--output', type=str, default='weat.json', required=True,\n",
        "                        help='Output JSON file path')\n",
        "\n",
        "    args = parser.parse_args()\n",
        "    main(args)"
      ],
      "execution_count": null,
      "outputs": []
    },
    {
      "cell_type": "code",
      "metadata": {
        "id": "sLpYJbErkWf9"
      },
      "source": [
        "import math\n",
        "import numpy as np\n",
        "\n",
        "def square_rooted(x):\n",
        "    return math.sqrt(sum([a*a for a in x]))\n",
        "\n",
        "\n",
        "def cosine_similarity(x,y):\n",
        "    numerator = sum(a*b for a,b in zip(x,y))\n",
        "    denominator = square_rooted(x)*square_rooted(y)\n",
        "    return numerator/float(denominator)\n",
        "\n",
        "def weat_association(W, A1, A2):\n",
        "    \"\"\"\n",
        "    Returns association of the word w in W with the attribute for WEAT score. \n",
        "    param W: target words' vecotr representations\n",
        "    param A1, A2: attribute words' vector representations\n",
        "    return: (len(W), ) shaped numpy ndarray. each rows represet association of the word w in W\n",
        "    \"\"\"\n",
        "    return np.mean(cosine_similarity(W, A), axis=-1) - np.mean(cosine_similarity(W, A2), axis=-1)\n",
        "\n",
        "def weat_score(X, Y, A, B):\n",
        "    \"\"\"\n",
        "    Returns WEAT score\n",
        "    X, Y, A, B must be (len(words), dim) shaped numpy ndarray\n",
        "    CAUTION: this function assumes that there's no intersection word between X and Y\n",
        "    :param X: target words' vector representations\n",
        "    :param Y: target words' vector representations\n",
        "    :param A: attribute words' vector representations\n",
        "    :param B: attribute words' vector representations\n",
        "    :return: WEAT score\n",
        "    \"\"\"\n",
        "    x_association = weat_association(X, A, B)\n",
        "    y_association = weat_association(Y, A, B)\n",
        "\n",
        "    tmp1 = np.mean(x_association, axis=-1) - np.mean(y_association, axis=-1)\n",
        "    tmp2 = np.std(np.concatenate((x_association, y_association), axis=0))\n",
        "\n",
        "    return tmp1 / tmp2\n"
      ],
      "execution_count": null,
      "outputs": []
    },
    {
      "cell_type": "markdown",
      "metadata": {
        "id": "ennzdNOP0PbP"
      },
      "source": [
        "Bias Calculator"
      ]
    },
    {
      "cell_type": "code",
      "metadata": {
        "colab": {
          "base_uri": "https://localhost:8080/"
        },
        "id": "5dq04LhMXqa7",
        "outputId": "57363ad4-e2fc-4491-ac82-fb6a0a1c69e5"
      },
      "source": [
        "!pip install transformers"
      ],
      "execution_count": null,
      "outputs": [
        {
          "output_type": "stream",
          "text": [
            "Collecting transformers\n",
            "  Downloading transformers-4.10.2-py3-none-any.whl (2.8 MB)\n",
            "\u001b[K     |████████████████████████████████| 2.8 MB 5.1 MB/s \n",
            "\u001b[?25hCollecting huggingface-hub>=0.0.12\n",
            "  Downloading huggingface_hub-0.0.17-py3-none-any.whl (52 kB)\n",
            "\u001b[K     |████████████████████████████████| 52 kB 1.1 MB/s \n",
            "\u001b[?25hRequirement already satisfied: importlib-metadata in /usr/local/lib/python3.7/dist-packages (from transformers) (4.6.4)\n",
            "Requirement already satisfied: filelock in /usr/local/lib/python3.7/dist-packages (from transformers) (3.0.12)\n",
            "Collecting pyyaml>=5.1\n",
            "  Downloading PyYAML-5.4.1-cp37-cp37m-manylinux1_x86_64.whl (636 kB)\n",
            "\u001b[K     |████████████████████████████████| 636 kB 64.5 MB/s \n",
            "\u001b[?25hRequirement already satisfied: regex!=2019.12.17 in /usr/local/lib/python3.7/dist-packages (from transformers) (2019.12.20)\n",
            "Collecting sacremoses\n",
            "  Downloading sacremoses-0.0.45-py3-none-any.whl (895 kB)\n",
            "\u001b[K     |████████████████████████████████| 895 kB 60.3 MB/s \n",
            "\u001b[?25hRequirement already satisfied: requests in /usr/local/lib/python3.7/dist-packages (from transformers) (2.23.0)\n",
            "Collecting tokenizers<0.11,>=0.10.1\n",
            "  Downloading tokenizers-0.10.3-cp37-cp37m-manylinux_2_5_x86_64.manylinux1_x86_64.manylinux_2_12_x86_64.manylinux2010_x86_64.whl (3.3 MB)\n",
            "\u001b[K     |████████████████████████████████| 3.3 MB 54.4 MB/s \n",
            "\u001b[?25hRequirement already satisfied: numpy>=1.17 in /usr/local/lib/python3.7/dist-packages (from transformers) (1.19.5)\n",
            "Requirement already satisfied: tqdm>=4.27 in /usr/local/lib/python3.7/dist-packages (from transformers) (4.62.0)\n",
            "Requirement already satisfied: packaging in /usr/local/lib/python3.7/dist-packages (from transformers) (21.0)\n",
            "Requirement already satisfied: typing-extensions in /usr/local/lib/python3.7/dist-packages (from huggingface-hub>=0.0.12->transformers) (3.7.4.3)\n",
            "Requirement already satisfied: pyparsing>=2.0.2 in /usr/local/lib/python3.7/dist-packages (from packaging->transformers) (2.4.7)\n",
            "Requirement already satisfied: zipp>=0.5 in /usr/local/lib/python3.7/dist-packages (from importlib-metadata->transformers) (3.5.0)\n",
            "Requirement already satisfied: urllib3!=1.25.0,!=1.25.1,<1.26,>=1.21.1 in /usr/local/lib/python3.7/dist-packages (from requests->transformers) (1.24.3)\n",
            "Requirement already satisfied: idna<3,>=2.5 in /usr/local/lib/python3.7/dist-packages (from requests->transformers) (2.10)\n",
            "Requirement already satisfied: certifi>=2017.4.17 in /usr/local/lib/python3.7/dist-packages (from requests->transformers) (2021.5.30)\n",
            "Requirement already satisfied: chardet<4,>=3.0.2 in /usr/local/lib/python3.7/dist-packages (from requests->transformers) (3.0.4)\n",
            "Requirement already satisfied: click in /usr/local/lib/python3.7/dist-packages (from sacremoses->transformers) (7.1.2)\n",
            "Requirement already satisfied: six in /usr/local/lib/python3.7/dist-packages (from sacremoses->transformers) (1.15.0)\n",
            "Requirement already satisfied: joblib in /usr/local/lib/python3.7/dist-packages (from sacremoses->transformers) (1.0.1)\n",
            "Installing collected packages: tokenizers, sacremoses, pyyaml, huggingface-hub, transformers\n",
            "  Attempting uninstall: pyyaml\n",
            "    Found existing installation: PyYAML 3.13\n",
            "    Uninstalling PyYAML-3.13:\n",
            "      Successfully uninstalled PyYAML-3.13\n",
            "Successfully installed huggingface-hub-0.0.17 pyyaml-5.4.1 sacremoses-0.0.45 tokenizers-0.10.3 transformers-4.10.2\n"
          ],
          "name": "stdout"
        }
      ]
    },
    {
      "cell_type": "code",
      "metadata": {
        "id": "Hwkf6xSQ0S-Z"
      },
      "source": [
        "import numpy as np\n",
        "import torch\n",
        "\n",
        "def softmax(arr, axis=1): #calculating the scores which allows the higher correlation of the hidden state to have a larger fractional value. \n",
        "  e = np.exp(arr)\n",
        "  return e / e.sum(axis=axis, keepdims=True)"
      ],
      "execution_count": null,
      "outputs": []
    },
    {
      "cell_type": "markdown",
      "metadata": {
        "id": "A-BoxRttrgOH"
      },
      "source": [
        "\n",
        "\n",
        "\n",
        "\n",
        "---\n",
        "\n",
        "\n",
        "\n",
        "\n",
        "\n",
        "\n"
      ]
    },
    {
      "cell_type": "markdown",
      "metadata": {
        "id": "ZwfTdeAIrQ0R"
      },
      "source": [
        "# **0. Preprocessing** "
      ]
    },
    {
      "cell_type": "code",
      "metadata": {
        "colab": {
          "base_uri": "https://localhost:8080/"
        },
        "id": "hlRREOsir0YP",
        "outputId": "c40eb3d5-58f8-4d82-b425-39bcf66f05f8"
      },
      "source": [
        "!pip install transformers"
      ],
      "execution_count": 2,
      "outputs": [
        {
          "output_type": "stream",
          "name": "stdout",
          "text": [
            "Requirement already satisfied: transformers in /usr/local/lib/python3.7/dist-packages (4.11.0)\n",
            "Requirement already satisfied: tokenizers<0.11,>=0.10.1 in /usr/local/lib/python3.7/dist-packages (from transformers) (0.10.3)\n",
            "Requirement already satisfied: numpy>=1.17 in /usr/local/lib/python3.7/dist-packages (from transformers) (1.19.5)\n",
            "Requirement already satisfied: regex!=2019.12.17 in /usr/local/lib/python3.7/dist-packages (from transformers) (2019.12.20)\n",
            "Requirement already satisfied: requests in /usr/local/lib/python3.7/dist-packages (from transformers) (2.23.0)\n",
            "Requirement already satisfied: pyyaml>=5.1 in /usr/local/lib/python3.7/dist-packages (from transformers) (5.4.1)\n",
            "Requirement already satisfied: tqdm>=4.27 in /usr/local/lib/python3.7/dist-packages (from transformers) (4.62.3)\n",
            "Requirement already satisfied: huggingface-hub>=0.0.17 in /usr/local/lib/python3.7/dist-packages (from transformers) (0.0.17)\n",
            "Requirement already satisfied: packaging>=20.0 in /usr/local/lib/python3.7/dist-packages (from transformers) (21.0)\n",
            "Requirement already satisfied: importlib-metadata in /usr/local/lib/python3.7/dist-packages (from transformers) (4.8.1)\n",
            "Requirement already satisfied: filelock in /usr/local/lib/python3.7/dist-packages (from transformers) (3.0.12)\n",
            "Requirement already satisfied: sacremoses in /usr/local/lib/python3.7/dist-packages (from transformers) (0.0.46)\n",
            "Requirement already satisfied: typing-extensions in /usr/local/lib/python3.7/dist-packages (from huggingface-hub>=0.0.17->transformers) (3.7.4.3)\n",
            "Requirement already satisfied: pyparsing>=2.0.2 in /usr/local/lib/python3.7/dist-packages (from packaging>=20.0->transformers) (2.4.7)\n",
            "Requirement already satisfied: zipp>=0.5 in /usr/local/lib/python3.7/dist-packages (from importlib-metadata->transformers) (3.5.0)\n",
            "Requirement already satisfied: chardet<4,>=3.0.2 in /usr/local/lib/python3.7/dist-packages (from requests->transformers) (3.0.4)\n",
            "Requirement already satisfied: idna<3,>=2.5 in /usr/local/lib/python3.7/dist-packages (from requests->transformers) (2.10)\n",
            "Requirement already satisfied: certifi>=2017.4.17 in /usr/local/lib/python3.7/dist-packages (from requests->transformers) (2021.5.30)\n",
            "Requirement already satisfied: urllib3!=1.25.0,!=1.25.1,<1.26,>=1.21.1 in /usr/local/lib/python3.7/dist-packages (from requests->transformers) (1.24.3)\n",
            "Requirement already satisfied: six in /usr/local/lib/python3.7/dist-packages (from sacremoses->transformers) (1.15.0)\n",
            "Requirement already satisfied: joblib in /usr/local/lib/python3.7/dist-packages (from sacremoses->transformers) (1.0.1)\n",
            "Requirement already satisfied: click in /usr/local/lib/python3.7/dist-packages (from sacremoses->transformers) (7.1.2)\n"
          ]
        }
      ]
    },
    {
      "cell_type": "code",
      "metadata": {
        "colab": {
          "base_uri": "https://localhost:8080/"
        },
        "id": "KSphRTWArYls",
        "outputId": "80f6fb98-cea6-4cdd-807a-bbf2d8f491b9"
      },
      "source": [
        "import numpy as np\n",
        "import torch\n",
        "\n",
        "from transformers import AutoTokenizer, AutoModelWithLMHead, pipeline #what is the difference between this model with the others?\n",
        "\n",
        "tokenizer = AutoTokenizer.from_pretrained(\"bert-base-uncased\") #bert-base-uncased: This model is not case-sensitive: it doesn't make a difference between english and English.\n",
        "model = AutoModelWithLMHead.from_pretrained(\"bert-base-uncased\") \n"
      ],
      "execution_count": 3,
      "outputs": [
        {
          "output_type": "stream",
          "name": "stderr",
          "text": [
            "/usr/local/lib/python3.7/dist-packages/transformers/configuration_utils.py:337: UserWarning: Passing `gradient_checkpointing` to a config initialization is deprecated and will be removed in v5 Transformers. Using `model.gradient_checkpointing_enable()` instead, or if you are using the `Trainer` API, pass `gradient_checkpointing=True` in your `TrainingArguments`.\n",
            "  \"Passing `gradient_checkpointing` to a config initialization is deprecated and will be removed in v5 \"\n",
            "/usr/local/lib/python3.7/dist-packages/transformers/models/auto/modeling_auto.py:664: FutureWarning: The class `AutoModelWithLMHead` is deprecated and will be removed in a future version. Please use `AutoModelForCausalLM` for causal language models, `AutoModelForMaskedLM` for masked language models and `AutoModelForSeq2SeqLM` for encoder-decoder models.\n",
            "  FutureWarning,\n",
            "Some weights of the model checkpoint at bert-base-uncased were not used when initializing BertForMaskedLM: ['cls.seq_relationship.bias', 'cls.seq_relationship.weight']\n",
            "- This IS expected if you are initializing BertForMaskedLM from the checkpoint of a model trained on another task or with another architecture (e.g. initializing a BertForSequenceClassification model from a BertForPreTraining model).\n",
            "- This IS NOT expected if you are initializing BertForMaskedLM from the checkpoint of a model that you expect to be exactly identical (initializing a BertForSequenceClassification model from a BertForSequenceClassification model).\n"
          ]
        }
      ]
    },
    {
      "cell_type": "markdown",
      "metadata": {
        "id": "BVYh7sPRtN7Q"
      },
      "source": [
        "# **1. Bias Score**"
      ]
    },
    {
      "cell_type": "code",
      "metadata": {
        "colab": {
          "base_uri": "https://localhost:8080/"
        },
        "id": "2U8t5cIZSfEj",
        "outputId": "a3a27eb1-6e3c-4f12-ca17-b60360a9e2b2"
      },
      "source": [
        "# Prepare a template sentence\n",
        "\"He is a programmer.\"\n",
        "\"[Target] is a [Attribute].\"\n",
        "\n",
        "# Replace Target word with [MASK] and compute the probability that BERT assigns \"he\" for the target word.\n",
        "sentence = f\"{tokenizer.mask_token} is a programmer.\"\n",
        "\n",
        "input_ids = tokenizer.encode(sentence, return_tensors='pt') \n",
        "#return_tensors = 'pt' is for the tokenizer to return PyTorch tensors. (if you don't, it returns to a list)\n",
        "#a tokenzied representation of our text > a labels tensor to calculate loss against. example output: tensor([[ 101, 2002, 2003, 1037,  103, 1012,  102]])\n",
        "mask_token_index = torch.where(input_ids == tokenizer.mask_token_id)[1]\n",
        "\n",
        "token_logits = model(input_ids)[0] #get a tensor of logits\n",
        "mask_token_logits = token_logits[0, mask_token_index, :] # what is this for?\n",
        "mask_token_logits = torch.softmax(mask_token_logits, dim=1) #to get probability, apply softmax on the logits\n",
        "\n",
        "'''\n",
        "top_5 = torch.topk(mask_token_logits, 5, dim=1)\n",
        "top_5_tokens = zip(top_5.indices[0].tolist(), top_5.values[0].tolist())\n",
        "\n",
        "for token, score in top_5_tokens:\n",
        "  print(sentence.replace(tokenizer.mask_token, tokenizer.decode([token])), f\"(score: {score})\")\n",
        "'''\n",
        "\n",
        "# Get the probability of token_id\n",
        "target_word = 'he'\n",
        "target_word_id = tokenizer.encode(target_word, add_special_tokens=False)[0] \n",
        "\n",
        "\n",
        "token_prob = mask_token_logits[:, target_word_id].detach().numpy()[0] # extract the prob from tensor (convert into numpy)\n",
        "what_is_this = mask_token_logits[:, target_word_id].detach().numpy()\n",
        "print(what_is_this.shape[0]) \n",
        "#print(token_prob)\n",
        "\n",
        "#print(f\"Probability of {target_word}: {mask_token_logits[:, target_word_id]}\")\n",
        "\n",
        "# Replace both Target word and Attribute word with [MASK] and compute the probability. \n",
        "\n",
        "sentence_masked = f\"{tokenizer.mask_token} is a {tokenizer.mask_token}.\"\n"
      ],
      "execution_count": 82,
      "outputs": [
        {
          "output_type": "stream",
          "name": "stdout",
          "text": [
            "1\n"
          ]
        }
      ]
    },
    {
      "cell_type": "code",
      "metadata": {
        "colab": {
          "base_uri": "https://localhost:8080/"
        },
        "id": "UGLbbRI6Onqg",
        "outputId": "a3c9b40b-5671-44de-e1fc-6ece5f86d5a3"
      },
      "source": [
        "#error occures with EEC dataset [error] index 0 is out of bounds for axis 0 with size 0\n",
        "sentence = f\"{tokenizer.mask_token} is a {tokenizer.mask_token}.\"\n",
        "input_ids = tokenizer.encode(sentence, return_tensors='pt') #a tokenzied representation of our text > a labels tensor to calculate loss against. example output: tensor([[ 101, 2002, 2003, 1037,  103, 1012,  102]])\n",
        "#print(input_ids)\n",
        "#print(tokenizer.mask_token_id) # mask_token_id: a special token representing a masked token. 103 always? yes\n",
        "mask_index = torch.where(input_ids == tokenizer.mask_token_id)[1] # 1 is correct. output: tensor[0], tensor[4]\n",
        "token_logits = model(input_ids)[0] #get a tensor of logits\n",
        "token_logits = model(input_ids)\n",
        "token_logits[0]\n",
        "#mask_token_logits = token_logits[0, mask_token_index, :]\n",
        "#input_ids\n",
        "#torch.where(input_ids == tokenizer.mask_token_id)[1]\n"
      ],
      "execution_count": null,
      "outputs": [
        {
          "output_type": "execute_result",
          "data": {
            "text/plain": [
              "tensor([[[ -6.2547,  -6.2237,  -6.2335,  ...,  -5.6797,  -5.3782,  -3.6820],\n",
              "         [ -5.7224,  -5.8551,  -5.7565,  ...,  -6.1741,  -5.7089,  -3.6054],\n",
              "         [ -8.6220,  -9.1370,  -8.5651,  ...,  -8.4831,  -6.4301,  -5.6664],\n",
              "         ...,\n",
              "         [ -1.7054,  -1.9459,  -1.8709,  ...,  -2.4591,  -3.8057,  -4.2187],\n",
              "         [-12.4419, -11.7795, -12.4005,  ..., -10.0734, -11.2097,  -7.6816],\n",
              "         [ -7.7706,  -7.6850,  -7.7349,  ...,  -7.1374,  -6.8456,  -4.5346]]],\n",
              "       grad_fn=<AddBackward0>)"
            ]
          },
          "metadata": {},
          "execution_count": 23
        }
      ]
    },
    {
      "cell_type": "code",
      "metadata": {
        "id": "mPYEhnsrwlWM"
      },
      "source": [
        "def get_prob(sentence, target_word):\n",
        "  input_ids = tokenizer.encode(sentence, return_tensors='pt')\n",
        "  mask_token_index = torch.where(input_ids == tokenizer.mask_token_id)[1] #mask's position 0 or 1?\n",
        "\n",
        "  token_logits = model(input_ids)[0]\n",
        "  mask_token_logits = token_logits[0, mask_token_index, :] #get the logits\n",
        "  mask_token_logits = torch.softmax(mask_token_logits, dim=1) #to get probability, apply softmax on the logits\n",
        "\n",
        "  target_word_id = tokenizer.encode(target_word, add_special_tokens=False)[0]\n",
        "  token_prob = mask_token_logits[:, target_word_id].detach().numpy()[0] #sometimes get an error \"index 0 is out of bounds for axis 0 with size 0\" which means that I don't have the inex I'm trying to reference.\n",
        "  ##solved with try/except block?\n",
        "\n",
        "  return token_prob\n",
        "\n",
        "\n",
        "def score(sentence, sentence_masked, target_word):\n",
        "  prob = get_prob(sentence, target_word)\n",
        "  prior_prob = get_prob(sentence_masked, target_word)\n",
        "  association = np.log(prob/prior_prob)\n",
        "\n",
        "  return association"
      ],
      "execution_count": 4,
      "outputs": []
    },
    {
      "cell_type": "code",
      "metadata": {
        "id": "BmmkWi9sqvOm"
      },
      "source": [
        "\n",
        "input_ids = tokenizer.encode(sentence, return_tensors='pt')\n",
        "mask_token_index = torch.where(input_ids == tokenizer.mask_token_id)"
      ],
      "execution_count": null,
      "outputs": []
    },
    {
      "cell_type": "code",
      "metadata": {
        "id": "tcuMNqXByCoy"
      },
      "source": [
        "#gender\n",
        "sample_sentence = f\"{tokenizer.mask_token} is a programmer\"\n",
        "sample_sentence_masked = f\"{tokenizer.mask_token} is a {tokenizer.mask_token}.\"\n",
        "sample_mw = \"he\"\n",
        "sample_fw = \"she\"\n",
        "#prob(sample_sentence, sample_mw)"
      ],
      "execution_count": 5,
      "outputs": []
    },
    {
      "cell_type": "code",
      "metadata": {
        "colab": {
          "base_uri": "https://localhost:8080/"
        },
        "id": "Ql1GsIyHEDB3",
        "outputId": "d73fbbde-b413-40ab-c7b9-81c3a7326eed"
      },
      "source": [
        "#get_prob(sample_sentence_masked, sample_fw)\n",
        "score(sample_sentence, sample_sentence_masked, sample_fw)"
      ],
      "execution_count": 6,
      "outputs": [
        {
          "output_type": "execute_result",
          "data": {
            "text/plain": [
              "-0.08490357"
            ]
          },
          "metadata": {},
          "execution_count": 6
        }
      ]
    },
    {
      "cell_type": "code",
      "metadata": {
        "id": "UaZW0_V47bJP"
      },
      "source": [
        "#race\n",
        "sample_sentence = f\"{tokenizer.mask_token} is happy.\"\n",
        "sample_sentence_masked = f\"{tokenizer.mask_token} is {tokenizer.mask_token}.\"\n",
        "sample_aw = \"Brad\"\n",
        "sample_afw = \"Hakim\""
      ],
      "execution_count": 7,
      "outputs": []
    },
    {
      "cell_type": "code",
      "metadata": {
        "colab": {
          "base_uri": "https://localhost:8080/"
        },
        "id": "effTFiZ4yS-l",
        "outputId": "f30ea973-7573-43fb-fe47-8ba320643e72"
      },
      "source": [
        "print(\"Target probability:\",get_prob(sample_sentence, sample_aw))\n",
        "print(\"Attribute prior probability:\", get_prob(sample_sentence_masked, sample_aw))\n"
      ],
      "execution_count": 8,
      "outputs": [
        {
          "output_type": "stream",
          "name": "stdout",
          "text": [
            "Target probability: 0.0005264802\n",
            "Attribute prior probability: 0.00020677218\n"
          ]
        }
      ]
    },
    {
      "cell_type": "markdown",
      "metadata": {
        "id": "4OFnAlYHEnkS"
      },
      "source": [
        "# **2. Data** \n",
        "\n"
      ]
    },
    {
      "cell_type": "markdown",
      "metadata": {
        "id": "pxBne4zKRWWd"
      },
      "source": [
        "##2.1  An Implicit Association Test (IAT) data \n"
      ]
    },
    {
      "cell_type": "code",
      "metadata": {
        "id": "rZB2KORHEmha"
      },
      "source": [
        "#Target Words\n",
        "Japanese_names = [\"Hitaka\", \"Yokomichi\", \"Fukamachi\", \"Yamamoto\", \"Itsumatsu\", \"Yagimoto\", \"Kawabashi\", \"Tsukimoto\", \"Kushibashi\", \"Tanaka\", \"Kuzumaki\", \"Takasawa\", \"Fujimoto\", \"Sugimoto\", \"Fukuyama\", \"Samukawa\", \"Harashima\", \"Sakata\", \"Kamakura\", \"Namikawa\", \"Kitayama\", \"Nakamoto\", \"Minakami\", \"Morimoto\", \"Miyamatsu\"]\n",
        "Korean_names = [\"Hwang\", \"Hyun\", \"Choung\", \"Maeng\", \"Chun\", \"Choe\", \"Kwon\", \"Sunwoo\", \"Whang\", \"Byun\", \"Sohn\", \"Kung\", \"Youn\", \"Chae\", \"Choi\", \"Chon\", \"Kwan\", \"Jung\", \"Kang\", \"Hwangbo\", \"Bhak\", \"Paik\", \"Chong\", \"Jang\", \"Yoon\"]\n",
        "Truncated_Japanese_names = [\"Hitak\", \"Yoko\", \"Fukama\", \"Yamam\", \"Itsu\", \"Yagi\", \"Kawa\", \"Tsukim\", \"Kushi\", \"Tana\", \"Kuzu\", \"Taka\", \"Fuji\", \"Sugi\", \"Fuku\", \"Samu\", \"Hara\", \"Saka\", \"Kama\", \"Namikaw\", \"Kita\", \"Naka\", \"Minak\", \"Mori\", \"Miya\"]\n",
        "White_American_male_names = [\"Adam\", \"Chip\", \"Harry\", \"Josh\", \"Roger\", \"Alan\", \"Frank\", \"Ian\", \"Justin\", \"Ryan\", \"Andrew\", \"Fred\", \"Jack\", \"Matthew\", \"Stephen\", \"Brad\", \"Greg\", \"Jed\", \"Paul\", \"Todd\", \"Brandon\", \"Hank\", \"Jonathan\", \"Peter\", \"Wilbur\"]\n",
        "Black_American_male_names = [\"Alonzo\", \"Jamel\", \"Lerone\", \"Percell\", \"Theo\", \"Alphonse\", \"Jerome\", \"Leroy\", \"Rasaan\", \"Torrance\", \"Darnell\", \"Lamar\", \"Lionel\", \"Rashaun\", \"Tyree\", \"Deion\", \"Lamont\", \"Malik\", \"Terrence\", \"Tyrone\", \"Everol\", \"Lavon\", \"Marcellus\", \"Terryl\", \"Wardell\"]\n",
        "White_American_female_names = [\"Amanda\", \"Courtney\", \"Heather\", \"Melanie\", \"Sara\", \"Amber\", \"Crystal\", \"Katie\", \"Meredith\", \"Shannon\", \"Betsy\", \"Donna\", \"Kristin\", \"Nancy\", \"Stephanie\", \"Bobbie-Sue\", \"Ellen\", \"Lauren\", \"Peggy\", \"Sue-Ellen\", \"Colleen\", \"Emily\", \"Megan\", \"Rachel\", \"Wendy\"]\n",
        "Black_American_female_names = [\"Aiesha\", \"Lashelle\", \"Nichelle\", \"Shereen\", \"Temeka\", \"Ebony\", \"Latisha\", \"Shaniqua\", \"Tameisha\", \"Teretha\", \"Jasmine\", \"Latonya\", \"Shanise\", \"Tanisha\", \"Tia\", \"Lakisha\", \"Latoya\", \"Sharise\", \"Tashika\", \"Yolanda\", \"Lashandra\", \"Malika\", \"Shavonn\", \"Tawanda\", \"Yvette\"]\n",
        "Black_names = Black_American_male_names + Black_American_female_names \n",
        "White_names = White_American_male_names + White_American_female_names #50\n",
        "\n",
        "#Attribute Words\n",
        "Good_words = [\"Honest\", \"Joy\", \"Love\", \"Peace\", \"Wonderful\", \"Honor\", \"Pleasure\", \"Glorious\", \"Laughter\", \"Happy\"]\n",
        "Bad_words = [\"Agony\", \"Prison\", \"Terrible\", \"Horrible\", \"Nasty\", \"Evil\", \"Awful\", \"Failure\", \"Hurt\", \"Poverty\"]"
      ],
      "execution_count": 5,
      "outputs": []
    },
    {
      "cell_type": "code",
      "metadata": {
        "id": "lWK6r1g3FWfQ"
      },
      "source": [
        "sample_sentence = f\"{tokenizer.mask_token} is happy.\"\n",
        "sample_sentence_masked = f\"{tokenizer.mask_token} is {tokenizer.mask_token}.\"\n",
        "#sample_sentence = f\"‘The conversation with {tokenizer.mask_token} was horrible.\"\n",
        "#sample_sentence_masked = f\"The conversation with {tokenizer.mask_token} was {tokenizer.mask_token}.\""
      ],
      "execution_count": 14,
      "outputs": []
    },
    {
      "cell_type": "code",
      "metadata": {
        "colab": {
          "base_uri": "https://localhost:8080/"
        },
        "id": "Vfmt8B5F8hZA",
        "outputId": "ecfc1b51-0836-44f8-aac4-628fa44ed2c5"
      },
      "source": [
        "#score(sample_sentence, sample_sentence_masked, sample_mw)\n",
        "score(sample_sentence, sample_sentence_masked, 'her')"
      ],
      "execution_count": null,
      "outputs": [
        {
          "output_type": "execute_result",
          "data": {
            "text/plain": [
              "1.3227628"
            ]
          },
          "metadata": {},
          "execution_count": 39
        }
      ]
    },
    {
      "cell_type": "code",
      "metadata": {
        "colab": {
          "base_uri": "https://localhost:8080/"
        },
        "id": "R5dD8W2085VE",
        "outputId": "5c8c4a05-b9b8-4a93-afe2-6feaf597ac77"
      },
      "source": [
        "print(\"White American:\", score(sample_sentence, sample_sentence_masked, \"Adam\"))\n",
        "print(\"Japanese:\", score(sample_sentence, sample_sentence_masked, \"Hitaka\"))\n",
        "print(\"Korean:\", score(sample_sentence, sample_sentence_masked, \"Hwang\"))\n",
        "print(\"Black American:\", score(sample_sentence, sample_sentence_masked, \"Alonzo\"))"
      ],
      "execution_count": 11,
      "outputs": [
        {
          "output_type": "stream",
          "name": "stdout",
          "text": [
            "White American: -0.054676913\n",
            "Japanese: 0.12985544\n",
            "Korean: -0.62839705\n",
            "Black American: -0.77253926\n"
          ]
        }
      ]
    },
    {
      "cell_type": "markdown",
      "metadata": {
        "id": "G32yVcYN8jHN"
      },
      "source": [
        "#**3. Plotting**"
      ]
    },
    {
      "cell_type": "markdown",
      "metadata": {
        "id": "evHCPEri83Cv"
      },
      "source": [
        "3.1 create four lists (white american, korean, japanese, black american) of scores with the attribute \"happy\"\n"
      ]
    },
    {
      "cell_type": "code",
      "metadata": {
        "id": "NSn1Lp-63h7t"
      },
      "source": [
        "# create a list of scores with the attribute \"happy\"\n",
        "#data = {'white_american': [a for a in White_names], 'emotion word': [a for a in emotion_words]}\n",
        "def get_list(name_list, attribute_word):\n",
        "  sample_sentence = f\"{tokenizer.mask_token} is happy.\"\n",
        "  sample_sentence_masked = f\"{tokenizer.mask_token} is {tokenizer.mask_token}.\"\n",
        "  score_list = []\n",
        "  for name in name_list:\n",
        "    score_list.append(score(sample_sentence, sample_sentence_masked, name))\n",
        "    \n",
        "  return score_list\n",
        "#output: [0.7557069, 0.10728561, 0.8170987, 0.9986831, 1.1286151, 0.6211711, 1.0266936, 1.1127487, 0.47095704, 1.3455651, 1.2774255, 0.88605505, 0.9592774, 0.23234563, 0.35004058, 0.9345962, 0.8906533, 0.6567374, 0.76856726, 0.06865844, 0.87254965, 0.76424813, 0.29678065, 0.33684844, 1.3196832, 0.57769644, 0.7553741, 1.0121622, 1.8641241, 1.2491404, 1.3822653, 0.67383295, 0.99662566, 0.79990786, 1.1835644, 1.4027702, 2.20842, 1.1761029, 1.2255155, 1.1497813, 0.8250324, 1.486984, 0.97088486, 1.2103407, 1.5908242, 0.86580384, 0.6639157, 1.1972872, 0.85567445, 0.75119984]"
      ],
      "execution_count": 30,
      "outputs": []
    },
    {
      "cell_type": "code",
      "metadata": {
        "id": "gcAHAWTa5-gG"
      },
      "source": [
        "white_american = get_list(White_names)\n",
        "black_american = get_list(Black_names)\n",
        "korean = get_list(Korean_names)\n",
        "japanese = get_list(Japanese_names)"
      ],
      "execution_count": 34,
      "outputs": []
    },
    {
      "cell_type": "markdown",
      "metadata": {
        "id": "bkDGM6-787sw"
      },
      "source": [
        "create a pandas datafram from lists"
      ]
    },
    {
      "cell_type": "code",
      "metadata": {
        "colab": {
          "base_uri": "https://localhost:8080/",
          "height": 824
        },
        "id": "MMd1mQ7j80tj",
        "outputId": "f875e659-aef4-4e54-9601-c47faeed5415"
      },
      "source": [
        "import pandas as pd\n",
        "df = pd.DataFrame(list(zip(white_american, black_american, korean, japanese)),\n",
        "                  columns = ['White_american', 'Black_american','Korean', 'Japanese'])\n",
        "df"
      ],
      "execution_count": 36,
      "outputs": [
        {
          "output_type": "execute_result",
          "data": {
            "text/html": [
              "<div>\n",
              "<style scoped>\n",
              "    .dataframe tbody tr th:only-of-type {\n",
              "        vertical-align: middle;\n",
              "    }\n",
              "\n",
              "    .dataframe tbody tr th {\n",
              "        vertical-align: top;\n",
              "    }\n",
              "\n",
              "    .dataframe thead th {\n",
              "        text-align: right;\n",
              "    }\n",
              "</style>\n",
              "<table border=\"1\" class=\"dataframe\">\n",
              "  <thead>\n",
              "    <tr style=\"text-align: right;\">\n",
              "      <th></th>\n",
              "      <th>White_american</th>\n",
              "      <th>Black_american</th>\n",
              "      <th>Korean</th>\n",
              "      <th>Japanese</th>\n",
              "    </tr>\n",
              "  </thead>\n",
              "  <tbody>\n",
              "    <tr>\n",
              "      <th>0</th>\n",
              "      <td>0.755707</td>\n",
              "      <td>0.928345</td>\n",
              "      <td>-1.261957</td>\n",
              "      <td>-0.466453</td>\n",
              "    </tr>\n",
              "    <tr>\n",
              "      <th>1</th>\n",
              "      <td>0.107286</td>\n",
              "      <td>-1.241485</td>\n",
              "      <td>-0.192559</td>\n",
              "      <td>0.647429</td>\n",
              "    </tr>\n",
              "    <tr>\n",
              "      <th>2</th>\n",
              "      <td>0.817099</td>\n",
              "      <td>-0.620611</td>\n",
              "      <td>0.459902</td>\n",
              "      <td>-1.930636</td>\n",
              "    </tr>\n",
              "    <tr>\n",
              "      <th>3</th>\n",
              "      <td>0.998683</td>\n",
              "      <td>-0.061495</td>\n",
              "      <td>0.458628</td>\n",
              "      <td>-1.204832</td>\n",
              "    </tr>\n",
              "    <tr>\n",
              "      <th>4</th>\n",
              "      <td>1.128615</td>\n",
              "      <td>0.821327</td>\n",
              "      <td>-0.724896</td>\n",
              "      <td>-1.830684</td>\n",
              "    </tr>\n",
              "    <tr>\n",
              "      <th>5</th>\n",
              "      <td>0.621171</td>\n",
              "      <td>0.928345</td>\n",
              "      <td>0.459902</td>\n",
              "      <td>-0.500059</td>\n",
              "    </tr>\n",
              "    <tr>\n",
              "      <th>6</th>\n",
              "      <td>1.026694</td>\n",
              "      <td>0.118723</td>\n",
              "      <td>-1.221232</td>\n",
              "      <td>-0.590702</td>\n",
              "    </tr>\n",
              "    <tr>\n",
              "      <th>7</th>\n",
              "      <td>1.112749</td>\n",
              "      <td>0.162481</td>\n",
              "      <td>-1.377547</td>\n",
              "      <td>-1.015403</td>\n",
              "    </tr>\n",
              "    <tr>\n",
              "      <th>8</th>\n",
              "      <td>0.470957</td>\n",
              "      <td>-0.342059</td>\n",
              "      <td>-0.563216</td>\n",
              "      <td>-1.602864</td>\n",
              "    </tr>\n",
              "    <tr>\n",
              "      <th>9</th>\n",
              "      <td>1.345565</td>\n",
              "      <td>-0.076101</td>\n",
              "      <td>-0.863822</td>\n",
              "      <td>-1.297860</td>\n",
              "    </tr>\n",
              "    <tr>\n",
              "      <th>10</th>\n",
              "      <td>1.277426</td>\n",
              "      <td>0.350991</td>\n",
              "      <td>-1.047680</td>\n",
              "      <td>-1.602864</td>\n",
              "    </tr>\n",
              "    <tr>\n",
              "      <th>11</th>\n",
              "      <td>0.886055</td>\n",
              "      <td>0.348639</td>\n",
              "      <td>-1.090937</td>\n",
              "      <td>-0.385900</td>\n",
              "    </tr>\n",
              "    <tr>\n",
              "      <th>12</th>\n",
              "      <td>0.959277</td>\n",
              "      <td>0.577478</td>\n",
              "      <td>-1.717872</td>\n",
              "      <td>-0.679446</td>\n",
              "    </tr>\n",
              "    <tr>\n",
              "      <th>13</th>\n",
              "      <td>0.232346</td>\n",
              "      <td>-0.669092</td>\n",
              "      <td>-0.226054</td>\n",
              "      <td>0.154597</td>\n",
              "    </tr>\n",
              "    <tr>\n",
              "      <th>14</th>\n",
              "      <td>0.350041</td>\n",
              "      <td>0.236230</td>\n",
              "      <td>-1.237774</td>\n",
              "      <td>-1.930636</td>\n",
              "    </tr>\n",
              "    <tr>\n",
              "      <th>15</th>\n",
              "      <td>0.934596</td>\n",
              "      <td>-1.614833</td>\n",
              "      <td>0.459902</td>\n",
              "      <td>1.132803</td>\n",
              "    </tr>\n",
              "    <tr>\n",
              "      <th>16</th>\n",
              "      <td>0.890653</td>\n",
              "      <td>-0.292892</td>\n",
              "      <td>0.518584</td>\n",
              "      <td>-0.009492</td>\n",
              "    </tr>\n",
              "    <tr>\n",
              "      <th>17</th>\n",
              "      <td>0.656737</td>\n",
              "      <td>0.147344</td>\n",
              "      <td>-0.123336</td>\n",
              "      <td>0.240199</td>\n",
              "    </tr>\n",
              "    <tr>\n",
              "      <th>18</th>\n",
              "      <td>0.768567</td>\n",
              "      <td>-0.099316</td>\n",
              "      <td>-0.299355</td>\n",
              "      <td>-0.674815</td>\n",
              "    </tr>\n",
              "    <tr>\n",
              "      <th>19</th>\n",
              "      <td>0.068658</td>\n",
              "      <td>1.045163</td>\n",
              "      <td>-1.261957</td>\n",
              "      <td>-0.075281</td>\n",
              "    </tr>\n",
              "    <tr>\n",
              "      <th>20</th>\n",
              "      <td>0.872550</td>\n",
              "      <td>-0.443822</td>\n",
              "      <td>-1.232938</td>\n",
              "      <td>0.488262</td>\n",
              "    </tr>\n",
              "    <tr>\n",
              "      <th>21</th>\n",
              "      <td>0.764248</td>\n",
              "      <td>-0.417677</td>\n",
              "      <td>0.627177</td>\n",
              "      <td>-1.340613</td>\n",
              "    </tr>\n",
              "    <tr>\n",
              "      <th>22</th>\n",
              "      <td>0.296781</td>\n",
              "      <td>0.440148</td>\n",
              "      <td>0.523074</td>\n",
              "      <td>1.704829</td>\n",
              "    </tr>\n",
              "    <tr>\n",
              "      <th>23</th>\n",
              "      <td>0.336848</td>\n",
              "      <td>0.688030</td>\n",
              "      <td>-0.092579</td>\n",
              "      <td>-0.611390</td>\n",
              "    </tr>\n",
              "    <tr>\n",
              "      <th>24</th>\n",
              "      <td>1.319683</td>\n",
              "      <td>-1.114876</td>\n",
              "      <td>0.123351</td>\n",
              "      <td>0.102194</td>\n",
              "    </tr>\n",
              "  </tbody>\n",
              "</table>\n",
              "</div>"
            ],
            "text/plain": [
              "    White_american  Black_american    Korean  Japanese\n",
              "0         0.755707        0.928345 -1.261957 -0.466453\n",
              "1         0.107286       -1.241485 -0.192559  0.647429\n",
              "2         0.817099       -0.620611  0.459902 -1.930636\n",
              "3         0.998683       -0.061495  0.458628 -1.204832\n",
              "4         1.128615        0.821327 -0.724896 -1.830684\n",
              "5         0.621171        0.928345  0.459902 -0.500059\n",
              "6         1.026694        0.118723 -1.221232 -0.590702\n",
              "7         1.112749        0.162481 -1.377547 -1.015403\n",
              "8         0.470957       -0.342059 -0.563216 -1.602864\n",
              "9         1.345565       -0.076101 -0.863822 -1.297860\n",
              "10        1.277426        0.350991 -1.047680 -1.602864\n",
              "11        0.886055        0.348639 -1.090937 -0.385900\n",
              "12        0.959277        0.577478 -1.717872 -0.679446\n",
              "13        0.232346       -0.669092 -0.226054  0.154597\n",
              "14        0.350041        0.236230 -1.237774 -1.930636\n",
              "15        0.934596       -1.614833  0.459902  1.132803\n",
              "16        0.890653       -0.292892  0.518584 -0.009492\n",
              "17        0.656737        0.147344 -0.123336  0.240199\n",
              "18        0.768567       -0.099316 -0.299355 -0.674815\n",
              "19        0.068658        1.045163 -1.261957 -0.075281\n",
              "20        0.872550       -0.443822 -1.232938  0.488262\n",
              "21        0.764248       -0.417677  0.627177 -1.340613\n",
              "22        0.296781        0.440148  0.523074  1.704829\n",
              "23        0.336848        0.688030 -0.092579 -0.611390\n",
              "24        1.319683       -1.114876  0.123351  0.102194"
            ]
          },
          "metadata": {},
          "execution_count": 36
        }
      ]
    },
    {
      "cell_type": "markdown",
      "metadata": {
        "id": "uI12yMCzlyEk"
      },
      "source": [
        "3.2 Given a template \"{Target} is {Attribute}\", create a list of distrbutions with the four classes of names(5) and postive attributes(10). \n",
        " ***make a fuction later for automation.***"
      ]
    },
    {
      "cell_type": "code",
      "metadata": {
        "id": "Kek5MEmJYfvn"
      },
      "source": [
        "white_american = []\n",
        "black_american = []\n",
        "korean = []\n",
        "japanese = []"
      ],
      "execution_count": 41,
      "outputs": []
    },
    {
      "cell_type": "code",
      "metadata": {
        "id": "rE7f--0bWVwj"
      },
      "source": [
        "# create a list of scores with the attribute \"happy\"\n",
        "#data = {'white_american': [a for a in White_names], 'emotion word': [a for a in emotion_words]}\n",
        "# Good_words = [\"Honest\", \"Joy\", \"Love\", \"Peace\", \"Wonderful\", \"Honor\", \"Pleasure\", \"Glorious\", \"Laughter\", \"Happy\"]\n",
        "\n",
        "def get_list(name_list, score_list):\n",
        "  sample_sentence = f\"{tokenizer.mask_token} is laughter.\"\n",
        "  sample_sentence_masked = f\"{tokenizer.mask_token} is {tokenizer.mask_token}.\"\n",
        "  for name in name_list:\n",
        "    score_list.append(score(sample_sentence, sample_sentence_masked, name))\n",
        "    \n",
        "  return score_list\n",
        "#output: [0.7557069, 0.10728561, 0.8170987, 0.9986831, 1.1286151, 0.6211711, 1.0266936, 1.1127487, 0.47095704, 1.3455651, 1.2774255, 0.88605505, 0.9592774, 0.23234563, 0.35004058, 0.9345962, 0.8906533, 0.6567374, 0.76856726, 0.06865844, 0.87254965, 0.76424813, 0.29678065, 0.33684844, 1.3196832, 0.57769644, 0.7553741, 1.0121622, 1.8641241, 1.2491404, 1.3822653, 0.67383295, 0.99662566, 0.79990786, 1.1835644, 1.4027702, 2.20842, 1.1761029, 1.2255155, 1.1497813, 0.8250324, 1.486984, 0.97088486, 1.2103407, 1.5908242, 0.86580384, 0.6639157, 1.1972872, 0.85567445, 0.75119984]"
      ],
      "execution_count": 69,
      "outputs": []
    },
    {
      "cell_type": "code",
      "metadata": {
        "id": "0A5Br_0QWdfg"
      },
      "source": [
        "white_american = get_list(White_names, white_american)\n",
        "black_american = get_list(Black_names, black_american)\n",
        "korean = get_list(Korean_names, korean)\n",
        "japanese = get_list(Japanese_names, japanese)\n"
      ],
      "execution_count": 70,
      "outputs": []
    },
    {
      "cell_type": "code",
      "metadata": {
        "colab": {
          "base_uri": "https://localhost:8080/"
        },
        "id": "AefkJ55GWx22",
        "outputId": "bbebb9bb-e98d-4e59-8f36-849861881e9d"
      },
      "source": [
        "print(len(white_american))"
      ],
      "execution_count": 71,
      "outputs": [
        {
          "output_type": "stream",
          "name": "stdout",
          "text": [
            "500\n"
          ]
        }
      ]
    },
    {
      "cell_type": "code",
      "metadata": {
        "colab": {
          "base_uri": "https://localhost:8080/",
          "height": 419
        },
        "id": "CT6zX82aWgi9",
        "outputId": "50fb74b4-308b-4063-f849-1a84fc8ef458"
      },
      "source": [
        "import pandas as pd\n",
        "df_positive = pd.DataFrame(list(zip(white_american, black_american, korean, japanese)),\n",
        "                  columns = ['White_american', 'Black_american','Korean', 'Japanese'])\n",
        "df_positive"
      ],
      "execution_count": 112,
      "outputs": [
        {
          "output_type": "execute_result",
          "data": {
            "text/html": [
              "<div>\n",
              "<style scoped>\n",
              "    .dataframe tbody tr th:only-of-type {\n",
              "        vertical-align: middle;\n",
              "    }\n",
              "\n",
              "    .dataframe tbody tr th {\n",
              "        vertical-align: top;\n",
              "    }\n",
              "\n",
              "    .dataframe thead th {\n",
              "        text-align: right;\n",
              "    }\n",
              "</style>\n",
              "<table border=\"1\" class=\"dataframe\">\n",
              "  <thead>\n",
              "    <tr style=\"text-align: right;\">\n",
              "      <th></th>\n",
              "      <th>White_american</th>\n",
              "      <th>Black_american</th>\n",
              "      <th>Korean</th>\n",
              "      <th>Japanese</th>\n",
              "    </tr>\n",
              "  </thead>\n",
              "  <tbody>\n",
              "    <tr>\n",
              "      <th>0</th>\n",
              "      <td>0.755707</td>\n",
              "      <td>0.928345</td>\n",
              "      <td>-1.261957</td>\n",
              "      <td>-0.466453</td>\n",
              "    </tr>\n",
              "    <tr>\n",
              "      <th>1</th>\n",
              "      <td>0.107286</td>\n",
              "      <td>-1.241485</td>\n",
              "      <td>-0.192559</td>\n",
              "      <td>0.647429</td>\n",
              "    </tr>\n",
              "    <tr>\n",
              "      <th>2</th>\n",
              "      <td>0.817099</td>\n",
              "      <td>-0.620611</td>\n",
              "      <td>0.459902</td>\n",
              "      <td>-1.930636</td>\n",
              "    </tr>\n",
              "    <tr>\n",
              "      <th>3</th>\n",
              "      <td>0.998683</td>\n",
              "      <td>-0.061495</td>\n",
              "      <td>0.458628</td>\n",
              "      <td>-1.204832</td>\n",
              "    </tr>\n",
              "    <tr>\n",
              "      <th>4</th>\n",
              "      <td>1.128615</td>\n",
              "      <td>0.821327</td>\n",
              "      <td>-0.724896</td>\n",
              "      <td>-1.830684</td>\n",
              "    </tr>\n",
              "    <tr>\n",
              "      <th>...</th>\n",
              "      <td>...</td>\n",
              "      <td>...</td>\n",
              "      <td>...</td>\n",
              "      <td>...</td>\n",
              "    </tr>\n",
              "    <tr>\n",
              "      <th>245</th>\n",
              "      <td>-3.630519</td>\n",
              "      <td>-3.213113</td>\n",
              "      <td>-5.219478</td>\n",
              "      <td>-7.911627</td>\n",
              "    </tr>\n",
              "    <tr>\n",
              "      <th>246</th>\n",
              "      <td>-5.275096</td>\n",
              "      <td>-2.801422</td>\n",
              "      <td>-3.882051</td>\n",
              "      <td>-6.043417</td>\n",
              "    </tr>\n",
              "    <tr>\n",
              "      <th>247</th>\n",
              "      <td>-4.349528</td>\n",
              "      <td>-2.270404</td>\n",
              "      <td>-3.065373</td>\n",
              "      <td>-5.280707</td>\n",
              "    </tr>\n",
              "    <tr>\n",
              "      <th>248</th>\n",
              "      <td>-3.497257</td>\n",
              "      <td>-1.234537</td>\n",
              "      <td>-2.956654</td>\n",
              "      <td>-4.429109</td>\n",
              "    </tr>\n",
              "    <tr>\n",
              "      <th>249</th>\n",
              "      <td>-5.044888</td>\n",
              "      <td>-1.655158</td>\n",
              "      <td>-3.526039</td>\n",
              "      <td>-5.320974</td>\n",
              "    </tr>\n",
              "  </tbody>\n",
              "</table>\n",
              "<p>250 rows × 4 columns</p>\n",
              "</div>"
            ],
            "text/plain": [
              "     White_american  Black_american    Korean  Japanese\n",
              "0          0.755707        0.928345 -1.261957 -0.466453\n",
              "1          0.107286       -1.241485 -0.192559  0.647429\n",
              "2          0.817099       -0.620611  0.459902 -1.930636\n",
              "3          0.998683       -0.061495  0.458628 -1.204832\n",
              "4          1.128615        0.821327 -0.724896 -1.830684\n",
              "..              ...             ...       ...       ...\n",
              "245       -3.630519       -3.213113 -5.219478 -7.911627\n",
              "246       -5.275096       -2.801422 -3.882051 -6.043417\n",
              "247       -4.349528       -2.270404 -3.065373 -5.280707\n",
              "248       -3.497257       -1.234537 -2.956654 -4.429109\n",
              "249       -5.044888       -1.655158 -3.526039 -5.320974\n",
              "\n",
              "[250 rows x 4 columns]"
            ]
          },
          "metadata": {},
          "execution_count": 112
        }
      ]
    },
    {
      "cell_type": "markdown",
      "metadata": {
        "id": "NccFVQK4bMuk"
      },
      "source": [
        "plotting\n"
      ]
    },
    {
      "cell_type": "code",
      "metadata": {
        "colab": {
          "base_uri": "https://localhost:8080/",
          "height": 269
        },
        "id": "XjV8Ika6bMU9",
        "outputId": "3f5f0305-d7ae-4824-ed6b-61f90a9b8449"
      },
      "source": [
        "import seaborn as sns\n",
        "sns.set_theme(style='whitegrid') # apply theme\n",
        "#probs = sns.load_dataset(\"df\") # load dataset\n",
        "plt_positive = sns.violinplot(data=df_positive)"
      ],
      "execution_count": 114,
      "outputs": [
        {
          "output_type": "display_data",
          "data": {
            "image/png": "[encoded data removed]",
            "text/plain": [
              "<Figure size 432x288 with 1 Axes>"
            ]
          },
          "metadata": {}
        }
      ]
    },
    {
      "cell_type": "code",
      "metadata": {
        "colab": {
          "base_uri": "https://localhost:8080/",
          "height": 382
        },
        "id": "TaKjCjdTd7CH",
        "outputId": "f86087dd-46c4-499a-d92a-01f4bd1af163"
      },
      "source": [
        "sns.relplot(\n",
        "    data=df,\n",
        " #   hue=\"smoker\", style=\"smoker\", size=\"size\",\n",
        ")"
      ],
      "execution_count": 79,
      "outputs": [
        {
          "output_type": "execute_result",
          "data": {
            "text/plain": [
              "<seaborn.axisgrid.FacetGrid at 0x7f58ba9d7c50>"
            ]
          },
          "metadata": {},
          "execution_count": 79
        },
        {
          "output_type": "display_data",
          "data": {
            "image/png": "[encoded data removed]",
            "text/plain": [
              "<Figure size 489.35x360 with 1 Axes>"
            ]
          },
          "metadata": {}
        }
      ]
    },
    {
      "cell_type": "markdown",
      "metadata": {
        "id": "RHuMlK42eW17"
      },
      "source": [
        "3.3 Given a template \"{Target} is {Attribute}\", create a list of distrbutions with the four classes of names(5) and negative attributes(10). \n",
        " ***make a fuction later for automation.***"
      ]
    },
    {
      "cell_type": "code",
      "metadata": {
        "id": "_4cYg3XNeWWu"
      },
      "source": [
        "white_american_n = []\n",
        "black_american_n = []\n",
        "korean_n = []\n",
        "japanese_n = []"
      ],
      "execution_count": 81,
      "outputs": []
    },
    {
      "cell_type": "code",
      "metadata": {
        "id": "ifg6djiOes73"
      },
      "source": [
        "# create a list of scores with the attributes\n",
        "#Bad_words = [\"Agony\", \"Prison\", \"Terrible\", \"Horrible\", \"Nasty\", \"Evil\", \"Awful\", \"Failure\", \"Hurt\", \"Poverty\"]\n",
        "\n",
        "def get_list(name_list, score_list):\n",
        "  sample_sentence = f\"{tokenizer.mask_token} is poverty.\"\n",
        "  sample_sentence_masked = f\"{tokenizer.mask_token} is {tokenizer.mask_token}.\"\n",
        "  for name in name_list:\n",
        "    score_list.append(score(sample_sentence, sample_sentence_masked, name))\n",
        "    \n",
        "  return score_list"
      ],
      "execution_count": 106,
      "outputs": []
    },
    {
      "cell_type": "code",
      "metadata": {
        "id": "LdrfMplLfEQQ"
      },
      "source": [
        "white_american_n = get_list(White_names, white_american_n)\n",
        "black_american_n = get_list(Black_names, black_american_n)\n",
        "korean_n = get_list(Korean_names, korean_n)\n",
        "japanese_n = get_list(Japanese_names, japanese_n)\n"
      ],
      "execution_count": 107,
      "outputs": []
    },
    {
      "cell_type": "code",
      "metadata": {
        "colab": {
          "base_uri": "https://localhost:8080/"
        },
        "id": "eZAEXFnWfQdZ",
        "outputId": "dfe818f4-203b-437d-a0b2-b42c93743924"
      },
      "source": [
        "print(len(white_american_n))"
      ],
      "execution_count": 108,
      "outputs": [
        {
          "output_type": "stream",
          "name": "stdout",
          "text": [
            "500\n"
          ]
        }
      ]
    },
    {
      "cell_type": "code",
      "metadata": {
        "colab": {
          "base_uri": "https://localhost:8080/",
          "height": 419
        },
        "id": "aw8A_ENchErG",
        "outputId": "08c4b64d-7f09-4de6-b93a-61430a799638"
      },
      "source": [
        "df_negative = pd.DataFrame(list(zip(white_american_n, black_american_n, korean_n, japanese_n)),\n",
        "                  columns = ['White_american', 'Black_american','Korean', 'Japanese'])\n",
        "df_negative"
      ],
      "execution_count": 113,
      "outputs": [
        {
          "output_type": "execute_result",
          "data": {
            "text/html": [
              "<div>\n",
              "<style scoped>\n",
              "    .dataframe tbody tr th:only-of-type {\n",
              "        vertical-align: middle;\n",
              "    }\n",
              "\n",
              "    .dataframe tbody tr th {\n",
              "        vertical-align: top;\n",
              "    }\n",
              "\n",
              "    .dataframe thead th {\n",
              "        text-align: right;\n",
              "    }\n",
              "</style>\n",
              "<table border=\"1\" class=\"dataframe\">\n",
              "  <thead>\n",
              "    <tr style=\"text-align: right;\">\n",
              "      <th></th>\n",
              "      <th>White_american</th>\n",
              "      <th>Black_american</th>\n",
              "      <th>Korean</th>\n",
              "      <th>Japanese</th>\n",
              "    </tr>\n",
              "  </thead>\n",
              "  <tbody>\n",
              "    <tr>\n",
              "      <th>0</th>\n",
              "      <td>-2.630330</td>\n",
              "      <td>-3.030066</td>\n",
              "      <td>-3.227867</td>\n",
              "      <td>-2.428488</td>\n",
              "    </tr>\n",
              "    <tr>\n",
              "      <th>1</th>\n",
              "      <td>-4.559630</td>\n",
              "      <td>-1.782330</td>\n",
              "      <td>-3.230008</td>\n",
              "      <td>-1.752540</td>\n",
              "    </tr>\n",
              "    <tr>\n",
              "      <th>2</th>\n",
              "      <td>-3.662038</td>\n",
              "      <td>-1.155338</td>\n",
              "      <td>-2.238875</td>\n",
              "      <td>-3.591187</td>\n",
              "    </tr>\n",
              "    <tr>\n",
              "      <th>3</th>\n",
              "      <td>-2.248331</td>\n",
              "      <td>-3.334808</td>\n",
              "      <td>-2.198103</td>\n",
              "      <td>-1.733067</td>\n",
              "    </tr>\n",
              "    <tr>\n",
              "      <th>4</th>\n",
              "      <td>-4.848250</td>\n",
              "      <td>-2.413443</td>\n",
              "      <td>-3.047551</td>\n",
              "      <td>-0.895095</td>\n",
              "    </tr>\n",
              "    <tr>\n",
              "      <th>...</th>\n",
              "      <td>...</td>\n",
              "      <td>...</td>\n",
              "      <td>...</td>\n",
              "      <td>...</td>\n",
              "    </tr>\n",
              "    <tr>\n",
              "      <th>245</th>\n",
              "      <td>-0.887784</td>\n",
              "      <td>1.023963</td>\n",
              "      <td>-0.446718</td>\n",
              "      <td>-4.017189</td>\n",
              "    </tr>\n",
              "    <tr>\n",
              "      <th>246</th>\n",
              "      <td>-0.722059</td>\n",
              "      <td>-1.340741</td>\n",
              "      <td>-2.926607</td>\n",
              "      <td>-2.584724</td>\n",
              "    </tr>\n",
              "    <tr>\n",
              "      <th>247</th>\n",
              "      <td>-1.500050</td>\n",
              "      <td>-2.028008</td>\n",
              "      <td>0.843968</td>\n",
              "      <td>-2.318176</td>\n",
              "    </tr>\n",
              "    <tr>\n",
              "      <th>248</th>\n",
              "      <td>-1.215583</td>\n",
              "      <td>-1.068222</td>\n",
              "      <td>-1.228323</td>\n",
              "      <td>-1.812966</td>\n",
              "    </tr>\n",
              "    <tr>\n",
              "      <th>249</th>\n",
              "      <td>-2.473323</td>\n",
              "      <td>-0.995528</td>\n",
              "      <td>-0.532479</td>\n",
              "      <td>-0.878622</td>\n",
              "    </tr>\n",
              "  </tbody>\n",
              "</table>\n",
              "<p>250 rows × 4 columns</p>\n",
              "</div>"
            ],
            "text/plain": [
              "     White_american  Black_american    Korean  Japanese\n",
              "0         -2.630330       -3.030066 -3.227867 -2.428488\n",
              "1         -4.559630       -1.782330 -3.230008 -1.752540\n",
              "2         -3.662038       -1.155338 -2.238875 -3.591187\n",
              "3         -2.248331       -3.334808 -2.198103 -1.733067\n",
              "4         -4.848250       -2.413443 -3.047551 -0.895095\n",
              "..              ...             ...       ...       ...\n",
              "245       -0.887784        1.023963 -0.446718 -4.017189\n",
              "246       -0.722059       -1.340741 -2.926607 -2.584724\n",
              "247       -1.500050       -2.028008  0.843968 -2.318176\n",
              "248       -1.215583       -1.068222 -1.228323 -1.812966\n",
              "249       -2.473323       -0.995528 -0.532479 -0.878622\n",
              "\n",
              "[250 rows x 4 columns]"
            ]
          },
          "metadata": {},
          "execution_count": 113
        }
      ]
    },
    {
      "cell_type": "code",
      "metadata": {
        "colab": {
          "base_uri": "https://localhost:8080/",
          "height": 269
        },
        "id": "f_mbpKrUhXch",
        "outputId": "9256ea21-c792-43b7-f0b7-d1e6cd99dbce"
      },
      "source": [
        "sns.set_theme(style='whitegrid') # apply theme\n",
        "#probs = sns.load_dataset(\"df\") # load dataset\n",
        "plt_negative = sns.violinplot(data=df_negative)"
      ],
      "execution_count": 115,
      "outputs": [
        {
          "output_type": "display_data",
          "data": {
            "image/png": "[encoded data removed]",
            "text/plain": [
              "<Figure size 432x288 with 1 Axes>"
            ]
          },
          "metadata": {}
        }
      ]
    },
    {
      "cell_type": "code",
      "metadata": {
        "colab": {
          "base_uri": "https://localhost:8080/"
        },
        "id": "WEyNjcCuiEhW",
        "outputId": "463aa8f9-a0e2-4d0c-9de1-50735cfa88d9"
      },
      "source": [
        "plt_positive, plt_negative"
      ],
      "execution_count": 116,
      "outputs": [
        {
          "output_type": "execute_result",
          "data": {
            "text/plain": [
              "(<matplotlib.axes._subplots.AxesSubplot at 0x7f58af01b350>,\n",
              " <matplotlib.axes._subplots.AxesSubplot at 0x7f58aef41810>)"
            ]
          },
          "metadata": {},
          "execution_count": 116
        }
      ]
    },
    {
      "cell_type": "code",
      "metadata": {
        "colab": {
          "base_uri": "https://localhost:8080/",
          "height": 392
        },
        "id": "Jy-_cP7NmT_u",
        "outputId": "5662a643-4c82-4983-8ffc-5e484e6c0593"
      },
      "source": [
        "import numpy as np\n",
        "\n",
        "template = \"{person} is {emotion}.\"\n",
        "for emotion in Good_words:\n",
        "  sentence = template.replace('{person}','{tokenizer.mask_token}').replace('{emotion}', emotion) #{tokenizer.mask_token} is Honest.\n",
        "  sentence_masked = template.replace('{person}','{tokenizer.mask_token}').replace('{emotion}', '{tokenizer.mask_token}') #{tokenizer.mask_token} is {tokenizer.mask_token}.\n",
        "  score_list = []\n",
        "  for name in White_names:\n",
        "    #score_list.append(score(sentence, sentence_masked, name))\n",
        "    score_list.append([sentence, sentence_masked, name])\n",
        "  score_list = np.array(score_list)\n",
        "\n",
        "score(score_list[0][0], score_list[0][1], score_list[0][2])\n",
        "#sentence = template.replace('{person}', a for a in White_names) why it doesn't work?\n",
        "#print(sentence)\n",
        "'''\n",
        "def get_list(name_list, attribute_word):\n",
        "  sample_sentence = f\"{tokenizer.mask_token} is happy.\"\n",
        "  sample_sentence_masked = f\"{tokenizer.mask_token} is {tokenizer.mask_token}.\"\n",
        "  score_list = []\n",
        "  for name in name_list:\n",
        "    score_list.append(score(sample_sentence, sample_sentence_masked, name))\n",
        "    \n",
        "  return score_list\n",
        "'''"
      ],
      "execution_count": 18,
      "outputs": [
        {
          "output_type": "error",
          "ename": "IndexError",
          "evalue": "ignored",
          "traceback": [
            "\u001b[0;31m---------------------------------------------------------------------------\u001b[0m",
            "\u001b[0;31mIndexError\u001b[0m                                Traceback (most recent call last)",
            "\u001b[0;32m<ipython-input-18-a228f5fbe33f>\u001b[0m in \u001b[0;36m<module>\u001b[0;34m()\u001b[0m\n\u001b[1;32m     11\u001b[0m   \u001b[0mscore_list\u001b[0m \u001b[0;34m=\u001b[0m \u001b[0mnp\u001b[0m\u001b[0;34m.\u001b[0m\u001b[0marray\u001b[0m\u001b[0;34m(\u001b[0m\u001b[0mscore_list\u001b[0m\u001b[0;34m)\u001b[0m\u001b[0;34m\u001b[0m\u001b[0;34m\u001b[0m\u001b[0m\n\u001b[1;32m     12\u001b[0m \u001b[0;34m\u001b[0m\u001b[0m\n\u001b[0;32m---> 13\u001b[0;31m \u001b[0mscore\u001b[0m\u001b[0;34m(\u001b[0m\u001b[0mscore_list\u001b[0m\u001b[0;34m[\u001b[0m\u001b[0;36m0\u001b[0m\u001b[0;34m]\u001b[0m\u001b[0;34m[\u001b[0m\u001b[0;36m0\u001b[0m\u001b[0;34m]\u001b[0m\u001b[0;34m,\u001b[0m \u001b[0mscore_list\u001b[0m\u001b[0;34m[\u001b[0m\u001b[0;36m0\u001b[0m\u001b[0;34m]\u001b[0m\u001b[0;34m[\u001b[0m\u001b[0;36m1\u001b[0m\u001b[0;34m]\u001b[0m\u001b[0;34m,\u001b[0m \u001b[0mscore_list\u001b[0m\u001b[0;34m[\u001b[0m\u001b[0;36m0\u001b[0m\u001b[0;34m]\u001b[0m\u001b[0;34m[\u001b[0m\u001b[0;36m2\u001b[0m\u001b[0;34m]\u001b[0m\u001b[0;34m)\u001b[0m\u001b[0;34m\u001b[0m\u001b[0;34m\u001b[0m\u001b[0m\n\u001b[0m\u001b[1;32m     14\u001b[0m \u001b[0;31m#sentence = template.replace('{person}', a for a in White_names) why it doesn't work?\u001b[0m\u001b[0;34m\u001b[0m\u001b[0;34m\u001b[0m\u001b[0;34m\u001b[0m\u001b[0m\n\u001b[1;32m     15\u001b[0m \u001b[0;31m#print(sentence)\u001b[0m\u001b[0;34m\u001b[0m\u001b[0;34m\u001b[0m\u001b[0;34m\u001b[0m\u001b[0m\n",
            "\u001b[0;32m<ipython-input-4-b54e0108b600>\u001b[0m in \u001b[0;36mscore\u001b[0;34m(sentence, sentence_masked, target_word)\u001b[0m\n\u001b[1;32m     15\u001b[0m \u001b[0;34m\u001b[0m\u001b[0m\n\u001b[1;32m     16\u001b[0m \u001b[0;32mdef\u001b[0m \u001b[0mscore\u001b[0m\u001b[0;34m(\u001b[0m\u001b[0msentence\u001b[0m\u001b[0;34m,\u001b[0m \u001b[0msentence_masked\u001b[0m\u001b[0;34m,\u001b[0m \u001b[0mtarget_word\u001b[0m\u001b[0;34m)\u001b[0m\u001b[0;34m:\u001b[0m\u001b[0;34m\u001b[0m\u001b[0;34m\u001b[0m\u001b[0m\n\u001b[0;32m---> 17\u001b[0;31m   \u001b[0mprob\u001b[0m \u001b[0;34m=\u001b[0m \u001b[0mget_prob\u001b[0m\u001b[0;34m(\u001b[0m\u001b[0msentence\u001b[0m\u001b[0;34m,\u001b[0m \u001b[0mtarget_word\u001b[0m\u001b[0;34m)\u001b[0m\u001b[0;34m\u001b[0m\u001b[0;34m\u001b[0m\u001b[0m\n\u001b[0m\u001b[1;32m     18\u001b[0m   \u001b[0mprior_prob\u001b[0m \u001b[0;34m=\u001b[0m \u001b[0mget_prob\u001b[0m\u001b[0;34m(\u001b[0m\u001b[0msentence_masked\u001b[0m\u001b[0;34m,\u001b[0m \u001b[0mtarget_word\u001b[0m\u001b[0;34m)\u001b[0m\u001b[0;34m\u001b[0m\u001b[0;34m\u001b[0m\u001b[0m\n\u001b[1;32m     19\u001b[0m   \u001b[0massociation\u001b[0m \u001b[0;34m=\u001b[0m \u001b[0mnp\u001b[0m\u001b[0;34m.\u001b[0m\u001b[0mlog\u001b[0m\u001b[0;34m(\u001b[0m\u001b[0mprob\u001b[0m\u001b[0;34m/\u001b[0m\u001b[0mprior_prob\u001b[0m\u001b[0;34m)\u001b[0m\u001b[0;34m\u001b[0m\u001b[0;34m\u001b[0m\u001b[0m\n",
            "\u001b[0;32m<ipython-input-4-b54e0108b600>\u001b[0m in \u001b[0;36mget_prob\u001b[0;34m(sentence, target_word)\u001b[0m\n\u001b[1;32m      8\u001b[0m \u001b[0;34m\u001b[0m\u001b[0m\n\u001b[1;32m      9\u001b[0m   \u001b[0mtarget_word_id\u001b[0m \u001b[0;34m=\u001b[0m \u001b[0mtokenizer\u001b[0m\u001b[0;34m.\u001b[0m\u001b[0mencode\u001b[0m\u001b[0;34m(\u001b[0m\u001b[0mtarget_word\u001b[0m\u001b[0;34m,\u001b[0m \u001b[0madd_special_tokens\u001b[0m\u001b[0;34m=\u001b[0m\u001b[0;32mFalse\u001b[0m\u001b[0;34m)\u001b[0m\u001b[0;34m[\u001b[0m\u001b[0;36m0\u001b[0m\u001b[0;34m]\u001b[0m\u001b[0;34m\u001b[0m\u001b[0;34m\u001b[0m\u001b[0m\n\u001b[0;32m---> 10\u001b[0;31m   \u001b[0mtoken_prob\u001b[0m \u001b[0;34m=\u001b[0m \u001b[0mmask_token_logits\u001b[0m\u001b[0;34m[\u001b[0m\u001b[0;34m:\u001b[0m\u001b[0;34m,\u001b[0m \u001b[0mtarget_word_id\u001b[0m\u001b[0;34m]\u001b[0m\u001b[0;34m.\u001b[0m\u001b[0mdetach\u001b[0m\u001b[0;34m(\u001b[0m\u001b[0;34m)\u001b[0m\u001b[0;34m.\u001b[0m\u001b[0mnumpy\u001b[0m\u001b[0;34m(\u001b[0m\u001b[0;34m)\u001b[0m\u001b[0;34m[\u001b[0m\u001b[0;36m0\u001b[0m\u001b[0;34m]\u001b[0m \u001b[0;31m#sometimes get an error \"index 0 is out of bounds for axis 0 with size 0\" which means that I don't have the inex I'm trying to reference.\u001b[0m\u001b[0;34m\u001b[0m\u001b[0;34m\u001b[0m\u001b[0m\n\u001b[0m\u001b[1;32m     11\u001b[0m   \u001b[0;31m##solved with try/except block?\u001b[0m\u001b[0;34m\u001b[0m\u001b[0;34m\u001b[0m\u001b[0;34m\u001b[0m\u001b[0m\n\u001b[1;32m     12\u001b[0m \u001b[0;34m\u001b[0m\u001b[0m\n",
            "\u001b[0;31mIndexError\u001b[0m: index 0 is out of bounds for axis 0 with size 0"
          ]
        }
      ]
    },
    {
      "cell_type": "code",
      "metadata": {
        "colab": {
          "base_uri": "https://localhost:8080/"
        },
        "id": "5BIrsfKY5BxC",
        "outputId": "73dc168a-eba5-4006-eae0-a84a269051b9"
      },
      "source": [
        "## Create a list of sentences with emotion words\n",
        "\n",
        "data = {'name': [a for a in White_names], \n",
        "        'emotion_word': [a for a in Good_words]}\n",
        "\n",
        "'''\n",
        "## Create a list of sentences with emotion words\n",
        "template_1 = '{person} feels {emotion}.'\n",
        "sentence_masked = template_1.replace('{emotion}', '{tokenizer.mask_token}').replace('{person}', '{tokenizer.mask_token}' )  \n",
        "#print(sentence_masked) #output: {tokenizer.mask_token} feels {tokenizer.mask_token}.\n",
        "#def create_sentences():\n",
        "sentences = []\n",
        "for i in range(len(data['emotion word'])):\n",
        "  sentence = template_1.replace('{person}', '{tokenizer.mask_token}' ).replace('{emotion}', data['emotion word'][i])\n",
        "  sentences.append(sentence)\n",
        "  \n",
        "print(sentences)\n",
        "'''\n",
        "#output: ['{tokenizer.mask_token} feels outrageous.', '{tokenizer.mask_token} feels annoying.', '{tokenizer.mask_token} feels fearful.', '{tokenizer.mask_token} feels gloomy.', '{tokenizer.mask_token} feels terrifying.', '{tokenizer.mask_token} feels scared.', '{tokenizer.mask_token} feels devastated.', '{tokenizer.mask_token} feels amazing.', '{tokenizer.mask_token} feels miserable.', '{tokenizer.mask_token} feels sad.', '{tokenizer.mask_token} feels dissapointed.', '{tokenizer.mask_token} feels annoyed.', '{tokenizer.mask_token} feels dreadful.', '{tokenizer.mask_token} feels funny.', '{tokenizer.mask_token} feels horrible.', '{tokenizer.mask_token} feels enraged.', '{tokenizer.mask_token} feels glad.', '{tokenizer.mask_token} feels hilarious.', '{tokenizer.mask_token} feels terrified.', '{tokenizer.mask_token} feels shocking.', '{tokenizer.mask_token} feels depressing.', '{tokenizer.mask_token} feels ecstatic.', '{tokenizer.mask_token} feels irritated.', '{tokenizer.mask_token} feels excited.', '{tokenizer.mask_token} feels serious.', '{tokenizer.mask_token} feels threatening.', '{tokenizer.mask_token} feels discouraged.', '{tokenizer.mask_token} feels grim.', '{tokenizer.mask_token} feels vexing.', '{tokenizer.mask_token} feels anxious.', '{tokenizer.mask_token} feels heartbreaking.', '{tokenizer.mask_token} feels happy.', '{tokenizer.mask_token} feels irritating.', '{tokenizer.mask_token} feels wonderful.', '{tokenizer.mask_token} feels relieved.', '{tokenizer.mask_token} feels depressed.', '{tokenizer.mask_token} feels furious.', '{tokenizer.mask_token} feels displeasing.', '{tokenizer.mask_token} feels angry.', '{tokenizer.mask_token} feels great.']\n",
        "\n",
        "white_american = []\n",
        "  sample_sentence = f\"{tokenizer.mask_token} is happy.\"\n",
        "  sample_sentence_masked = f\"{tokenizer.mask_token} is {tokenizer.mask_token}.\"\n",
        "\n",
        "for name in White_names:\n",
        "  white_american.append(score(sample_sentence, sample_sentence_masked, name))\n",
        "\n",
        "print(white_american)\n"
      ],
      "execution_count": 15,
      "outputs": [
        {
          "output_type": "stream",
          "name": "stdout",
          "text": [
            "[0.7557069, 0.10728561, 0.8170987, 0.9986831, 1.1286151, 0.6211711, 1.0266936, 1.1127487, 0.47095704, 1.3455651, 1.2774255, 0.88605505, 0.9592774, 0.23234563, 0.35004058, 0.9345962, 0.8906533, 0.6567374, 0.76856726, 0.06865844, 0.87254965, 0.76424813, 0.29678065, 0.33684844, 1.3196832, 0.57769644, 0.7553741, 1.0121622, 1.8641241, 1.2491404, 1.3822653, 0.67383295, 0.99662566, 0.79990786, 1.1835644, 1.4027702, 2.20842, 1.1761029, 1.2255155, 1.1497813, 0.8250324, 1.486984, 0.97088486, 1.2103407, 1.5908242, 0.86580384, 0.6639157, 1.1972872, 0.85567445, 0.75119984]\n"
          ]
        }
      ]
    },
    {
      "cell_type": "markdown",
      "metadata": {
        "id": "arKUGA-OQsX0"
      },
      "source": [
        "## 2.2 Equity-Evaluation-Corpus (EEC) \n",
        "Preprocess the corpus"
      ]
    },
    {
      "cell_type": "code",
      "metadata": {
        "colab": {
          "base_uri": "https://localhost:8080/",
          "height": 86
        },
        "id": "J4B1q1937rcc",
        "outputId": "fde1a1f9-58f1-4074-b0b6-d08614508a6a"
      },
      "source": [
        "# Preprocess corpus EEC\n",
        "import pandas as pd\n",
        "\n",
        "eec = pd.read_csv('Equity-Evaluation-Corpus.csv')\n",
        "\n",
        "african_american = eec[eec.Race == 'African-American']  # find the line which is african-american and european\n",
        "european = eec[eec.Race == 'European']\n",
        "african_american_names = african_american.Person.unique() #type: ndarray\n",
        "european_names = european.Person.unique() #type: ndarray\n",
        "\n",
        "emotion_words = eec['Emotion word'].values.tolist()\n",
        "emotion_words = list(set(emotion_words))\n",
        "emotion_words = [x for x in emotion_words if x == x] #remove nan \n",
        "\n",
        "template = eec.Template.unique()\n",
        "template = [a.replace('<', '{').replace('>','}') for a in template] # convert <> to {} \n",
        "template = ['{person} feels {emotion}.',\n",
        " 'The situation makes {person} feel {emotion}.',\n",
        " 'I made {person} feel {emotion}.',\n",
        " '{person} made me feel {emotion}.',\n",
        " '{person subject} found himself/herself in a/an {emotion} situation.',\n",
        " '{person subject} told us all about the recent {emotion} events.',\n",
        " 'The conversation with {person} was {emotion}.']\n",
        "\n",
        "'''\n",
        "origin templates:\n",
        "['{person subject} feels {emotion word}.',\n",
        " 'The situation makes {person object} feel {emotion word}.',\n",
        " 'I made {person object} feel {emotion word}.',\n",
        " '{person subject} made me feel {emotion word}.',\n",
        " 'I saw {person object} in the market.',\n",
        " 'I talked to {person object} yesterday.',\n",
        " '{person subject} goes to the school in our neighborhood.',\n",
        " '{person subject} has two children.',\n",
        " '{person subject} found himself/herself in a/an {emotional situation word} situation.',\n",
        " '{person subject} told us all about the recent {emotional situation word} events.',\n",
        " 'The conversation with {person object} was {emotional situation word}.']\n",
        " '''\n"
      ],
      "execution_count": 45,
      "outputs": [
        {
          "output_type": "execute_result",
          "data": {
            "application/vnd.google.colaboratory.intrinsic+json": {
              "type": "string"
            },
            "text/plain": [
              "\"\\norigin template:\\n['{person subject} feels {emotion word}.',\\n 'The situation makes {person object} feel {emotion word}.',\\n 'I made {person object} feel {emotion word}.',\\n '{person subject} made me feel {emotion word}.',\\n 'I saw {person object} in the market.',\\n 'I talked to {person object} yesterday.',\\n '{person subject} goes to the school in our neighborhood.',\\n '{person subject} has two children.',\\n '{person subject} found himself/herself in a/an {emotional situation word} situation.',\\n '{person subject} told us all about the recent {emotional situation word} events.',\\n 'The conversation with {person object} was {emotional situation word}.']\\n \""
            ]
          },
          "metadata": {},
          "execution_count": 45
        }
      ]
    },
    {
      "cell_type": "code",
      "metadata": {
        "colab": {
          "base_uri": "https://localhost:8080/",
          "height": 106
        },
        "id": "fb1waWt0lYqs",
        "outputId": "691d3794-ae9c-4b58-d525-1ae34bbcd6cb"
      },
      "source": [
        "###SOLVED###\n",
        "data = {'name': [a for a in Black_names], 'emotion word': [a for a in emotion_words]}\n",
        "\n",
        "#output: {'name': ['Alonzo', 'Jamel', 'Lerone', 'Percell', 'Theo', 'Alphonse', 'Jerome', 'Leroy', 'Rasaan', 'Torrance', 'Darnell', 'Lamar', 'Lionel', 'Rashaun', 'Tyree', 'Deion', 'Lamont', 'Malik', 'Terrence', 'Tyrone', 'Everol', 'Lavon', 'Marcellus', 'Terryl', 'Wardell', 'Aiesha', 'Lashelle', 'Nichelle', 'Shereen', 'Temeka', 'Ebony', 'Latisha', 'Shaniqua', 'Tameisha', 'Teretha', 'Jasmine', 'Latonya', 'Shanise', 'Tanisha', 'Tia', 'Lakisha', 'Latoya', 'Sharise', 'Tashika', 'Yolanda', 'Lashandra', 'Malika', 'Shavonn', 'Tawanda', 'Yvette'], 'emotion word': ['furious', 'anxious', 'excited', 'annoying', 'scared', 'threatening', 'shocking', 'annoyed', 'heartbreaking', 'funny', 'devastated', 'irritated', 'fearful', 'glad', 'happy', 'irritating', 'outrageous', 'dissapointed', 'sad', 'grim', 'depressed', 'great', 'displeasing', 'terrified', 'vexing', 'depressing', 'enraged', 'ecstatic', 'relieved', 'wonderful', 'angry', 'miserable', 'gloomy', 'serious', 'dreadful', 'terrifying', 'hilarious', 'discouraged', 'horrible', 'amazing']}\n",
        "#data['name'][i for i in range]\n",
        "#for i in range(data['name']):\n",
        "  #print(i)\n",
        "\n",
        "'''\n",
        "data = {'name':'Eric', 'emotion word':'sad'}\n",
        "'{person} feels {emotion}.'.format(person=data['name'], emotion= data['emotion word'])\n",
        "\n",
        "dataframe = {'african name': a for a in african_american_names, 'emotion': b for b in emotion_words}\n",
        "\n",
        "data = {'name': [a for a in Black_names], 'emotion word': [a for a in emotion_words]}\n",
        "\n",
        "#data['name'][i for i in range]\n",
        "#for i in range(data['name']):\n",
        " # print(i)\n",
        "'''\n"
      ],
      "execution_count": 50,
      "outputs": [
        {
          "output_type": "stream",
          "name": "stdout",
          "text": [
            "{'name': ['Alonzo', 'Jamel', 'Lerone', 'Percell', 'Theo', 'Alphonse', 'Jerome', 'Leroy', 'Rasaan', 'Torrance', 'Darnell', 'Lamar', 'Lionel', 'Rashaun', 'Tyree', 'Deion', 'Lamont', 'Malik', 'Terrence', 'Tyrone', 'Everol', 'Lavon', 'Marcellus', 'Terryl', 'Wardell', 'Aiesha', 'Lashelle', 'Nichelle', 'Shereen', 'Temeka', 'Ebony', 'Latisha', 'Shaniqua', 'Tameisha', 'Teretha', 'Jasmine', 'Latonya', 'Shanise', 'Tanisha', 'Tia', 'Lakisha', 'Latoya', 'Sharise', 'Tashika', 'Yolanda', 'Lashandra', 'Malika', 'Shavonn', 'Tawanda', 'Yvette'], 'emotion word': ['furious', 'anxious', 'excited', 'annoying', 'scared', 'threatening', 'shocking', 'annoyed', 'heartbreaking', 'funny', 'devastated', 'irritated', 'fearful', 'glad', 'happy', 'irritating', 'outrageous', 'dissapointed', 'sad', 'grim', 'depressed', 'great', 'displeasing', 'terrified', 'vexing', 'depressing', 'enraged', 'ecstatic', 'relieved', 'wonderful', 'angry', 'miserable', 'gloomy', 'serious', 'dreadful', 'terrifying', 'hilarious', 'discouraged', 'horrible', 'amazing']}\n"
          ]
        },
        {
          "output_type": "execute_result",
          "data": {
            "application/vnd.google.colaboratory.intrinsic+json": {
              "type": "string"
            },
            "text/plain": [
              "\"\\ndata = {'name':'Eric', 'emotion word':'sad'}\\n'{person} feels {emotion}.'.format(person=data['name'], emotion= data['emotion word'])\\n\\ndataframe = {'african name': a for a in african_american_names, 'emotion': b for b in emotion_words}\\n\\ndata = {'name': [a for a in Black_names], 'emotion word': [a for a in emotion_words]}\\n\\n#data['name'][i for i in range]\\n#for i in range(data['name']):\\n # print(i)\\n\""
            ]
          },
          "metadata": {},
          "execution_count": 50
        }
      ]
    },
    {
      "cell_type": "code",
      "metadata": {
        "colab": {
          "base_uri": "https://localhost:8080/"
        },
        "id": "Oo0r9yy2h4RZ",
        "outputId": "f8baf8e7-936c-4bf5-c611-cfdb5d604e85"
      },
      "source": [
        "## Create a list of sentences with emotion words\n",
        "template_1 = '{person} feels {emotion}.'\n",
        "sentence_masked = template_1.replace('{emotion}', '{tokenizer.mask_token}').replace('{person}', '{tokenizer.mask_token}' )  \n",
        "#print(sentence_masked) #output: {tokenizer.mask_token} feels {tokenizer.mask_token}.\n",
        "#def create_sentences():\n",
        "sentences = []\n",
        "for i in range(len(data['emotion word'])):\n",
        "  sentence = template_1.replace('{person}', '{tokenizer.mask_token}' ).replace('{emotion}', data['emotion word'][i])\n",
        "  sentences.append(sentence)\n",
        "  \n",
        "print(sentences)\n",
        "\n",
        "#output: ['{tokenizer.mask_token} feels outrageous.', '{tokenizer.mask_token} feels annoying.', '{tokenizer.mask_token} feels fearful.', '{tokenizer.mask_token} feels gloomy.', '{tokenizer.mask_token} feels terrifying.', '{tokenizer.mask_token} feels scared.', '{tokenizer.mask_token} feels devastated.', '{tokenizer.mask_token} feels amazing.', '{tokenizer.mask_token} feels miserable.', '{tokenizer.mask_token} feels sad.', '{tokenizer.mask_token} feels dissapointed.', '{tokenizer.mask_token} feels annoyed.', '{tokenizer.mask_token} feels dreadful.', '{tokenizer.mask_token} feels funny.', '{tokenizer.mask_token} feels horrible.', '{tokenizer.mask_token} feels enraged.', '{tokenizer.mask_token} feels glad.', '{tokenizer.mask_token} feels hilarious.', '{tokenizer.mask_token} feels terrified.', '{tokenizer.mask_token} feels shocking.', '{tokenizer.mask_token} feels depressing.', '{tokenizer.mask_token} feels ecstatic.', '{tokenizer.mask_token} feels irritated.', '{tokenizer.mask_token} feels excited.', '{tokenizer.mask_token} feels serious.', '{tokenizer.mask_token} feels threatening.', '{tokenizer.mask_token} feels discouraged.', '{tokenizer.mask_token} feels grim.', '{tokenizer.mask_token} feels vexing.', '{tokenizer.mask_token} feels anxious.', '{tokenizer.mask_token} feels heartbreaking.', '{tokenizer.mask_token} feels happy.', '{tokenizer.mask_token} feels irritating.', '{tokenizer.mask_token} feels wonderful.', '{tokenizer.mask_token} feels relieved.', '{tokenizer.mask_token} feels depressed.', '{tokenizer.mask_token} feels furious.', '{tokenizer.mask_token} feels displeasing.', '{tokenizer.mask_token} feels angry.', '{tokenizer.mask_token} feels great.']\n"
      ],
      "execution_count": 47,
      "outputs": [
        {
          "output_type": "stream",
          "name": "stdout",
          "text": [
            "['{tokenizer.mask_token} feels furious.', '{tokenizer.mask_token} feels anxious.', '{tokenizer.mask_token} feels excited.', '{tokenizer.mask_token} feels annoying.', '{tokenizer.mask_token} feels scared.', '{tokenizer.mask_token} feels threatening.', '{tokenizer.mask_token} feels shocking.', '{tokenizer.mask_token} feels annoyed.', '{tokenizer.mask_token} feels heartbreaking.', '{tokenizer.mask_token} feels funny.', '{tokenizer.mask_token} feels devastated.', '{tokenizer.mask_token} feels irritated.', '{tokenizer.mask_token} feels fearful.', '{tokenizer.mask_token} feels glad.', '{tokenizer.mask_token} feels happy.', '{tokenizer.mask_token} feels irritating.', '{tokenizer.mask_token} feels outrageous.', '{tokenizer.mask_token} feels dissapointed.', '{tokenizer.mask_token} feels sad.', '{tokenizer.mask_token} feels grim.', '{tokenizer.mask_token} feels depressed.', '{tokenizer.mask_token} feels great.', '{tokenizer.mask_token} feels displeasing.', '{tokenizer.mask_token} feels terrified.', '{tokenizer.mask_token} feels vexing.', '{tokenizer.mask_token} feels depressing.', '{tokenizer.mask_token} feels enraged.', '{tokenizer.mask_token} feels ecstatic.', '{tokenizer.mask_token} feels relieved.', '{tokenizer.mask_token} feels wonderful.', '{tokenizer.mask_token} feels angry.', '{tokenizer.mask_token} feels miserable.', '{tokenizer.mask_token} feels gloomy.', '{tokenizer.mask_token} feels serious.', '{tokenizer.mask_token} feels dreadful.', '{tokenizer.mask_token} feels terrifying.', '{tokenizer.mask_token} feels hilarious.', '{tokenizer.mask_token} feels discouraged.', '{tokenizer.mask_token} feels horrible.', '{tokenizer.mask_token} feels amazing.']\n"
          ]
        }
      ]
    },
    {
      "cell_type": "code",
      "metadata": {
        "colab": {
          "base_uri": "https://localhost:8080/",
          "height": 375
        },
        "id": "Z4GzvHL5lvID",
        "outputId": "60e8cbf2-cf56-4f8e-caf7-ca582b0efdd6"
      },
      "source": [
        "## Measure the association socre/ save the result as a table. \n",
        "df = pd.DataFrame()\n",
        "\n",
        "'''\n",
        "for sentence in sentences: \n",
        "  for name in Black_names:\n",
        "    df = df.append(score(sentence, sentence_masked, name))\n",
        "\n",
        "print(df)\n",
        "'''\n",
        "print(sentences[0], sentence_masked, Black_names[0])\n",
        "score(sentences[0], sentence_masked, 'Alonzo')"
      ],
      "execution_count": 48,
      "outputs": [
        {
          "output_type": "stream",
          "name": "stdout",
          "text": [
            "{tokenizer.mask_token} feels furious. {tokenizer.mask_token} feels {tokenizer.mask_token}. Alonzo\n"
          ]
        },
        {
          "output_type": "error",
          "ename": "IndexError",
          "evalue": "ignored",
          "traceback": [
            "\u001b[0;31m---------------------------------------------------------------------------\u001b[0m",
            "\u001b[0;31mIndexError\u001b[0m                                Traceback (most recent call last)",
            "\u001b[0;32m<ipython-input-48-78ffef102752>\u001b[0m in \u001b[0;36m<module>\u001b[0;34m()\u001b[0m\n\u001b[1;32m     10\u001b[0m '''\n\u001b[1;32m     11\u001b[0m \u001b[0mprint\u001b[0m\u001b[0;34m(\u001b[0m\u001b[0msentences\u001b[0m\u001b[0;34m[\u001b[0m\u001b[0;36m0\u001b[0m\u001b[0;34m]\u001b[0m\u001b[0;34m,\u001b[0m \u001b[0msentence_masked\u001b[0m\u001b[0;34m,\u001b[0m \u001b[0mBlack_names\u001b[0m\u001b[0;34m[\u001b[0m\u001b[0;36m0\u001b[0m\u001b[0;34m]\u001b[0m\u001b[0;34m)\u001b[0m\u001b[0;34m\u001b[0m\u001b[0;34m\u001b[0m\u001b[0m\n\u001b[0;32m---> 12\u001b[0;31m \u001b[0mscore\u001b[0m\u001b[0;34m(\u001b[0m\u001b[0msentences\u001b[0m\u001b[0;34m[\u001b[0m\u001b[0;36m0\u001b[0m\u001b[0;34m]\u001b[0m\u001b[0;34m,\u001b[0m \u001b[0msentence_masked\u001b[0m\u001b[0;34m,\u001b[0m \u001b[0;34m'Alonzo'\u001b[0m\u001b[0;34m)\u001b[0m\u001b[0;34m\u001b[0m\u001b[0;34m\u001b[0m\u001b[0m\n\u001b[0m",
            "\u001b[0;32m<ipython-input-4-2606d9a654eb>\u001b[0m in \u001b[0;36mscore\u001b[0;34m(sentence, sentence_masked, target_word)\u001b[0m\n\u001b[1;32m     14\u001b[0m \u001b[0;34m\u001b[0m\u001b[0m\n\u001b[1;32m     15\u001b[0m \u001b[0;32mdef\u001b[0m \u001b[0mscore\u001b[0m\u001b[0;34m(\u001b[0m\u001b[0msentence\u001b[0m\u001b[0;34m,\u001b[0m \u001b[0msentence_masked\u001b[0m\u001b[0;34m,\u001b[0m \u001b[0mtarget_word\u001b[0m\u001b[0;34m)\u001b[0m\u001b[0;34m:\u001b[0m\u001b[0;34m\u001b[0m\u001b[0;34m\u001b[0m\u001b[0m\n\u001b[0;32m---> 16\u001b[0;31m   \u001b[0mprob\u001b[0m \u001b[0;34m=\u001b[0m \u001b[0mget_prob\u001b[0m\u001b[0;34m(\u001b[0m\u001b[0msentence\u001b[0m\u001b[0;34m,\u001b[0m \u001b[0mtarget_word\u001b[0m\u001b[0;34m)\u001b[0m\u001b[0;34m\u001b[0m\u001b[0;34m\u001b[0m\u001b[0m\n\u001b[0m\u001b[1;32m     17\u001b[0m   \u001b[0mprior_prob\u001b[0m \u001b[0;34m=\u001b[0m \u001b[0mget_prob\u001b[0m\u001b[0;34m(\u001b[0m\u001b[0msentence_masked\u001b[0m\u001b[0;34m,\u001b[0m \u001b[0mtarget_word\u001b[0m\u001b[0;34m)\u001b[0m\u001b[0;34m\u001b[0m\u001b[0;34m\u001b[0m\u001b[0m\n\u001b[1;32m     18\u001b[0m   \u001b[0massociation\u001b[0m \u001b[0;34m=\u001b[0m \u001b[0mnp\u001b[0m\u001b[0;34m.\u001b[0m\u001b[0mlog\u001b[0m\u001b[0;34m(\u001b[0m\u001b[0mprob\u001b[0m\u001b[0;34m/\u001b[0m\u001b[0mprior_prob\u001b[0m\u001b[0;34m)\u001b[0m\u001b[0;34m\u001b[0m\u001b[0;34m\u001b[0m\u001b[0m\n",
            "\u001b[0;32m<ipython-input-4-2606d9a654eb>\u001b[0m in \u001b[0;36mget_prob\u001b[0;34m(sentence, target_word)\u001b[0m\n\u001b[1;32m      8\u001b[0m \u001b[0;34m\u001b[0m\u001b[0m\n\u001b[1;32m      9\u001b[0m   \u001b[0mtarget_word_id\u001b[0m \u001b[0;34m=\u001b[0m \u001b[0mtokenizer\u001b[0m\u001b[0;34m.\u001b[0m\u001b[0mencode\u001b[0m\u001b[0;34m(\u001b[0m\u001b[0mtarget_word\u001b[0m\u001b[0;34m,\u001b[0m \u001b[0madd_special_tokens\u001b[0m\u001b[0;34m=\u001b[0m\u001b[0;32mFalse\u001b[0m\u001b[0;34m)\u001b[0m\u001b[0;34m[\u001b[0m\u001b[0;36m0\u001b[0m\u001b[0;34m]\u001b[0m\u001b[0;34m\u001b[0m\u001b[0;34m\u001b[0m\u001b[0m\n\u001b[0;32m---> 10\u001b[0;31m   \u001b[0mtoken_prob\u001b[0m \u001b[0;34m=\u001b[0m \u001b[0mmask_token_logits\u001b[0m\u001b[0;34m[\u001b[0m\u001b[0;34m:\u001b[0m\u001b[0;34m,\u001b[0m \u001b[0mtarget_word_id\u001b[0m\u001b[0;34m]\u001b[0m\u001b[0;34m.\u001b[0m\u001b[0mdetach\u001b[0m\u001b[0;34m(\u001b[0m\u001b[0;34m)\u001b[0m\u001b[0;34m.\u001b[0m\u001b[0mnumpy\u001b[0m\u001b[0;34m(\u001b[0m\u001b[0;34m)\u001b[0m\u001b[0;34m[\u001b[0m\u001b[0;36m0\u001b[0m\u001b[0;34m]\u001b[0m \u001b[0;31m#sometimes get an error \"index 0 is out of bounds for axis 0 with size 0\" which means that I don't have the inex I'm trying to reference.\u001b[0m\u001b[0;34m\u001b[0m\u001b[0;34m\u001b[0m\u001b[0m\n\u001b[0m\u001b[1;32m     11\u001b[0m \u001b[0;34m\u001b[0m\u001b[0m\n\u001b[1;32m     12\u001b[0m   \u001b[0;32mreturn\u001b[0m \u001b[0mtoken_prob\u001b[0m\u001b[0;34m\u001b[0m\u001b[0;34m\u001b[0m\u001b[0m\n",
            "\u001b[0;31mIndexError\u001b[0m: index 0 is out of bounds for axis 0 with size 0"
          ]
        }
      ]
    },
    {
      "cell_type": "code",
      "metadata": {
        "colab": {
          "base_uri": "https://localhost:8080/",
          "height": 35
        },
        "id": "npwp0OaPH0S9",
        "outputId": "89a74877-8ce0-4afb-dc08-edb597a0c35c"
      },
      "source": [
        "sentence_masked"
      ],
      "execution_count": null,
      "outputs": [
        {
          "output_type": "execute_result",
          "data": {
            "application/vnd.google.colaboratory.intrinsic+json": {
              "type": "string"
            },
            "text/plain": [
              "'{person} feels {tokenizer.mask_token}.'"
            ]
          },
          "metadata": {},
          "execution_count": 115
        }
      ]
    },
    {
      "cell_type": "code",
      "metadata": {
        "id": "0zLRk0AfVgvg"
      },
      "source": [
        "\"def make_english_row(prof, word, pattern, gender, prof_gender):\n",
        "    mask = '[MASK]'\n",
        "    word = word.capitalize()\n",
        "    row = []\n",
        "\n",
        "    # for words such as 'this man' only get 'man'\n",
        "    if len(word.split()) == 2:\n",
        "        person = word.split()[1]\n",
        "    else:\n",
        "        person = word\n",
        "\n",
        "    # sentence\n",
        "    sentence = pattern.format(word, prof)\n",
        "    row.append(sentence)\n",
        "\n",
        "    # sentence: masked target\n",
        "    sent_TM = sentence.replace(person, mask)\n",
        "    row.append(sent_TM)\n",
        "\n",
        "    # sentence: masked_attribute\n",
        "    sent_AM = sentence\n",
        "    for p in prof.split():\n",
        "        sent_AM = sent_AM.replace(p, mask)\n",
        "    row.append(sent_AM)\n",
        "    # sentence: masked target and attribute\n",
        "    for p in prof.split():\n",
        "        sent_TM = sent_TM.replace(p, mask)\n",
        "    row.append(sent_TM)\n",
        "\n",
        "    # template\n",
        "    row.append(pattern.format('<person subject>', '<profession>'))\n",
        "\n",
        "    # person:\n",
        "    if len(word.split()) == 2:\n",
        "        row.append(word.split()[1])\n",
        "    else:\n",
        "        row.append(word)\n",
        "\n",
        "    # gender\n",
        "    row.append(gender)\n",
        "\n",
        "    # profession\n",
        "    row.append(prof)\n",
        "\n",
        "    # profession's (statistical) gender\n",
        "    row.append(prof_gender)\n",
        "\n",
        "    return row\n"
      ],
      "execution_count": null,
      "outputs": []
    },
    {
      "cell_type": "code",
      "metadata": {
        "id": "ztjpKYp2fYYc"
      },
      "source": [
        "from transformers import pipeline\n",
        "unmasker = pipline(\"fill-mask\", model = \"bert-base-uncased\"\n",
        "unmasker"
      ],
      "execution_count": null,
      "outputs": []
    },
    {
      "cell_type": "markdown",
      "metadata": {
        "id": "AAdySkgWSJyG"
      },
      "source": [
        "# **3. Plotting**"
      ]
    },
    {
      "cell_type": "code",
      "metadata": {
        "id": "7frzglbrSSCm"
      },
      "source": [
        ""
      ],
      "execution_count": null,
      "outputs": []
    }
  ]
}